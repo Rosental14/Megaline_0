{
 "cells": [
  {
   "cell_type": "markdown",
   "metadata": {},
   "source": [
    "<CENTER>\n",
    "    \n",
    "# MEGALINE"
   ]
  },
  {
   "cell_type": "markdown",
   "metadata": {
    "id": "eAkbw7Ueuj8X"
   },
   "source": [
    "A empresa de telecomunicações, Megaline, oferece aos clientes dois planos pré-pagos: **Surf e Ultimate**.  \n",
    "O departamento comercial deseja saber qual dos planos gera mais receita para ajustar o orçamento de publicidade.\n",
    "\n",
    "Iremos realizar uma análise preliminar dos planos com base em dados de 500 clientes: de onde são, qual plano usam e o número de chamadas e mensagens realizadas em 2018. "
   ]
  },
  {
   "cell_type": "markdown",
   "metadata": {},
   "source": [
    "**OBSERVAÇÕES IMPORTANTES:**   \n",
    "\n",
    "* A Megaline arredonda segundos para minutos e megabytes para gigabytes.   \n",
    "\n",
    "\n",
    "* Para chamadas, cada chamada individual é arredondada para cima: mesmo que uma chamada tenha durado apenas um segundo, um minuto será contado.   \n",
    "\n",
    "\n",
    "* Para tráfego da web, sessões individuais da web não são arredondadas para cima. Ao invés disso, o total do mês é arredondado para cima. Se alguém usar 1.025 megabytes no mês, a cobrança será de 2 gigabytes."
   ]
  },
  {
   "cell_type": "markdown",
   "metadata": {},
   "source": [
    "## OBJETIVO   \n",
    "\n",
    "**O objetivo deste projeto é analisar o comportamento dos clientes e determinar qual plano pré-pago gera mais receita.**"
   ]
  },
  {
   "cell_type": "markdown",
   "metadata": {
    "id": "lnomf-3Xuj8b"
   },
   "source": [
    "## IMPORTAÇÃO DAS BIBLIOTECAS"
   ]
  },
  {
   "cell_type": "code",
   "execution_count": 102,
   "metadata": {
    "id": "JdJusn5ouj8c"
   },
   "outputs": [],
   "source": [
    "### Carregando todas as bibliotecas\n",
    "import pandas as pd\n",
    "import numpy as np\n",
    "from scipy import stats as st\n",
    "import math as mt\n",
    "import seaborn as sns\n",
    "from matplotlib import pyplot as plt"
   ]
  },
  {
   "cell_type": "markdown",
   "metadata": {
    "id": "rzqsCrgquj8d"
   },
   "source": [
    "## CARREGAMENTO E PREPARAÇÃO DOS DADOS"
   ]
  },
  {
   "cell_type": "markdown",
   "metadata": {
    "id": "RmibJmmzuj8e"
   },
   "source": [
    "Os dados deste projeto estão divididos em várias tabelas (calls, internet, messages, plans e users). Exploraremos cada uma delas para obter uma compreensão inicial dos dados e faremos correções em cada tabela, se necessário."
   ]
  },
  {
   "cell_type": "code",
   "execution_count": 103,
   "metadata": {
    "id": "HmzmQRXIuj8e"
   },
   "outputs": [],
   "source": [
    "# Carregue os arquivos de dados em diferentes DataFrames\n",
    "calls = pd.read_csv('./datasets/megaline_calls.csv')\n",
    "internet = pd.read_csv('./datasets/megaline_internet.csv')\n",
    "messages = pd.read_csv('./datasets/megaline_messages.csv')\n",
    "plans = pd.read_csv('./datasets/megaline_plans.csv')\n",
    "users = pd.read_csv('./datasets/megaline_users.csv')"
   ]
  },
  {
   "cell_type": "markdown",
   "metadata": {
    "id": "TlZUw_Cyuj8f"
   },
   "source": [
    "### Tabela Planos"
   ]
  },
  {
   "cell_type": "code",
   "execution_count": 104,
   "metadata": {
    "id": "x9qB5mAOuj8f"
   },
   "outputs": [
    {
     "name": "stdout",
     "output_type": "stream",
     "text": [
      "   messages_included  mb_per_month_included  minutes_included  \\\n",
      "0                 50                  15360               500   \n",
      "1               1000                  30720              3000   \n",
      "\n",
      "   usd_monthly_pay  usd_per_gb  usd_per_message  usd_per_minute plan_name  \n",
      "0               20          10             0.03            0.03      surf  \n",
      "1               70           7             0.01            0.01  ultimate  \n",
      "\n",
      "<class 'pandas.core.frame.DataFrame'>\n",
      "RangeIndex: 2 entries, 0 to 1\n",
      "Data columns (total 8 columns):\n",
      " #   Column                 Non-Null Count  Dtype  \n",
      "---  ------                 --------------  -----  \n",
      " 0   messages_included      2 non-null      int64  \n",
      " 1   mb_per_month_included  2 non-null      int64  \n",
      " 2   minutes_included       2 non-null      int64  \n",
      " 3   usd_monthly_pay        2 non-null      int64  \n",
      " 4   usd_per_gb             2 non-null      int64  \n",
      " 5   usd_per_message        2 non-null      float64\n",
      " 6   usd_per_minute         2 non-null      float64\n",
      " 7   plan_name              2 non-null      object \n",
      "dtypes: float64(2), int64(5), object(1)\n",
      "memory usage: 260.0+ bytes\n"
     ]
    }
   ],
   "source": [
    "print(plans.head())\n",
    "print()\n",
    "plans.info()"
   ]
  },
  {
   "cell_type": "markdown",
   "metadata": {
    "id": "P8hzr-lquj8f"
   },
   "source": [
    "O DataFrame tem somente 2 linhas que descrevem as informações dos planos e não possuem dados ausentes. O único ponto a ser alterado nesses dados é transformar os tipos de dados das colunas que envolvem valores financeiros para 'float' e a coluna 'plan_name' para o tipo de dados de categoria."
   ]
  },
  {
   "cell_type": "markdown",
   "metadata": {
    "id": "KXtaxmKsuj8f"
   },
   "source": [
    "#### Correção dos dados"
   ]
  },
  {
   "cell_type": "code",
   "execution_count": 105,
   "metadata": {
    "id": "Hen8bhG1uj8g"
   },
   "outputs": [
    {
     "name": "stdout",
     "output_type": "stream",
     "text": [
      "<class 'pandas.core.frame.DataFrame'>\n",
      "RangeIndex: 2 entries, 0 to 1\n",
      "Data columns (total 8 columns):\n",
      " #   Column                 Non-Null Count  Dtype   \n",
      "---  ------                 --------------  -----   \n",
      " 0   messages_included      2 non-null      int64   \n",
      " 1   mb_per_month_included  2 non-null      int64   \n",
      " 2   minutes_included       2 non-null      int64   \n",
      " 3   usd_monthly_pay        2 non-null      float64 \n",
      " 4   usd_per_gb             2 non-null      float64 \n",
      " 5   usd_per_message        2 non-null      float64 \n",
      " 6   usd_per_minute         2 non-null      float64 \n",
      " 7   plan_name              2 non-null      category\n",
      "dtypes: category(1), float64(4), int64(3)\n",
      "memory usage: 370.0 bytes\n"
     ]
    }
   ],
   "source": [
    "plans['usd_monthly_pay'] = plans['usd_monthly_pay'].astype('float')\n",
    "plans['usd_per_gb'] = plans['usd_per_gb'].astype('float')\n",
    "plans['plan_name'] = plans['plan_name'].astype('category')\n",
    "\n",
    "plans.info()"
   ]
  },
  {
   "cell_type": "markdown",
   "metadata": {
    "id": "YJg2O9qjuj8g"
   },
   "source": [
    "### Tabela Usuários"
   ]
  },
  {
   "cell_type": "code",
   "execution_count": 106,
   "metadata": {
    "id": "7JzxwD2juj8g"
   },
   "outputs": [
    {
     "name": "stdout",
     "output_type": "stream",
     "text": [
      "<class 'pandas.core.frame.DataFrame'>\n",
      "RangeIndex: 500 entries, 0 to 499\n",
      "Data columns (total 8 columns):\n",
      " #   Column      Non-Null Count  Dtype \n",
      "---  ------      --------------  ----- \n",
      " 0   user_id     500 non-null    int64 \n",
      " 1   first_name  500 non-null    object\n",
      " 2   last_name   500 non-null    object\n",
      " 3   age         500 non-null    int64 \n",
      " 4   city        500 non-null    object\n",
      " 5   reg_date    500 non-null    object\n",
      " 6   plan        500 non-null    object\n",
      " 7   churn_date  34 non-null     object\n",
      "dtypes: int64(2), object(6)\n",
      "memory usage: 31.4+ KB\n",
      "\n",
      "   user_id first_name  last_name  age                                   city  \\\n",
      "0     1000   Anamaria      Bauer   45  Atlanta-Sandy Springs-Roswell, GA MSA   \n",
      "1     1001     Mickey  Wilkerson   28        Seattle-Tacoma-Bellevue, WA MSA   \n",
      "2     1002     Carlee    Hoffman   36   Las Vegas-Henderson-Paradise, NV MSA   \n",
      "3     1003   Reynaldo    Jenkins   52                          Tulsa, OK MSA   \n",
      "4     1004    Leonila   Thompson   40        Seattle-Tacoma-Bellevue, WA MSA   \n",
      "\n",
      "     reg_date      plan churn_date  \n",
      "0  2018-12-24  ultimate        NaN  \n",
      "1  2018-08-13      surf        NaN  \n",
      "2  2018-10-21      surf        NaN  \n",
      "3  2018-01-28      surf        NaN  \n",
      "4  2018-05-23      surf        NaN  \n"
     ]
    }
   ],
   "source": [
    "# Imprima as informações gerais/resumidas sobre o DataFrame dos usuários\n",
    "users.info()\n",
    "print()\n",
    "print(users.head(5))"
   ]
  },
  {
   "cell_type": "markdown",
   "metadata": {
    "id": "XGCgkfLvuj8h"
   },
   "source": [
    "O DataFrame não apresenta dados ausentes (apresenta somente na coluna churn_date, porém isso já é esperado e significa que o plano estava em uso quando o banco de dados foi extraído, portanto não existe uma data de cancelamento).\n",
    "\n",
    "Temos alguns problemas quanto aos tipos de dados: \n",
    "- a coluna 'user_id' deve ser tratada como objeto, pois não há necessidade de operações com um id de usuário;\n",
    "- As colunas 'reg_date' e 'churn_date' devem ser do tipo data e não objeto;\n",
    "- A coluna 'plans' deve ser do tipo de categoria, pois representa um conjunto de categorias, além de economizar memória.\n",
    "\n",
    "Uma forma de melhorar os dados é separar os nomes das cidades dos estados, criando uma nova coluna somente com os estados."
   ]
  },
  {
   "cell_type": "markdown",
   "metadata": {
    "id": "ppiEfe3luj8i"
   },
   "source": [
    "#### Correção dos dados"
   ]
  },
  {
   "cell_type": "code",
   "execution_count": 107,
   "metadata": {
    "id": "Oa1XFooouj8j"
   },
   "outputs": [
    {
     "name": "stdout",
     "output_type": "stream",
     "text": [
      "  user_id first_name  last_name  age                                   city  \\\n",
      "0    1000   Anamaria      Bauer   45  Atlanta-Sandy Springs-Roswell, GA MSA   \n",
      "1    1001     Mickey  Wilkerson   28        Seattle-Tacoma-Bellevue, WA MSA   \n",
      "2    1002     Carlee    Hoffman   36   Las Vegas-Henderson-Paradise, NV MSA   \n",
      "3    1003   Reynaldo    Jenkins   52                          Tulsa, OK MSA   \n",
      "4    1004    Leonila   Thompson   40        Seattle-Tacoma-Bellevue, WA MSA   \n",
      "\n",
      "    reg_date      plan churn_date  \n",
      "0 2018-12-24  ultimate        NaT  \n",
      "1 2018-08-13      surf        NaT  \n",
      "2 2018-10-21      surf        NaT  \n",
      "3 2018-01-28      surf        NaT  \n",
      "4 2018-05-23      surf        NaT  \n",
      "\n",
      "<class 'pandas.core.frame.DataFrame'>\n",
      "RangeIndex: 500 entries, 0 to 499\n",
      "Data columns (total 8 columns):\n",
      " #   Column      Non-Null Count  Dtype         \n",
      "---  ------      --------------  -----         \n",
      " 0   user_id     500 non-null    object        \n",
      " 1   first_name  500 non-null    object        \n",
      " 2   last_name   500 non-null    object        \n",
      " 3   age         500 non-null    int64         \n",
      " 4   city        500 non-null    object        \n",
      " 5   reg_date    500 non-null    datetime64[ns]\n",
      " 6   plan        500 non-null    category      \n",
      " 7   churn_date  34 non-null     datetime64[ns]\n",
      "dtypes: category(1), datetime64[ns](2), int64(1), object(4)\n",
      "memory usage: 28.1+ KB\n"
     ]
    }
   ],
   "source": [
    "users['user_id'] = users['user_id'].astype('object')\n",
    "users['reg_date'] = pd.to_datetime(users['reg_date'], format = '%Y-%m-%d')\n",
    "users['churn_date'] = pd.to_datetime(users['churn_date'], format = '%Y-%m-%d')\n",
    "users['plan'] = users['plan'].astype('category')\n",
    "\n",
    "print(users.head(5))\n",
    "print()\n",
    "users.info()"
   ]
  },
  {
   "cell_type": "markdown",
   "metadata": {
    "id": "H3gpde3Juj8j"
   },
   "source": [
    "#### Enriquecimento dos dados"
   ]
  },
  {
   "cell_type": "markdown",
   "metadata": {},
   "source": [
    "Vamos separar os nomes das cidades dos estados, criando uma nova coluna somente com os estados para facilitar futuras filtragens"
   ]
  },
  {
   "cell_type": "code",
   "execution_count": 108,
   "metadata": {
    "id": "4vuUjT2juj8j"
   },
   "outputs": [
    {
     "name": "stdout",
     "output_type": "stream",
     "text": [
      "['AL MSA' 'AZ MSA' 'CA MSA' 'CO MSA' 'CT MSA' 'DC-VA-MD-WV MSA' 'FL MSA'\n",
      " 'GA MSA' 'HI MSA' 'IL-IN-WI MSA' 'IN MSA' 'KY-IN MSA' 'LA MSA'\n",
      " 'MA-NH MSA' 'MD MSA' 'MI MSA' 'MN-WI MSA' 'MO-IL MSA' 'MO-KS MSA'\n",
      " 'NC MSA' 'NC-SC MSA' 'NE-IA MSA' 'NM MSA' 'NV MSA' 'NY MSA'\n",
      " 'NY-NJ-PA MSA' 'OH MSA' 'OH-KY-IN MSA' 'OK MSA' 'OR-WA MSA' 'PA MSA'\n",
      " 'PA-NJ-DE-MD MSA' 'RI-MA MSA' 'SC MSA' 'TN MSA' 'TN-MS-AR MSA' 'TX MSA'\n",
      " 'UT MSA' 'VA MSA' 'VA-NC MSA' 'WA MSA' 'WI MSA']\n"
     ]
    }
   ],
   "source": [
    "users[['cidade', 'estado']] = users['city'].str.split(',', expand = True)\n",
    "users['estado'] = users['estado'].str.strip() #retirando os espaços desnecessários após separação dos nomes das cidades\n",
    "\n",
    "states = users['estado'].sort_values(ascending=True)\n",
    "print(states.unique()) #verificando alguma possível duplicidade"
   ]
  },
  {
   "cell_type": "markdown",
   "metadata": {
    "id": "f4uSIMuuuj8j"
   },
   "source": [
    "### Tabela Chamadas"
   ]
  },
  {
   "cell_type": "code",
   "execution_count": 109,
   "metadata": {
    "id": "hkY01fJnuj8j"
   },
   "outputs": [
    {
     "name": "stdout",
     "output_type": "stream",
     "text": [
      "              id  user_id   call_date  duration\n",
      "76036   1268_540     1268  2018-12-30      6.72\n",
      "127597  1456_577     1456  2018-07-07      7.12\n",
      "45843    1166_26     1166  2018-12-30      7.01\n",
      "102950  1365_146     1365  2018-09-30      1.25\n",
      "4913    1022_179     1022  2018-11-14      4.99\n",
      "\n",
      "<class 'pandas.core.frame.DataFrame'>\n",
      "RangeIndex: 137735 entries, 0 to 137734\n",
      "Data columns (total 4 columns):\n",
      " #   Column     Non-Null Count   Dtype  \n",
      "---  ------     --------------   -----  \n",
      " 0   id         137735 non-null  object \n",
      " 1   user_id    137735 non-null  int64  \n",
      " 2   call_date  137735 non-null  object \n",
      " 3   duration   137735 non-null  float64\n",
      "dtypes: float64(1), int64(1), object(2)\n",
      "memory usage: 4.2+ MB\n"
     ]
    }
   ],
   "source": [
    "print(calls.sample(5))\n",
    "print()\n",
    "calls.info()"
   ]
  },
  {
   "cell_type": "markdown",
   "metadata": {
    "id": "Y8An85-Tuj8k"
   },
   "source": [
    "O DataFrame calls não apresenta dados ausentes em nenhuma coluna, porém temos alguns problemas de tipos de dados, como:\n",
    "- A coluna 'user_id' deve ser convertida para o tipo object;\n",
    "- A coluna 'call_date' deve ser convertida para o tipo datetime64;"
   ]
  },
  {
   "cell_type": "markdown",
   "metadata": {
    "id": "x5a99U4xuj8k"
   },
   "source": [
    "#### Correção dos dados"
   ]
  },
  {
   "cell_type": "code",
   "execution_count": 110,
   "metadata": {
    "id": "lBjdw0Bnuj8l"
   },
   "outputs": [
    {
     "name": "stdout",
     "output_type": "stream",
     "text": [
      "<class 'pandas.core.frame.DataFrame'>\n",
      "RangeIndex: 137735 entries, 0 to 137734\n",
      "Data columns (total 4 columns):\n",
      " #   Column     Non-Null Count   Dtype         \n",
      "---  ------     --------------   -----         \n",
      " 0   id         137735 non-null  object        \n",
      " 1   user_id    137735 non-null  object        \n",
      " 2   call_date  137735 non-null  datetime64[ns]\n",
      " 3   duration   137735 non-null  float64       \n",
      "dtypes: datetime64[ns](1), float64(1), object(2)\n",
      "memory usage: 4.2+ MB\n"
     ]
    }
   ],
   "source": [
    "calls['user_id'] = calls['user_id'].astype('object')\n",
    "calls['call_date'] = pd.to_datetime(calls['call_date'], format = '%Y-%m-%d')\n",
    "calls.info()"
   ]
  },
  {
   "cell_type": "markdown",
   "metadata": {
    "id": "MFm5xyh4uj8l"
   },
   "source": [
    "#### Enriquecimento dos dados"
   ]
  },
  {
   "cell_type": "markdown",
   "metadata": {},
   "source": [
    "Com base na informação de que cada chamada individual é arredondada para cima (mesmo que uma chamada tenha durado apenas um segundo, um minuto será contado), vamos criar uma coluna com a duração das chamadas arredondadas, pois isto nos será útil nas análises.  \n",
    "\n",
    "Também criaremos uma coluna somente com o mês da ligação."
   ]
  },
  {
   "cell_type": "code",
   "execution_count": 111,
   "metadata": {},
   "outputs": [
    {
     "name": "stdout",
     "output_type": "stream",
     "text": [
      "              id user_id  call_date  duration  duration_rounded  call_month\n",
      "107289   1381_26    1381 2018-09-17     10.27                11           9\n",
      "33914   1126_818    1126 2018-07-09      3.19                 4           7\n",
      "68664   1246_683    1246 2018-02-07     19.63                20           2\n",
      "177     1001_322    1001 2018-09-20      0.00                 0           9\n",
      "22889   1083_228    1083 2018-11-24      9.90                10          11\n"
     ]
    }
   ],
   "source": [
    "# Criando a coluna com duração arredondada da chamada\n",
    "calls['duration_rounded'] = calls['duration'].apply(lambda x: mt.ceil(x))\n",
    "calls['duration_rounded'] = calls['duration_rounded'].astype('int')\n",
    "\n",
    "# criando a coluna com o mês da chamada para agrupamento posterior\n",
    "calls['call_month'] = calls['call_date'].dt.month\n",
    "\n",
    "print(calls.sample(5))"
   ]
  },
  {
   "cell_type": "markdown",
   "metadata": {
    "id": "qLz4FkyRuj8l"
   },
   "source": [
    "### Tabela Mensagens"
   ]
  },
  {
   "cell_type": "code",
   "execution_count": 112,
   "metadata": {
    "id": "nFA9DFkCuj8l"
   },
   "outputs": [
    {
     "name": "stdout",
     "output_type": "stream",
     "text": [
      "             id  user_id message_date\n",
      "27856  1172_313     1172   2018-09-07\n",
      "30716  1193_430     1193   2018-12-09\n",
      "40820  1261_489     1261   2018-06-24\n",
      "3410   1036_245     1036   2018-08-18\n",
      "38904  1254_647     1254   2018-09-18\n",
      "\n",
      "<class 'pandas.core.frame.DataFrame'>\n",
      "RangeIndex: 76051 entries, 0 to 76050\n",
      "Data columns (total 3 columns):\n",
      " #   Column        Non-Null Count  Dtype \n",
      "---  ------        --------------  ----- \n",
      " 0   id            76051 non-null  object\n",
      " 1   user_id       76051 non-null  int64 \n",
      " 2   message_date  76051 non-null  object\n",
      "dtypes: int64(1), object(2)\n",
      "memory usage: 1.7+ MB\n"
     ]
    }
   ],
   "source": [
    "print(messages.sample(5))\n",
    "print()\n",
    "messages.info()"
   ]
  },
  {
   "cell_type": "markdown",
   "metadata": {
    "id": "GUtt1TqCuj8m"
   },
   "source": [
    "O DataFrame messages não apresenta dados ausentes em nenhuma coluna, porém temos alguns problemas de tipos de dados, como:\n",
    "- A coluna 'user_id' deve ser convertida para o tipo object;\n",
    "- A coluna 'message_date' deve ser convertida para o tipo datetime64;"
   ]
  },
  {
   "cell_type": "markdown",
   "metadata": {
    "id": "tT8N_hc6uj8m"
   },
   "source": [
    "#### Correção dos dados"
   ]
  },
  {
   "cell_type": "code",
   "execution_count": 113,
   "metadata": {
    "id": "SpBqbQHCuj8m"
   },
   "outputs": [
    {
     "name": "stdout",
     "output_type": "stream",
     "text": [
      "<class 'pandas.core.frame.DataFrame'>\n",
      "RangeIndex: 76051 entries, 0 to 76050\n",
      "Data columns (total 3 columns):\n",
      " #   Column        Non-Null Count  Dtype         \n",
      "---  ------        --------------  -----         \n",
      " 0   id            76051 non-null  object        \n",
      " 1   user_id       76051 non-null  object        \n",
      " 2   message_date  76051 non-null  datetime64[ns]\n",
      "dtypes: datetime64[ns](1), object(2)\n",
      "memory usage: 1.7+ MB\n"
     ]
    }
   ],
   "source": [
    "messages['user_id'] = messages['user_id'].astype('object')\n",
    "messages['message_date'] = pd.to_datetime(messages['message_date'], format = '%Y-%m-%d')\n",
    "messages.info()"
   ]
  },
  {
   "cell_type": "markdown",
   "metadata": {
    "id": "feV2Njo9uj8n"
   },
   "source": [
    "#### Enriquecimento dos dados"
   ]
  },
  {
   "cell_type": "markdown",
   "metadata": {},
   "source": [
    "Vamos criar uma coluna somente com o mês do envio da mensagem "
   ]
  },
  {
   "cell_type": "code",
   "execution_count": 114,
   "metadata": {
    "id": "SkuCXcLJuj8n"
   },
   "outputs": [
    {
     "name": "stdout",
     "output_type": "stream",
     "text": [
      "             id user_id message_date  message_month\n",
      "23051   1138_75    1138   2018-12-03             12\n",
      "55322  1347_359    1347   2018-10-07             10\n",
      "65103   1416_95    1416   2018-11-12             11\n",
      "42692  1280_211    1280   2018-12-02             12\n",
      "60893  1383_120    1383   2018-12-15             12\n"
     ]
    }
   ],
   "source": [
    "messages['message_month'] = messages['message_date'].dt.month\n",
    "print(messages.sample(5))"
   ]
  },
  {
   "cell_type": "markdown",
   "metadata": {
    "id": "ZRFaOWzGuj8n"
   },
   "source": [
    "### Tabela Internet"
   ]
  },
  {
   "cell_type": "code",
   "execution_count": 115,
   "metadata": {
    "id": "ob3-qv4nuj8n"
   },
   "outputs": [
    {
     "name": "stdout",
     "output_type": "stream",
     "text": [
      "             id  user_id session_date  mb_used\n",
      "57467    1259_6     1259   2018-05-28   593.74\n",
      "50347  1224_175     1224   2018-09-27     0.00\n",
      "73741  1346_323     1346   2018-05-28   547.07\n",
      "98476  1465_428     1465   2018-08-31   205.31\n",
      "97641  1460_245     1460   2018-10-24   160.84\n",
      "\n",
      "<class 'pandas.core.frame.DataFrame'>\n",
      "RangeIndex: 104825 entries, 0 to 104824\n",
      "Data columns (total 4 columns):\n",
      " #   Column        Non-Null Count   Dtype  \n",
      "---  ------        --------------   -----  \n",
      " 0   id            104825 non-null  object \n",
      " 1   user_id       104825 non-null  int64  \n",
      " 2   session_date  104825 non-null  object \n",
      " 3   mb_used       104825 non-null  float64\n",
      "dtypes: float64(1), int64(1), object(2)\n",
      "memory usage: 3.2+ MB\n"
     ]
    }
   ],
   "source": [
    "print(internet.sample(5))\n",
    "print()\n",
    "internet.info()"
   ]
  },
  {
   "cell_type": "markdown",
   "metadata": {
    "id": "6wpo7ugquj8o"
   },
   "source": [
    "O DataFrame internet não apresenta dados ausentes em nenhuma coluna, porém temos alguns problemas de tipos de dados, como:\n",
    "\n",
    "- A coluna 'user_id' deve ser convertida para o tipo object;\n",
    "- A coluna 'session_date' deve ser convertida para o tipo datetime64;"
   ]
  },
  {
   "cell_type": "markdown",
   "metadata": {
    "id": "Tly90YrTuj8o"
   },
   "source": [
    "#### Correção dos dados"
   ]
  },
  {
   "cell_type": "code",
   "execution_count": 116,
   "metadata": {
    "id": "GCoX7kbmuj8o"
   },
   "outputs": [
    {
     "name": "stdout",
     "output_type": "stream",
     "text": [
      "<class 'pandas.core.frame.DataFrame'>\n",
      "RangeIndex: 104825 entries, 0 to 104824\n",
      "Data columns (total 4 columns):\n",
      " #   Column        Non-Null Count   Dtype         \n",
      "---  ------        --------------   -----         \n",
      " 0   id            104825 non-null  object        \n",
      " 1   user_id       104825 non-null  object        \n",
      " 2   session_date  104825 non-null  datetime64[ns]\n",
      " 3   mb_used       104825 non-null  float64       \n",
      "dtypes: datetime64[ns](1), float64(1), object(2)\n",
      "memory usage: 3.2+ MB\n"
     ]
    }
   ],
   "source": [
    "internet['user_id'] = internet['user_id'].astype('object')\n",
    "internet['session_date'] = pd.to_datetime(internet['session_date'], format = '%Y-%m-%d')\n",
    "internet.info()"
   ]
  },
  {
   "cell_type": "markdown",
   "metadata": {
    "id": "DEDbrtFduj8o"
   },
   "source": [
    "#### Enriquecimento dos dados"
   ]
  },
  {
   "cell_type": "markdown",
   "metadata": {},
   "source": [
    "Conforme a informação de que para tráfego da web, sessões individuais da web não são arredondadas para cima. \n",
    "Porém, o total do mês é arredondado para cima. Iremos criar uma coluna com somente o mês da sessão"
   ]
  },
  {
   "cell_type": "code",
   "execution_count": 117,
   "metadata": {
    "id": "f1PoZ3Ukuj8p"
   },
   "outputs": [
    {
     "name": "stdout",
     "output_type": "stream",
     "text": [
      "             id user_id session_date  mb_used  session_month\n",
      "71234  1332_207    1332   2018-08-14     0.00              8\n",
      "79481  1370_236    1370   2018-12-14   341.05             12\n",
      "15567  1071_165    1071   2018-06-21   197.04              6\n",
      "99213  1467_350    1467   2018-10-06   500.52             10\n",
      "8009    1043_54    1043   2018-10-12   506.97             10\n"
     ]
    }
   ],
   "source": [
    "internet['session_month'] = internet['session_date'].dt.month\n",
    "print(internet.sample(5))"
   ]
  },
  {
   "cell_type": "markdown",
   "metadata": {
    "id": "bnOX4ARJuj8p"
   },
   "source": [
    "## ESTUDO DAS CONDIÇÕES DOS PLANOS"
   ]
  },
  {
   "cell_type": "code",
   "execution_count": 118,
   "metadata": {
    "id": "vMXVndWEuj8p"
   },
   "outputs": [
    {
     "name": "stdout",
     "output_type": "stream",
     "text": [
      "   messages_included  mb_per_month_included  minutes_included  \\\n",
      "0                 50                  15360               500   \n",
      "1               1000                  30720              3000   \n",
      "\n",
      "   usd_monthly_pay  usd_per_gb  usd_per_message  usd_per_minute plan_name  \n",
      "0             20.0        10.0             0.03            0.03      surf  \n",
      "1             70.0         7.0             0.01            0.01  ultimate  \n"
     ]
    }
   ],
   "source": [
    "# Imprimindo as condições dos planos para análise\n",
    "print(plans.head())"
   ]
  },
  {
   "cell_type": "markdown",
   "metadata": {
    "id": "1v1EshDmuj8q"
   },
   "source": [
    "### Agregação dos dados por usuário"
   ]
  },
  {
   "cell_type": "markdown",
   "metadata": {},
   "source": [
    "Nesta etapa iremos agregar os resultados por usuário por mês para calcular:\n",
    "\n",
    "* Número de chamadas feitas por cada usuário por mês;\n",
    "\n",
    "* Quantidade de minutos gastos por cada usuário por mês;\n",
    "\n",
    "* Número de mensagens enviadas por cada usuário por mês;\n",
    "\n",
    "* Volume de tráfego de internet usado por cada usuário por mês"
   ]
  },
  {
   "cell_type": "code",
   "execution_count": 119,
   "metadata": {
    "id": "4hmb2pSPuj8q"
   },
   "outputs": [
    {
     "name": "stdout",
     "output_type": "stream",
     "text": [
      "user_id  call_month\n",
      "1000     12            16\n",
      "1001     8             27\n",
      "         9             49\n",
      "         10            65\n",
      "         11            64\n",
      "Name: id, dtype: int64\n"
     ]
    }
   ],
   "source": [
    "# Calculando o número de chamadas feitas por cada usuário por mês\n",
    "calls_per_user = calls.merge(users, on= 'user_id')\n",
    "calls_per_user = calls_per_user.groupby(['user_id', 'call_month'])['id'].count()\n",
    "print(calls_per_user.head(5))"
   ]
  },
  {
   "cell_type": "code",
   "execution_count": 120,
   "metadata": {
    "id": "yHgBWCJJuj8q"
   },
   "outputs": [
    {
     "name": "stdout",
     "output_type": "stream",
     "text": [
      "user_id  call_month\n",
      "1000     12            124\n",
      "1001     8             182\n",
      "         9             315\n",
      "         10            393\n",
      "         11            426\n",
      "Name: duration_rounded, dtype: int32\n"
     ]
    }
   ],
   "source": [
    "# Calculando a quantidade de minutos gastos por cada usuário por mês.\n",
    "minutes_per_user = calls.merge(users, on= 'user_id')\n",
    "minutes_per_user = minutes_per_user.groupby(['user_id', 'call_month'])['duration_rounded'].sum()\n",
    "print(minutes_per_user.head(5))"
   ]
  },
  {
   "cell_type": "code",
   "execution_count": 121,
   "metadata": {
    "id": "MaM_cPxauj8q"
   },
   "outputs": [
    {
     "name": "stdout",
     "output_type": "stream",
     "text": [
      "user_id  message_month\n",
      "1000     12               11\n",
      "1001     8                30\n",
      "         9                44\n",
      "         10               53\n",
      "         11               36\n",
      "Name: id, dtype: int64\n"
     ]
    }
   ],
   "source": [
    "# Calculando o número de mensagens enviadas por cada usuário por mês\n",
    "messages_per_user = messages.merge(users, on= 'user_id')\n",
    "messages_per_user = messages_per_user.groupby(['user_id', 'message_month'])['id'].count()\n",
    "print(messages_per_user.head(5))"
   ]
  },
  {
   "cell_type": "code",
   "execution_count": 122,
   "metadata": {
    "id": "WsCEZJ_xuj8q"
   },
   "outputs": [
    {
     "name": "stdout",
     "output_type": "stream",
     "text": [
      "user_id  session_month\n",
      "1000     12                1901.47\n",
      "1001     8                 6919.15\n",
      "         9                13314.82\n",
      "         10               22330.49\n",
      "         11               18504.30\n",
      "Name: mb_used, dtype: float64\n"
     ]
    }
   ],
   "source": [
    "# Calculando o volume de tráfego de internet usado por cada usuário por mês\n",
    "mb_used_per_user = internet.merge(users, on= 'user_id')\n",
    "mb_used_per_user = mb_used_per_user.groupby(['user_id', 'session_month'])['mb_used'].sum()\n",
    "print(mb_used_per_user.head(5))"
   ]
  },
  {
   "cell_type": "markdown",
   "metadata": {},
   "source": [
    "### Agora vamos concatenar todos esses dados em um DataFrame"
   ]
  },
  {
   "cell_type": "code",
   "execution_count": 123,
   "metadata": {
    "id": "BYDTkxOauj8r"
   },
   "outputs": [
    {
     "name": "stdout",
     "output_type": "stream",
     "text": [
      "   user_id  month  calls  minutes  messages  mb_rounded\n",
      "0     1000     12     16      124        11        1902\n",
      "1     1001      8     27      182        30        6920\n",
      "2     1001      9     49      315        44       13315\n",
      "3     1001     10     65      393        53       22331\n",
      "4     1001     11     64      426        36       18505\n"
     ]
    }
   ],
   "source": [
    "# Concatenando os dados de chamadas, minutos, mensagens e internet com base em user_id e month\n",
    "df_concat = pd.concat([calls_per_user, minutes_per_user, messages_per_user, mb_used_per_user], axis = 'columns')\n",
    "df_concat = df_concat.reset_index()\n",
    "\n",
    "df_concat.columns = ['user_id', 'month', 'calls', 'minutes', 'messages', 'mb_used']\n",
    "columns_to_replace = ['calls', 'minutes', 'messages', 'mb_used']\n",
    "\n",
    "for col in columns_to_replace:\n",
    "    df_concat.fillna({col: 0}, inplace = True)\n",
    "\n",
    "# Criando uma coluna com a quantidade arredondada de mb de internet consumida\n",
    "# Somando 0.99 para converter os dados para int, mas sempre arredondando para cima\n",
    "df_concat['mb_rounded'] = df_concat['mb_used'] + 0.99\n",
    "df_concat['mb_rounded'] = df_concat['mb_rounded'].astype('int')\n",
    "\n",
    "# Convertendo todas as outras colunas para 'int'\n",
    "df_concat['calls'] = df_concat['calls'].astype('int')\n",
    "df_concat['minutes'] = df_concat['minutes'].astype('int')\n",
    "df_concat['messages'] = df_concat['messages'].astype('int')\n",
    "\n",
    "# Removendo a coluna 'mb_used', pois criamos uma coluna 'mb_rounded' já com valores arredondados\n",
    "df_concat = df_concat.drop('mb_used', axis = 'columns')\n",
    "\n",
    "print(df_concat.head())"
   ]
  },
  {
   "cell_type": "markdown",
   "metadata": {},
   "source": [
    "### Agora vamos adicionar a este DataFrame as informações sobre os usuários e os planos"
   ]
  },
  {
   "cell_type": "code",
   "execution_count": 124,
   "metadata": {
    "id": "SW-sgLaHuj8r",
    "scrolled": false
   },
   "outputs": [
    {
     "name": "stdout",
     "output_type": "stream",
     "text": [
      "     user_id  month  calls  minutes  messages  mb_rounded first_name  \\\n",
      "1562    1346      5     33      250        53       17789      Emmie   \n",
      "1982    1434      7     74      514        48       13131        Kai   \n",
      "1545    1340     10     70      441        62           0      Vanna   \n",
      "\n",
      "     last_name  age                                       city  ...  \\\n",
      "1562  Gonzalez   59                             Tucson, AZ MSA  ...   \n",
      "1982      Barr   18  New York-Newark-Jersey City, NY-NJ-PA MSA  ...   \n",
      "1545   Stanton   65        Dallas-Fort Worth-Arlington, TX MSA  ...   \n",
      "\n",
      "                           cidade        estado messages_included  \\\n",
      "1562                       Tucson        AZ MSA              1000   \n",
      "1982  New York-Newark-Jersey City  NY-NJ-PA MSA                50   \n",
      "1545  Dallas-Fort Worth-Arlington        TX MSA                50   \n",
      "\n",
      "     mb_per_month_included  minutes_included  usd_monthly_pay  usd_per_gb  \\\n",
      "1562                 30720              3000             70.0         7.0   \n",
      "1982                 15360               500             20.0        10.0   \n",
      "1545                 15360               500             20.0        10.0   \n",
      "\n",
      "      usd_per_message  usd_per_minute  plan_name  \n",
      "1562             0.01            0.01   ultimate  \n",
      "1982             0.03            0.03       surf  \n",
      "1545             0.03            0.03       surf  \n",
      "\n",
      "[3 rows x 22 columns]\n"
     ]
    }
   ],
   "source": [
    "df_concat_plan = df_concat.merge(users, on= 'user_id')\n",
    "\n",
    "df_complete = df_concat_plan.merge(plans, left_on= 'plan', right_on = 'plan_name')\n",
    "df_complete = df_complete.drop('plan', axis = 'columns')\n",
    "\n",
    "print(df_complete.sample(3))"
   ]
  },
  {
   "cell_type": "markdown",
   "metadata": {},
   "source": [
    "### Vamos calcular a receita mensal para cada usuário"
   ]
  },
  {
   "cell_type": "code",
   "execution_count": 125,
   "metadata": {
    "id": "JiPHXbQAuj8r"
   },
   "outputs": [
    {
     "name": "stdout",
     "output_type": "stream",
     "text": [
      "1172    35.72\n",
      "893     70.00\n",
      "1730    84.34\n",
      "1671    53.44\n",
      "929     20.00\n",
      "Name: monthly_income, dtype: float64\n"
     ]
    }
   ],
   "source": [
    "# Calculando e criando colunas com as informações de minutos, mensagens e gb extras consumidos pelos usuários \n",
    "df_complete['ext_min'] = ((df_complete['minutes'] - df_complete['minutes_included']) *  df_complete['usd_per_minute'])\n",
    "df_complete['ext_messages'] = ((df_complete['messages'] - df_complete['messages_included']) *  df_complete['usd_per_message']) \n",
    "df_complete['ext_gb'] = ((df_complete['mb_rounded'] - df_complete['mb_per_month_included'])/1000 *  df_complete['usd_per_gb'])\n",
    "\n",
    "# Usando where para substituir resultados negativos por 0\n",
    "df_complete['ext_min'] = df_complete['ext_min'].where(df_complete['ext_min'] > 0, 0)\n",
    "df_complete['ext_messages'] = df_complete['ext_messages'].where(df_complete['ext_messages'] > 0, 0)\n",
    "df_complete['ext_gb'] = df_complete['ext_gb'].where(df_complete['ext_gb'] > 0, 0)\n",
    "\n",
    "# Calculando a receita mensal por usuário\n",
    "df_complete['monthly_income'] = df_complete['usd_monthly_pay'] + df_complete['ext_min'] + df_complete['ext_messages'] + df_complete['ext_gb']\n",
    "\n",
    "print(df_complete['monthly_income'].sample(5))"
   ]
  },
  {
   "cell_type": "markdown",
   "metadata": {
    "id": "0HFWXKTQuj8r"
   },
   "source": [
    "## ESTUDO DO COMPORTAMENTO DO USUÁRIO"
   ]
  },
  {
   "cell_type": "markdown",
   "metadata": {},
   "source": [
    "Nesta etapa iremos realizar o estudo do comportamento dos usuários realizando uma série de comparações entre médias e somatórios dos planos em questão.  \n",
    "\n",
    "Para isso, criaremos 2 funções (uma para comparação de médias e uma para comparação de somatórios), depois chamaremos essas funções para obtermos os resultados nas variáveis desejadas e plotaremos gráficos de barras, histogramas e boxplots para facilitar a visualização dos resultados."
   ]
  },
  {
   "cell_type": "code",
   "execution_count": 126,
   "metadata": {},
   "outputs": [],
   "source": [
    "# Criando a função de comparação de médias\n",
    "def comparison_mean(df, column):\n",
    "    \n",
    "    # Vamos agrupar por nome do plano e mês. Depois calcular a média da coluna desejada\n",
    "    parcial_mean = df.groupby(['plan_name', 'month'], observed=False)[column].mean()\n",
    "    parcial_mean = parcial_mean.reset_index()\n",
    "    \n",
    "    # Vamos filtrar, separando os dados do plano surf e do plano ultimate\n",
    "    surf = parcial_mean[parcial_mean['plan_name'] == 'surf']\n",
    "    ultimate = parcial_mean[parcial_mean['plan_name'] == 'ultimate']\n",
    "    \n",
    "    # Vamos fazer o merge dos dataframes filtrados e definir a coluna 'month' como índice\n",
    "    df_mean_merge = surf.merge(ultimate, on = 'month', suffixes= ['_surf', '_ultimate'])\n",
    "    df_mean_merge = df_mean_merge.drop(['plan_name_surf', 'plan_name_ultimate'], axis='columns')\n",
    "    df_mean_merge = df_mean_merge.set_index('month')\n",
    "    \n",
    "    # Vamos retornar o df após merge. Pronto para a plotagem dos gráficos necessários\n",
    "    return df_mean_merge"
   ]
  },
  {
   "cell_type": "code",
   "execution_count": 127,
   "metadata": {},
   "outputs": [],
   "source": [
    "# Criando a função de comparação de somatórios\n",
    "def comparison_sum(df, column):\n",
    "    \n",
    "    # Vamos agrupar por nome do plano e mês. Depois calcular a somatória da coluna desejada\n",
    "    parcial_mean = df.groupby(['plan_name', 'month'], observed=False)[column].sum()\n",
    "    parcial_mean = parcial_mean.reset_index()\n",
    "    \n",
    "    # Vamos filtrar, separando os dados do plano surf e do plano ultimate\n",
    "    surf = parcial_mean[parcial_mean['plan_name'] == 'surf']\n",
    "    ultimate = parcial_mean[parcial_mean['plan_name'] == 'ultimate']\n",
    "    \n",
    "    # Vamos fazer o merge dos dataframes filtrados e definir a coluna 'month' como índice\n",
    "    df_mean_merge = surf.merge(ultimate, on = 'month', suffixes= ['_surf', '_ultimate'])\n",
    "    df_mean_merge = df_mean_merge.drop(['plan_name_surf', 'plan_name_ultimate'], axis='columns')\n",
    "    df_mean_merge = df_mean_merge.set_index('month')\n",
    "    \n",
    "    # Vamos retornar o df após merge. Pronto para a plotagem dos gráficos necessários\n",
    "    return df_mean_merge"
   ]
  },
  {
   "cell_type": "markdown",
   "metadata": {
    "id": "umaMfSLxuj8s"
   },
   "source": [
    "### Chamadas"
   ]
  },
  {
   "cell_type": "markdown",
   "metadata": {},
   "source": [
    "#### Comparação da duração média das chamadas de cada plano para cada mês"
   ]
  },
  {
   "cell_type": "code",
   "execution_count": 128,
   "metadata": {},
   "outputs": [
    {
     "data": {
      "image/png": "[encoded data removed]",
      "text/plain": [
       "<Figure size 1000x500 with 1 Axes>"
      ]
     },
     "metadata": {},
     "output_type": "display_data"
    }
   ],
   "source": [
    "# Chamando a função comparison_mean para a coluna 'minutes'\n",
    "call_duration_mean = comparison_mean(df_complete, 'minutes')\n",
    "\n",
    "# Plotando o gráfico \n",
    "call_duration_mean.plot(kind = 'bar',\n",
    "                        figsize = [10, 5],\n",
    "                        color = ['#1f77b4', '#ff7f0e'],\n",
    "                        rot = 0,\n",
    "                        edgecolor='black')\n",
    "\n",
    "plt.title('Call Duration by Plan', fontsize=16, fontweight='bold')\n",
    "plt.xlabel('Month', fontsize=14)\n",
    "plt.ylabel('Duration Mean', fontsize=14)\n",
    "\n",
    "# Adicionar grade para melhorar a leitura\n",
    "plt.grid(axis='y', linestyle='--', alpha=0.7)\n",
    "\n",
    "# Adicionar legenda, se aplicável\n",
    "plt.legend(['Surf', 'Ultimate'], fontsize=10)\n",
    "\n",
    "plt.show()"
   ]
  },
  {
   "cell_type": "markdown",
   "metadata": {},
   "source": [
    "#### Comparação do número de minutos extras de que os usuários de cada plano necessitam a cada mês"
   ]
  },
  {
   "cell_type": "code",
   "execution_count": 129,
   "metadata": {},
   "outputs": [
    {
     "data": {
      "image/png": "[encoded data removed]",
      "text/plain": [
       "<Figure size 900x500 with 1 Axes>"
      ]
     },
     "metadata": {},
     "output_type": "display_data"
    }
   ],
   "source": [
    "# Chamando a função comparison_sum para obter o somatório de 'ext_min' dos usuários de cada plano\n",
    "call_ext_minutes_merge = comparison_sum(df_complete, 'ext_min')\n",
    "\n",
    "# Plotando o histograma para comparação dos minutos extras de cada plano\n",
    "call_ext_minutes_merge.plot(kind='hist',\n",
    "                            bins=30, \n",
    "                            alpha=0.6, \n",
    "                            color=['#1f77b4', '#ff7f0e'], \n",
    "                            figsize=[9,5],\n",
    "                            edgecolor='black')\n",
    "\n",
    "plt.title('Extra Minutes Consumption per Plan', fontsize=16, fontweight='bold')\n",
    "plt.xlabel('Total Minutes', fontsize=14)\n",
    "plt.ylabel('Number of Months', fontsize=14)\n",
    "plt.legend(['Surf', 'Ultimate'], fontsize=12)\n",
    "plt.grid(axis='y', linestyle='--', alpha=0.7)\n",
    "plt.tight_layout()\n",
    "\n",
    "plt.show()"
   ]
  },
  {
   "cell_type": "markdown",
   "metadata": {},
   "source": [
    "#### Agora vamos calcular a média e a variação da duração mensal das chamadas"
   ]
  },
  {
   "cell_type": "code",
   "execution_count": 130,
   "metadata": {
    "id": "cIdodPExuj8u",
    "scrolled": false
   },
   "outputs": [
    {
     "name": "stdout",
     "output_type": "stream",
     "text": [
      "Média em minutos do plano surf: 384.4696912581946\n",
      "Variância do plano surf: 5369.551951906404\n",
      "\n",
      "Média em minutos do plano ultimate: 387.99974229608006\n",
      "Variância do plano ultimate: 5472.540903753354\n"
     ]
    }
   ],
   "source": [
    "surf_variance = np.var(call_duration_mean['minutes_surf'])\n",
    "ultimate_variance = np.var(call_duration_mean['minutes_ultimate'])\n",
    "\n",
    "print('Média em minutos do plano surf:', call_duration_mean['minutes_surf'].mean())\n",
    "print('Variância do plano surf:', surf_variance)\n",
    "print()\n",
    "print('Média em minutos do plano ultimate:', call_duration_mean['minutes_ultimate'].mean())\n",
    "print('Variância do plano ultimate:', ultimate_variance)"
   ]
  },
  {
   "cell_type": "markdown",
   "metadata": {},
   "source": [
    "#### Vamos plotar um diagrama de caixa para visualizar a distribuição da duração mensal das chamadas"
   ]
  },
  {
   "cell_type": "code",
   "execution_count": 131,
   "metadata": {
    "id": "DW7vTypxuj8u"
   },
   "outputs": [
    {
     "data": {
      "image/png": "[encoded data removed]",
      "text/plain": [
       "<Figure size 640x480 with 1 Axes>"
      ]
     },
     "metadata": {},
     "output_type": "display_data"
    },
    {
     "name": "stdout",
     "output_type": "stream",
     "text": [
      "minutes_surf        412.168958\n",
      "minutes_ultimate    413.839000\n",
      "dtype: float64\n"
     ]
    }
   ],
   "source": [
    "call_duration_mean.boxplot(column=['minutes_surf', 'minutes_ultimate'],\n",
    "                           grid=True,\n",
    "                           patch_artist=True,\n",
    "                           boxprops=dict(facecolor='#1f77b4', color='black'),\n",
    "                           medianprops=dict(color='red'),\n",
    "                           whiskerprops=dict(color='black'),\n",
    "                           capprops=dict(color='black'),\n",
    "                           flierprops=dict(markerfacecolor='green', marker='o', markersize=5, linestyle='none'))\n",
    "\n",
    "\n",
    "plt.title('Call Duration Comparison by Plan', fontsize=16, fontweight='bold')\n",
    "plt.xlabel('Plan', fontsize=14)\n",
    "plt.ylabel('Call Duration', fontsize=14)\n",
    "plt.xticks([1, 2], ['Surf Plan', 'Ultimate Plan'], fontsize=12)\n",
    "plt.grid(True, linestyle='--', alpha=0.7)\n",
    "plt.tight_layout()\n",
    "\n",
    "plt.show()\n",
    "\n",
    "print(call_duration_mean.median())"
   ]
  },
  {
   "cell_type": "markdown",
   "metadata": {},
   "source": [
    "#### CONCLUSÕES"
   ]
  },
  {
   "cell_type": "markdown",
   "metadata": {
    "id": "Uyt3rWn7uj8u"
   },
   "source": [
    "-  O comportamento dos usuários não se altera com o plano, pois podemos observar que a média da duração das chamadas é bem parecida mês a mês para os dois planos, além também da média geral de duração das chamadas (anual).  \n",
    "\n",
    "\n",
    "- Isso fica ainda mais evidente quando olhamos para o boxplot, pois podemos observar que o valor da mediana também é praticamente igual.  \n",
    "\n",
    "\n",
    "- O que podemos observar de diferença entre os usuários é que os usuários do plano 'ultimate' não necessitam de minutos extras, enquanto que os usuários do plano 'surf' precisam, pois o plano contempla menos minutos."
   ]
  },
  {
   "cell_type": "markdown",
   "metadata": {
    "id": "2hWSPtrnuj8v"
   },
   "source": [
    "### Mensagens"
   ]
  },
  {
   "cell_type": "markdown",
   "metadata": {},
   "source": [
    "#### Vamos comparar a média de mensagens para cada plano por mês"
   ]
  },
  {
   "cell_type": "code",
   "execution_count": 132,
   "metadata": {},
   "outputs": [
    {
     "data": {
      "image/png": "[encoded data removed]",
      "text/plain": [
       "<Figure size 1000x500 with 1 Axes>"
      ]
     },
     "metadata": {},
     "output_type": "display_data"
    }
   ],
   "source": [
    "# Chamando a função comparison_mean para a coluna 'messages'\n",
    "messages_per_plan = comparison_mean(df_complete, 'messages')\n",
    "\n",
    "# criando gráfico para comparação\n",
    "messages_per_plan.plot(kind='bar',\n",
    "                       figsize=[10, 5],\n",
    "                       color=['#1f77b4', '#ff7f0e'],\n",
    "                       edgecolor='black',\n",
    "                       rot=0)\n",
    "\n",
    "plt.title('Messages Amount Per User', fontsize=16, fontweight='bold')\n",
    "plt.xlabel('Month', fontsize=14)\n",
    "plt.ylabel('Messages Mean', fontsize=14)\n",
    "plt.grid(axis='y', linestyle='--', alpha=0.7)\n",
    "plt.legend(['Surf', 'Ultimate'], fontsize=10)\n",
    "\n",
    "plt.show()"
   ]
  },
  {
   "cell_type": "markdown",
   "metadata": {},
   "source": [
    "#### Vamos comparar o número de mensagens extras de que os usuários de cada plano necessitam a cada mês"
   ]
  },
  {
   "cell_type": "code",
   "execution_count": 133,
   "metadata": {},
   "outputs": [
    {
     "data": {
      "image/png": "[encoded data removed]",
      "text/plain": [
       "<Figure size 900x500 with 1 Axes>"
      ]
     },
     "metadata": {},
     "output_type": "display_data"
    }
   ],
   "source": [
    "# Chamando a função comparison_sum para 'extra_messages'\n",
    "ext_messages_per_user = comparison_sum(df_complete, 'ext_messages')\n",
    "\n",
    "# Plotando o histograma para comparação\n",
    "ext_messages_per_user.plot(kind='hist',\n",
    "                           bins=30,\n",
    "                           alpha=0.6,\n",
    "                           color=['#1f77b4', '#ff7f0e'],\n",
    "                           edgecolor='black',\n",
    "                           figsize=[9,5])\n",
    "\n",
    "plt.title('Extra Messages Consumption Per Plan', fontsize=16, fontweight='bold')\n",
    "plt.xlabel('Messages',fontsize=14)\n",
    "plt.ylabel('Frequency (Months)', fontsize=14)\n",
    "plt.legend(['Surf', 'Ultimate'], fontsize=12)\n",
    "plt.grid(axis='y', linestyle='--', alpha=0.7)\n",
    "plt.tight_layout()\n",
    "\n",
    "plt.show()"
   ]
  },
  {
   "cell_type": "markdown",
   "metadata": {},
   "source": [
    "#### Vamos plotar um diagrama de caixa para visualizar a distribuição mensal das mensagens"
   ]
  },
  {
   "cell_type": "code",
   "execution_count": 134,
   "metadata": {
    "id": "di6wucOLuj8v"
   },
   "outputs": [
    {
     "data": {
      "image/png": "[encoded data removed]",
      "text/plain": [
       "<Figure size 640x480 with 1 Axes>"
      ]
     },
     "metadata": {},
     "output_type": "display_data"
    },
    {
     "name": "stdout",
     "output_type": "stream",
     "text": [
      "messages_surf        26.166013\n",
      "messages_ultimate    32.466978\n",
      "dtype: float64\n"
     ]
    }
   ],
   "source": [
    "messages_per_plan.boxplot(column=['messages_surf', 'messages_ultimate'],\n",
    "                           grid=True,\n",
    "                           patch_artist=True,\n",
    "                           boxprops=dict(facecolor='#1f77b4', color='black'),\n",
    "                           medianprops=dict(color='red'),\n",
    "                           whiskerprops=dict(color='black'),\n",
    "                           capprops=dict(color='black'),\n",
    "                           flierprops=dict(markerfacecolor='green', marker='o', markersize=5, linestyle='none'))\n",
    "\n",
    "\n",
    "plt.title('Messages Distribution by Plan', fontsize=16, fontweight='bold')\n",
    "plt.xlabel('Plan', fontsize=14)\n",
    "plt.ylabel('Messages', fontsize=14)\n",
    "plt.xticks([1, 2], ['Surf Plan', 'Ultimate Plan'], fontsize=12)\n",
    "plt.grid(True, linestyle='--', alpha=0.7)\n",
    "plt.tight_layout()\n",
    "\n",
    "plt.show()\n",
    "\n",
    "\n",
    "print(messages_per_plan.median())"
   ]
  },
  {
   "cell_type": "markdown",
   "metadata": {},
   "source": [
    "#### CONCLUSÕES"
   ]
  },
  {
   "cell_type": "markdown",
   "metadata": {
    "id": "v6QELMtcuj8v"
   },
   "source": [
    "- Analisando o gráfico de médias mensais de envio de mensagens é possível inferir que os usuários do plano ' ultimate' tendem a enviar mais mensagens do que os usuários do plano 'surf'. Isso também pode ser confirmado observando o gráfico boxplot;  \n",
    "\n",
    "\n",
    "- Quando analisamos o histograma de mensagens extras que os usuários necessita, podemos identificar que os usuários do plano 'ultimate' não realizam envio de mensagens além da quantidade prevista no pacote, enquanto que usuários do plano 'surf' necessitam desta utilização."
   ]
  },
  {
   "cell_type": "markdown",
   "metadata": {
    "id": "nHUCwAnauj8w"
   },
   "source": [
    "### Internet"
   ]
  },
  {
   "cell_type": "markdown",
   "metadata": {},
   "source": [
    "#### Comparação da quantidade de tráfego de internet consumido pelos usuários por plano"
   ]
  },
  {
   "cell_type": "code",
   "execution_count": 135,
   "metadata": {},
   "outputs": [
    {
     "data": {
      "image/png": "[encoded data removed]",
      "text/plain": [
       "<Figure size 1000x500 with 1 Axes>"
      ]
     },
     "metadata": {},
     "output_type": "display_data"
    }
   ],
   "source": [
    "internet_per_plan = comparison_mean(df_complete, 'mb_rounded')\n",
    "\n",
    "internet_per_plan.plot(kind = 'bar',\n",
    "                    figsize = [10, 5],\n",
    "                    color = ['#1f77b4', '#ff7f0e'],\n",
    "                    edgecolor='black',\n",
    "                    ylim = [0, 22000],\n",
    "                    rot= 0)\n",
    "\n",
    "plt.title('Internet Consumption Per User', fontsize=16, fontweight='bold')\n",
    "plt.xlabel('Month', fontsize=14)\n",
    "plt.ylabel('MB Mean', fontsize=14)\n",
    "plt.grid(axis='y', linestyle='--', alpha=0.7)\n",
    "plt.legend(['Surf', 'Ultimate'], fontsize=10)\n",
    "\n",
    "plt.show()"
   ]
  },
  {
   "cell_type": "markdown",
   "metadata": {},
   "source": [
    "#### Comparação da quantidade de mb extras de que os usuários de cada plano necessitam a cada mês"
   ]
  },
  {
   "cell_type": "code",
   "execution_count": 136,
   "metadata": {},
   "outputs": [
    {
     "data": {
      "image/png": "[encoded data removed]",
      "text/plain": [
       "<Figure size 900x500 with 1 Axes>"
      ]
     },
     "metadata": {},
     "output_type": "display_data"
    }
   ],
   "source": [
    "# Chamando a função 'comparison_sum' para a coluna 'ext_gb'\n",
    "ext_gb_per_user = comparison_sum(df_complete, 'ext_gb')\n",
    "\n",
    "# plotando o histograma\n",
    "ext_gb_per_user.plot(kind='hist',\n",
    "                     bins=30,\n",
    "                     alpha=0.6,\n",
    "                     color=['#1f77b4', '#ff7f0e'],\n",
    "                     edgecolor='black',\n",
    "                     figsize=[9,5])\n",
    "\n",
    "plt.title('Extra GBs Consumption Per Plan', fontsize=16, fontweight='bold')\n",
    "plt.xlabel('Extra GBs',fontsize=14)\n",
    "plt.ylabel('Frequency (Months)', fontsize=14)\n",
    "plt.legend(['Surf', 'Ultimate'], fontsize=12)\n",
    "plt.grid(axis='y', linestyle='--', alpha=0.7)\n",
    "plt.tight_layout()\n",
    "\n",
    "plt.show()"
   ]
  },
  {
   "cell_type": "markdown",
   "metadata": {},
   "source": [
    "#### Vamos plotar um diagrama de caixa para visualizar a distribuição de consumo mensal de internet"
   ]
  },
  {
   "cell_type": "code",
   "execution_count": 137,
   "metadata": {
    "id": "1zsw31_cuj8w"
   },
   "outputs": [
    {
     "data": {
      "image/png": "[encoded data removed]",
      "text/plain": [
       "<Figure size 640x480 with 1 Axes>"
      ]
     },
     "metadata": {},
     "output_type": "display_data"
    },
    {
     "name": "stdout",
     "output_type": "stream",
     "text": [
      "mb_rounded_surf        15820.869404\n",
      "mb_rounded_ultimate    17002.274721\n",
      "dtype: float64\n"
     ]
    }
   ],
   "source": [
    "internet_per_plan.boxplot(column=['mb_rounded_surf', 'mb_rounded_ultimate'],\n",
    "                           grid=True,\n",
    "                           patch_artist=True,\n",
    "                           boxprops=dict(facecolor='#1f77b4', color='black'),\n",
    "                           medianprops=dict(color='red'),\n",
    "                           whiskerprops=dict(color='black'),\n",
    "                           capprops=dict(color='black'),\n",
    "                           flierprops=dict(markerfacecolor='green', marker='o', markersize=5, linestyle='none'))\n",
    "\n",
    "plt.title('MB Distribution by Month', fontsize=16, fontweight='bold')\n",
    "plt.xlabel('Plan', fontsize=14)\n",
    "plt.ylabel('MB', fontsize=14)\n",
    "plt.xticks([1, 2], ['Surf Plan', 'Ultimate Plan'], fontsize=12)\n",
    "plt.grid(True, linestyle='--', alpha=0.7)\n",
    "plt.tight_layout()\n",
    "\n",
    "plt.show()\n",
    "\n",
    "\n",
    "print(internet_per_plan.median())"
   ]
  },
  {
   "cell_type": "markdown",
   "metadata": {},
   "source": [
    "#### CONCLUSÕES"
   ]
  },
  {
   "cell_type": "markdown",
   "metadata": {
    "id": "GsHkFpGmuj8w"
   },
   "source": [
    "- **Analisando o gráfico de barras** referente às médias mensais do consumo de dados, podemos observar que os usuários do plano ' ultimate' tiveram um consumo superior ao dos usuários do plano 'surf' durante os 5 primeiros meses do ano. A partir do sexto mês, este consumo praticamente se igualou entre os usuários dos dois planos; Podemos observar no boxplot que a variação dos dados do plano 'ultimate' é menor, pois o consumo dos usuários deste plano se manteve mais estável durante o ano, enquanto que o consumo dos usuários do plano 'surf' eram baixos no início do ano e depois se igualaram ao do plano 'ultimate' e, por este motivo, o boxplot apresenta maior variação.  \n",
    "\n",
    "\n",
    "- **Analisando o histograma** de consumo de dados extras, podemos observar que a necessidade do consumo de dados extras é muito maior entre os usuários do plano 'surf'. Os usuários do plano 'ultimate', apesar de fazerem uso de dados extras (diferentemente do observado quando analisamos minutos e mensagens extras), necessitam muito menos do que os usuários do outro plano. "
   ]
  },
  {
   "cell_type": "markdown",
   "metadata": {
    "id": "g23qXaYNuj8x"
   },
   "source": [
    "## RECEITA"
   ]
  },
  {
   "cell_type": "markdown",
   "metadata": {},
   "source": [
    "### Vamos plotar um gráfico de barras comparando a receita de cada plano mês a mês"
   ]
  },
  {
   "cell_type": "code",
   "execution_count": 138,
   "metadata": {},
   "outputs": [
    {
     "data": {
      "image/png": "[encoded data removed]",
      "text/plain": [
       "<Figure size 1000x500 with 1 Axes>"
      ]
     },
     "metadata": {},
     "output_type": "display_data"
    }
   ],
   "source": [
    "# Chamando a função comparison_mean\n",
    "income_mean_by_plan = comparison_mean(df_complete, 'monthly_income')\n",
    "\n",
    "# plotando o gráfico\n",
    "income_mean_by_plan.plot(kind = 'bar',\n",
    "                    figsize = [10, 5],\n",
    "                    color = ['#1f77b4', '#ff7f0e'],\n",
    "                    edgecolor='black',\n",
    "                    ylim = [0, 90],\n",
    "                    rot= 0)\n",
    "\n",
    "plt.title('Monthly Income Mean', fontsize=16, fontweight='bold')\n",
    "plt.xlabel('Month', fontsize=14)\n",
    "plt.ylabel('Income Mean', fontsize=14)\n",
    "plt.grid(axis='y', linestyle='--', alpha=0.7)\n",
    "plt.legend(['Surf', 'Ultimate'], fontsize=10)\n",
    "\n",
    "plt.show()"
   ]
  },
  {
   "cell_type": "markdown",
   "metadata": {},
   "source": [
    "### Agora vamos plotar um histograma com as frequências de receita de cada plano"
   ]
  },
  {
   "cell_type": "code",
   "execution_count": 139,
   "metadata": {
    "id": "qJSyfvUguj8y"
   },
   "outputs": [
    {
     "data": {
      "image/png": "[encoded data removed]",
      "text/plain": [
       "<Figure size 900x500 with 1 Axes>"
      ]
     },
     "metadata": {},
     "output_type": "display_data"
    }
   ],
   "source": [
    "# Agrupando por 'plan_name', 'month' e 'user_id' para calcular a soma da coluna de receitas mensais\n",
    "income_per_user = df_complete.groupby(['plan_name', 'month', 'user_id'], observed = False)['monthly_income'].sum()\n",
    "income_per_user = income_per_user.reset_index()\n",
    "income_per_user = income_per_user[income_per_user['monthly_income'] > 0]\n",
    "\n",
    "# filtrando os dados por planos\n",
    "surf_income_per_user = income_per_user[income_per_user['plan_name'] == 'surf']\n",
    "ultimate_income_per_user = income_per_user[income_per_user['plan_name'] == 'ultimate']\n",
    "\n",
    "# Plotando os histogramas\n",
    "surf_income_per_user['monthly_income'].plot(kind='hist', bins=30, alpha=0.6, width=20, figsize = [9, 5], color='#1f77b4', edgecolor='black', label='Surf Plan')\n",
    "ultimate_income_per_user['monthly_income'].plot(kind='hist', bins=30, alpha=0.6, width=20, color='#ff7f0e', edgecolor='black', label='Ultimate Plan')\n",
    "\n",
    "plt.title('Income Frequency per Plan', fontsize=16, fontweight='bold')\n",
    "plt.xlabel('Monthly Income', fontsize=14)\n",
    "plt.ylabel('Number of Users', fontsize=14)\n",
    "plt.legend(['Surf', 'Ultimate'], fontsize=12)\n",
    "plt.grid(axis='y', linestyle='--', alpha=0.7)\n",
    "plt.tight_layout()\n",
    "\n",
    "plt.show()"
   ]
  },
  {
   "cell_type": "code",
   "execution_count": 140,
   "metadata": {
    "id": "KUSxMW71uj8z"
   },
   "outputs": [
    {
     "name": "stdout",
     "output_type": "stream",
     "text": [
      "Receita média do plano surf: 49.654671584060054\n",
      "Variância da receita do plano surf: 179.63320399246072\n",
      "\n",
      "Receita média do plano ultimate: 71.81254837071394\n",
      "Variância da receita do plano ultimate: 1.237414055679066\n"
     ]
    }
   ],
   "source": [
    "# Calculando a média e a variação receita mensal\n",
    "monthly_income_surf_variance = np.var(income_mean_by_plan['monthly_income_surf'])\n",
    "monthly_income_ultimate_variance = np.var(income_mean_by_plan['monthly_income_ultimate'])\n",
    "\n",
    "print('Receita média do plano surf:', income_mean_by_plan['monthly_income_surf'].mean())\n",
    "print('Variância da receita do plano surf:', monthly_income_surf_variance)\n",
    "print()\n",
    "print('Receita média do plano ultimate:', income_mean_by_plan['monthly_income_ultimate'].mean())\n",
    "print('Variância da receita do plano ultimate:', monthly_income_ultimate_variance)"
   ]
  },
  {
   "cell_type": "markdown",
   "metadata": {},
   "source": [
    "### CONCLUSÕES"
   ]
  },
  {
   "cell_type": "markdown",
   "metadata": {
    "id": "6X34EwHpuj8z"
   },
   "source": [
    "- A receita média por usuário é maior no plano 'ultimate', porém analisando o gráfico de barras, é possível observar que esta diferença vem caindo ao longo dos meses, pois cada vez mais, os usuários do plano 'surf' estão utilizando minutos, mensagens e dados extras, aumentando assim suas contas mensais, enquanto os usuários do plano 'ultimate' não utilizam minutos e mensagens extras e raramente fazem uso de dados extras. Existe até mesmo uma tendência de que no futuro a receita média seja maior com os usuários do plano 'surf';  \n",
    "\n",
    "\n",
    "- Analisando o histograma, podemos observar o relatado acima, pois os usuários do plano 'ultimate' tem uma frequência muito constante de despesa igual a 70 USD (preço do pacote), enquanto usuários do plano 'surf' variam muito mais, tendo uma maioria de usuários com despesa mensal média de 20 USD (preço do pacote), mas atingindo valores próximos de até 600USD devido uso de pacotes extras;  \n",
    "\n",
    "\n",
    "- Analisando as médias e variâncias das receitas médias de cada plano, podemos verificar uma variação muito maior entre usuários do plano 'surf', conforme mencionado acima, pois a Variância da despesa do plano surf é igual a 179.63, enquanto que a variância da despesa do plano ultimate é de apenas 1.24."
   ]
  },
  {
   "cell_type": "markdown",
   "metadata": {
    "id": "xJ6Mu-KAuj8z"
   },
   "source": [
    "## TESTE DE HIPÓTESES"
   ]
  },
  {
   "cell_type": "markdown",
   "metadata": {
    "id": "lop_0j4Duj8z"
   },
   "source": [
    "### Testar a hipótese de que as receitas médias dos usuários dos planos são diferentes\n",
    "\n",
    "* A hipotese nula diz que os planos não tem diferença estatística entre suas receitas médias.\n",
    "* A hipótese alternativa nos diz que as receitas são diferentes entre os planos.\n",
    "\n",
    "**O teste visa avaliar se as médias de duas populações são iguais entre si, portanto realizaremos um teste bicaudal**"
   ]
  },
  {
   "cell_type": "code",
   "execution_count": 141,
   "metadata": {
    "id": "LyGrPhpUuj80"
   },
   "outputs": [
    {
     "name": "stdout",
     "output_type": "stream",
     "text": [
      "valor_p: 1.7246904228650198e-05\n",
      "Rejeitamos a hipótese nula\n"
     ]
    }
   ],
   "source": [
    "# Definido alpha\n",
    "alpha = 0.05\n",
    "\n",
    "income_surf_mean =  income_mean_by_plan['monthly_income_surf']\n",
    "income_ultimate_mean =  income_mean_by_plan['monthly_income_ultimate']\n",
    "\n",
    "results = st.ttest_ind(income_surf_mean, income_ultimate_mean, equal_var = True)\n",
    "\n",
    "print('valor_p:', results.pvalue)\n",
    "\n",
    "# Se p-valor for menor que alpha, rejeitamos a hipótese nula\n",
    "if results.pvalue < alpha:\n",
    "    print('Rejeitamos a hipótese nula')\n",
    "else:\n",
    "    print('Não rejeitamos a hipótese nula')"
   ]
  },
  {
   "cell_type": "markdown",
   "metadata": {
    "id": "Cz6rwE56uj80"
   },
   "source": [
    "### Testar a hipótese de que a receita média de usuários de NY-NJ difere de usuários das demais regiões\n",
    "\n",
    "* A hipotese nula diz que a receita média dos usuários da área de NY-NJ não se difere dos usuários das demais regiões,  \n",
    "\n",
    "* A hipótese alternativa nos diz que a receita média dos usuários da área de NY-NJ ´diferente da dos usuários das demais regiões.\n",
    "\n",
    "**O teste visa avaliar se as médias de duas populações são iguais entre si, portanto realizaremos um teste bicaudal**"
   ]
  },
  {
   "cell_type": "code",
   "execution_count": 142,
   "metadata": {
    "id": "98t8iiJyuj80"
   },
   "outputs": [
    {
     "name": "stdout",
     "output_type": "stream",
     "text": [
      "valor_p: 0.9194987221354417\n",
      "Não rejeitamos a hipótese nula\n"
     ]
    }
   ],
   "source": [
    "# Definindo o valor de alpha\n",
    "alpha = 0.05\n",
    "\n",
    "# Filtrando o Df para obter os dados da região desejada, agrupando por plano e mês, e calculando a média\n",
    "ny_nj = df_complete[df_complete['estado'] == 'NY-NJ-PA MSA']\n",
    "ny_nj_income_mean = ny_nj.groupby(['plan_name', 'month'], observed=False)['monthly_income'].mean()\n",
    "\n",
    "# Filtrando o Df para obter os dados das outras regiões, agrupando por plano e mês, e calculando a média\n",
    "other_states = df_complete[df_complete['estado'] != 'NY-NJ-PA MSA']\n",
    "other_states_income_mean = other_states.groupby(['plan_name', 'month'], observed=False)['monthly_income'].mean()\n",
    "\n",
    "# Os meses de fevereiro e março tiveram valores ausentes, pois nestes meses não havia o plano na região. \n",
    "# Desta forma, foi necessário tratar os dados ausentes com o valor do plano (70) para que p-valor não fosse 'nan'. \n",
    "# Foi escolhido este valor, pois os meses sequentes (abril, maio e junho) também apresentaram este resultado\n",
    "ny_nj_income_mean = ny_nj_income_mean.fillna(70) \n",
    "\n",
    "\n",
    "results_df_teste_ny_nj = st.ttest_ind(ny_nj_income_mean, other_states_income_mean)\n",
    "\n",
    "print('valor_p:', results_df_teste_ny_nj.pvalue)\n",
    "\n",
    "if results_df_teste_ny_nj.pvalue < alpha:\n",
    "    print('Rejeitamos a hipótese nula')\n",
    "else:\n",
    "    print('Não rejeitamos a hipótese nula')"
   ]
  },
  {
   "cell_type": "markdown",
   "metadata": {
    "id": "M8WycwWFuj81"
   },
   "source": [
    "## CONCLUSÃO GERAL"
   ]
  },
  {
   "cell_type": "markdown",
   "metadata": {},
   "source": [
    "* Analisando os valores-p podemos inferir que as receitas são diferentes entre os planos. Como podemos observar nas análises anteriores, em média a receita do plano 'ultimate' é maior que a média da receita do plano 'surf' embora esta diferença tenha caído muito ao longo do ano, pois os usuários do plano 'surf' costumam consumir muito mais pacotes extras aumentando muito o custo mensal destes usuários, tanto que analisando o histograma de despesa por plano, podemos observar que as maiores despesas individuais são sempre de usuários do plano 'surf'.  \n",
    "\n",
    "\n",
    "* Quando analisamos a região NY-NJ, não encontramos diferença significativa quando comparamos com a média de todos outros estados, pois o valor-p foi de 0.919, o que não nos permite rejeitar a hipótese nula (de que a receita média dos usuários da área de NY-NJ não se difere dos usuários das demais regiões)."
   ]
  },
  {
   "cell_type": "markdown",
   "metadata": {},
   "source": [
    "<CENTER>\n",
    "    \n",
    "# Renan Rosental de Oliveira"
   ]
  }
 ],
 "metadata": {
  "ExecuteTimeLog": [
   {
    "duration": 828,
    "start_time": "2021-11-16T09:21:11.304Z"
   },
   {
    "duration": 893,
    "start_time": "2021-11-16T09:21:17.728Z"
   },
   {
    "duration": 1150,
    "start_time": "2021-11-16T09:21:29.568Z"
   },
   {
    "duration": 3,
    "start_time": "2021-11-16T09:24:14.495Z"
   },
   {
    "duration": 120,
    "start_time": "2021-11-16T09:24:46.630Z"
   },
   {
    "duration": 3,
    "start_time": "2021-11-16T09:28:27.882Z"
   },
   {
    "duration": 4,
    "start_time": "2021-11-16T09:29:54.281Z"
   },
   {
    "duration": 3,
    "start_time": "2021-11-16T09:30:45.936Z"
   },
   {
    "duration": 4,
    "start_time": "2021-11-16T09:31:06.300Z"
   },
   {
    "duration": 113,
    "start_time": "2021-11-16T09:31:37.208Z"
   },
   {
    "duration": 143,
    "start_time": "2021-11-16T09:31:48.656Z"
   },
   {
    "duration": 98,
    "start_time": "2021-11-16T09:31:55.678Z"
   },
   {
    "duration": 3,
    "start_time": "2021-11-16T09:32:08.535Z"
   },
   {
    "duration": 111,
    "start_time": "2021-11-16T09:32:10.120Z"
   },
   {
    "duration": 3,
    "start_time": "2021-11-16T09:32:15.732Z"
   },
   {
    "duration": 4,
    "start_time": "2021-11-16T09:32:29.423Z"
   },
   {
    "duration": 3,
    "start_time": "2021-11-16T10:03:03.074Z"
   },
   {
    "duration": 3,
    "start_time": "2021-11-16T10:10:01.288Z"
   },
   {
    "duration": 3,
    "start_time": "2021-11-16T10:10:46.923Z"
   },
   {
    "duration": 121,
    "start_time": "2021-11-16T10:37:46.494Z"
   },
   {
    "duration": 125,
    "start_time": "2021-11-16T10:38:20.632Z"
   },
   {
    "duration": 112,
    "start_time": "2021-11-16T10:46:53.001Z"
   },
   {
    "duration": 110,
    "start_time": "2021-11-16T10:48:25.775Z"
   },
   {
    "duration": 3,
    "start_time": "2021-11-16T10:50:18.720Z"
   },
   {
    "duration": 4,
    "start_time": "2021-11-16T10:50:37.649Z"
   },
   {
    "duration": 2,
    "start_time": "2021-11-16T10:50:51.884Z"
   },
   {
    "duration": 3,
    "start_time": "2021-11-16T10:51:56.237Z"
   },
   {
    "duration": 101,
    "start_time": "2021-11-16T10:53:13.791Z"
   },
   {
    "duration": 3,
    "start_time": "2021-11-16T10:55:59.186Z"
   },
   {
    "duration": 3,
    "start_time": "2021-11-16T10:56:10.751Z"
   },
   {
    "duration": 3,
    "start_time": "2021-11-16T10:56:49.038Z"
   },
   {
    "duration": 3,
    "start_time": "2021-11-16T10:56:49.174Z"
   },
   {
    "duration": 4,
    "start_time": "2021-11-16T10:56:49.414Z"
   },
   {
    "duration": 3,
    "start_time": "2021-11-16T10:56:49.680Z"
   },
   {
    "duration": 3,
    "start_time": "2021-11-16T10:56:50.370Z"
   },
   {
    "duration": 114,
    "start_time": "2021-11-16T10:59:34.518Z"
   },
   {
    "duration": 3,
    "start_time": "2021-11-16T11:01:41.201Z"
   },
   {
    "duration": 116,
    "start_time": "2021-11-16T11:01:48.754Z"
   },
   {
    "duration": 3,
    "start_time": "2021-11-16T11:02:16.685Z"
   },
   {
    "duration": 3,
    "start_time": "2021-11-16T11:02:19.479Z"
   },
   {
    "duration": 3,
    "start_time": "2021-11-16T11:02:47.067Z"
   },
   {
    "duration": 3,
    "start_time": "2021-11-16T11:02:49.353Z"
   },
   {
    "duration": 3,
    "start_time": "2021-11-16T11:03:07.835Z"
   },
   {
    "duration": 3,
    "start_time": "2021-11-16T11:03:07.953Z"
   },
   {
    "duration": 112,
    "start_time": "2021-11-16T11:07:52.072Z"
   },
   {
    "duration": 187,
    "start_time": "2021-11-16T11:09:23.468Z"
   },
   {
    "duration": 4,
    "start_time": "2021-11-16T11:10:01.455Z"
   },
   {
    "duration": 3,
    "start_time": "2021-11-16T11:10:05.069Z"
   },
   {
    "duration": 4,
    "start_time": "2021-11-16T11:10:13.376Z"
   },
   {
    "duration": 3,
    "start_time": "2021-11-16T11:10:14.434Z"
   },
   {
    "duration": 3,
    "start_time": "2021-11-16T11:10:22.853Z"
   },
   {
    "duration": 4,
    "start_time": "2021-11-16T11:27:29.279Z"
   },
   {
    "duration": 4,
    "start_time": "2021-11-16T11:29:08.919Z"
   },
   {
    "duration": 118,
    "start_time": "2021-11-16T11:29:46.703Z"
   },
   {
    "duration": 437,
    "start_time": "2021-11-16T11:36:02.181Z"
   },
   {
    "duration": 157,
    "start_time": "2021-11-16T11:36:14.388Z"
   },
   {
    "duration": 207,
    "start_time": "2021-11-16T11:47:15.898Z"
   },
   {
    "duration": 3,
    "start_time": "2021-11-16T11:53:52.092Z"
   },
   {
    "duration": 3,
    "start_time": "2021-11-16T11:53:52.236Z"
   },
   {
    "duration": 3,
    "start_time": "2021-11-16T11:59:12.005Z"
   },
   {
    "duration": 112,
    "start_time": "2021-11-16T12:00:33.446Z"
   },
   {
    "duration": 3,
    "start_time": "2021-11-16T12:02:14.453Z"
   },
   {
    "duration": 3,
    "start_time": "2021-11-16T12:02:39.512Z"
   },
   {
    "duration": 106,
    "start_time": "2021-11-16T12:03:03.460Z"
   },
   {
    "duration": 3,
    "start_time": "2021-11-17T20:37:21.139Z"
   },
   {
    "duration": 3,
    "start_time": "2021-11-17T20:37:22.229Z"
   },
   {
    "duration": 3,
    "start_time": "2021-11-17T20:38:38.806Z"
   },
   {
    "duration": 3,
    "start_time": "2021-11-17T20:38:41.958Z"
   },
   {
    "duration": 3,
    "start_time": "2021-11-17T20:43:46.551Z"
   },
   {
    "duration": 4,
    "start_time": "2021-11-17T20:58:21.835Z"
   },
   {
    "duration": 3,
    "start_time": "2021-11-17T20:59:21.872Z"
   },
   {
    "duration": 4,
    "start_time": "2021-11-17T20:59:45.352Z"
   },
   {
    "duration": 4,
    "start_time": "2021-11-17T20:59:49.646Z"
   },
   {
    "duration": 159,
    "start_time": "2021-11-17T21:02:26.949Z"
   },
   {
    "duration": 3,
    "start_time": "2021-11-17T21:03:53.461Z"
   },
   {
    "duration": 3,
    "start_time": "2021-11-17T21:03:53.694Z"
   },
   {
    "duration": 3,
    "start_time": "2021-11-17T21:05:28.145Z"
   },
   {
    "duration": 116,
    "start_time": "2021-11-17T21:05:57.787Z"
   },
   {
    "duration": 3,
    "start_time": "2021-11-17T21:06:37.993Z"
   },
   {
    "duration": 3,
    "start_time": "2021-11-17T21:06:38.261Z"
   },
   {
    "duration": 3,
    "start_time": "2021-11-17T21:11:54.358Z"
   },
   {
    "duration": 3,
    "start_time": "2021-11-17T21:12:43.846Z"
   },
   {
    "duration": 4,
    "start_time": "2021-11-17T21:13:08.773Z"
   },
   {
    "duration": 3,
    "start_time": "2021-11-17T21:14:44.441Z"
   },
   {
    "duration": 3,
    "start_time": "2021-11-17T21:15:42.059Z"
   },
   {
    "duration": 4,
    "start_time": "2021-11-17T21:15:51.995Z"
   },
   {
    "duration": 3,
    "start_time": "2021-11-17T21:15:53.923Z"
   },
   {
    "duration": 3,
    "start_time": "2021-11-17T21:15:55.282Z"
   },
   {
    "duration": 3,
    "start_time": "2021-11-17T21:16:28.492Z"
   },
   {
    "duration": 3,
    "start_time": "2021-11-17T21:16:32.603Z"
   },
   {
    "duration": 3,
    "start_time": "2021-11-17T21:17:06.941Z"
   },
   {
    "duration": 98,
    "start_time": "2021-11-17T21:18:05.733Z"
   },
   {
    "duration": 4,
    "start_time": "2021-11-17T21:21:35.255Z"
   },
   {
    "duration": 3,
    "start_time": "2021-11-17T21:21:37.804Z"
   },
   {
    "duration": 4,
    "start_time": "2021-11-17T21:23:06.071Z"
   },
   {
    "duration": 3,
    "start_time": "2021-11-17T21:23:24.799Z"
   },
   {
    "duration": 3,
    "start_time": "2021-11-17T21:23:32.591Z"
   },
   {
    "duration": 98,
    "start_time": "2021-11-17T21:28:31.559Z"
   },
   {
    "duration": 3,
    "start_time": "2021-11-17T21:28:45.448Z"
   },
   {
    "duration": 3,
    "start_time": "2021-11-17T21:29:17.303Z"
   },
   {
    "duration": 3,
    "start_time": "2021-11-17T21:29:29.617Z"
   },
   {
    "duration": 3,
    "start_time": "2021-11-17T21:29:32.681Z"
   },
   {
    "duration": 3,
    "start_time": "2021-11-17T21:36:11.474Z"
   },
   {
    "duration": 3,
    "start_time": "2021-11-17T21:36:14.791Z"
   },
   {
    "duration": 3,
    "start_time": "2021-11-17T21:36:53.943Z"
   },
   {
    "duration": 3,
    "start_time": "2021-11-17T21:36:56.165Z"
   },
   {
    "duration": 4,
    "start_time": "2021-11-17T21:37:16.590Z"
   },
   {
    "duration": 3,
    "start_time": "2021-11-17T21:37:22.702Z"
   },
   {
    "duration": 4,
    "start_time": "2021-11-17T21:38:03.479Z"
   },
   {
    "duration": 3,
    "start_time": "2021-11-17T21:38:08.601Z"
   },
   {
    "duration": 3,
    "start_time": "2021-11-17T21:38:12.928Z"
   },
   {
    "duration": 3,
    "start_time": "2021-11-17T21:38:48.896Z"
   },
   {
    "duration": 2,
    "start_time": "2021-11-17T21:38:49.171Z"
   },
   {
    "duration": 4,
    "start_time": "2021-11-17T21:39:57.889Z"
   },
   {
    "duration": 3,
    "start_time": "2021-11-17T21:39:58.057Z"
   },
   {
    "duration": 3,
    "start_time": "2021-11-17T21:41:20.108Z"
   },
   {
    "duration": 3,
    "start_time": "2021-11-17T21:41:20.629Z"
   },
   {
    "duration": 3,
    "start_time": "2021-11-17T21:42:49.136Z"
   },
   {
    "duration": 3,
    "start_time": "2021-11-17T21:43:15.137Z"
   },
   {
    "duration": 4,
    "start_time": "2021-11-17T21:43:16.766Z"
   },
   {
    "duration": 4,
    "start_time": "2021-11-17T21:43:31.711Z"
   },
   {
    "duration": 3,
    "start_time": "2021-11-17T21:43:36.312Z"
   },
   {
    "duration": 4,
    "start_time": "2021-11-17T21:45:08.825Z"
   },
   {
    "duration": 4,
    "start_time": "2021-11-17T21:45:10.119Z"
   },
   {
    "duration": 4,
    "start_time": "2021-11-17T21:45:13.748Z"
   },
   {
    "duration": 3,
    "start_time": "2021-11-17T21:45:22.219Z"
   },
   {
    "duration": 3,
    "start_time": "2021-11-17T21:45:33.412Z"
   },
   {
    "duration": 2,
    "start_time": "2021-11-17T21:46:01.885Z"
   },
   {
    "duration": 3,
    "start_time": "2021-11-17T21:46:03.628Z"
   },
   {
    "duration": 107,
    "start_time": "2021-11-17T21:47:32.512Z"
   },
   {
    "duration": 103,
    "start_time": "2021-11-17T21:50:36.243Z"
   },
   {
    "duration": 3,
    "start_time": "2021-11-18T06:28:31.440Z"
   },
   {
    "duration": 3,
    "start_time": "2021-11-18T06:29:00.168Z"
   },
   {
    "duration": 3,
    "start_time": "2021-11-18T06:31:27.008Z"
   },
   {
    "duration": 2,
    "start_time": "2021-11-18T06:35:34.288Z"
   },
   {
    "duration": 2,
    "start_time": "2021-11-18T06:38:04.527Z"
   },
   {
    "duration": 5502,
    "start_time": "2024-06-17T18:23:06.043Z"
   },
   {
    "duration": 376,
    "start_time": "2024-06-17T18:23:11.549Z"
   },
   {
    "duration": 18,
    "start_time": "2024-06-17T18:23:11.929Z"
   },
   {
    "duration": 13,
    "start_time": "2024-06-17T18:23:11.952Z"
   },
   {
    "duration": 43,
    "start_time": "2024-06-17T18:23:11.969Z"
   },
   {
    "duration": 17,
    "start_time": "2024-06-17T18:23:12.016Z"
   },
   {
    "duration": 12,
    "start_time": "2024-06-17T18:23:12.036Z"
   },
   {
    "duration": 63,
    "start_time": "2024-06-17T18:23:12.051Z"
   },
   {
    "duration": 12,
    "start_time": "2024-06-17T18:23:12.117Z"
   },
   {
    "duration": 66,
    "start_time": "2024-06-17T18:23:12.135Z"
   },
   {
    "duration": 14,
    "start_time": "2024-06-17T18:23:12.204Z"
   },
   {
    "duration": 101,
    "start_time": "2024-06-17T18:23:12.221Z"
   },
   {
    "duration": 40,
    "start_time": "2024-06-17T18:23:12.324Z"
   },
   {
    "duration": 46,
    "start_time": "2024-06-17T18:23:12.368Z"
   },
   {
    "duration": 12,
    "start_time": "2024-06-17T18:23:12.417Z"
   },
   {
    "duration": 81,
    "start_time": "2024-06-17T18:23:12.433Z"
   },
   {
    "duration": 23,
    "start_time": "2024-06-17T18:23:12.521Z"
   },
   {
    "duration": 30,
    "start_time": "2024-06-17T18:23:12.550Z"
   },
   {
    "duration": 15,
    "start_time": "2024-06-17T18:23:12.609Z"
   },
   {
    "duration": 75,
    "start_time": "2024-06-17T18:23:12.627Z"
   },
   {
    "duration": 31,
    "start_time": "2024-06-17T18:23:12.706Z"
   },
   {
    "duration": 13,
    "start_time": "2024-06-17T18:23:12.741Z"
   },
   {
    "duration": 141,
    "start_time": "2024-06-17T18:23:12.759Z"
   },
   {
    "duration": 122,
    "start_time": "2024-06-17T18:23:12.904Z"
   },
   {
    "duration": 72,
    "start_time": "2024-06-17T18:23:13.030Z"
   },
   {
    "duration": 71,
    "start_time": "2024-06-17T18:23:13.105Z"
   },
   {
    "duration": 58,
    "start_time": "2024-06-17T18:23:13.180Z"
   },
   {
    "duration": 67,
    "start_time": "2024-06-17T18:23:13.245Z"
   },
   {
    "duration": 30,
    "start_time": "2024-06-17T18:23:13.315Z"
   },
   {
    "duration": 492,
    "start_time": "2024-06-17T18:23:13.349Z"
   },
   {
    "duration": 445,
    "start_time": "2024-06-17T18:23:13.845Z"
   },
   {
    "duration": 33,
    "start_time": "2024-06-17T18:23:14.293Z"
   },
   {
    "duration": 235,
    "start_time": "2024-06-17T18:23:14.329Z"
   },
   {
    "duration": 425,
    "start_time": "2024-06-17T18:23:14.570Z"
   },
   {
    "duration": 357,
    "start_time": "2024-06-17T18:23:14.998Z"
   },
   {
    "duration": 244,
    "start_time": "2024-06-17T18:23:15.359Z"
   },
   {
    "duration": 424,
    "start_time": "2024-06-17T18:23:15.607Z"
   },
   {
    "duration": 394,
    "start_time": "2024-06-17T18:23:16.035Z"
   },
   {
    "duration": 239,
    "start_time": "2024-06-17T18:23:16.433Z"
   },
   {
    "duration": 411,
    "start_time": "2024-06-17T18:23:16.675Z"
   },
   {
    "duration": 573,
    "start_time": "2024-06-17T18:23:17.089Z"
   },
   {
    "duration": 12,
    "start_time": "2024-06-17T18:23:17.666Z"
   },
   {
    "duration": 26,
    "start_time": "2024-06-17T18:23:17.682Z"
   },
   {
    "duration": 35,
    "start_time": "2024-06-17T18:23:17.711Z"
   },
   {
    "duration": 3,
    "start_time": "2024-06-17T18:24:02.066Z"
   },
   {
    "duration": 313,
    "start_time": "2024-06-17T18:24:04.776Z"
   },
   {
    "duration": 4,
    "start_time": "2024-06-17T18:36:37.874Z"
   },
   {
    "duration": 270,
    "start_time": "2024-06-17T18:37:24.090Z"
   },
   {
    "duration": 14,
    "start_time": "2024-06-17T18:37:28.009Z"
   },
   {
    "duration": 17,
    "start_time": "2024-06-17T18:38:23.780Z"
   },
   {
    "duration": 17,
    "start_time": "2024-06-17T18:38:32.324Z"
   },
   {
    "duration": 18,
    "start_time": "2024-06-17T18:40:48.029Z"
   },
   {
    "duration": 38,
    "start_time": "2024-06-17T18:41:47.028Z"
   },
   {
    "duration": 209,
    "start_time": "2024-06-17T18:43:39.111Z"
   },
   {
    "duration": 32,
    "start_time": "2024-06-17T18:43:49.689Z"
   },
   {
    "duration": 28,
    "start_time": "2024-06-17T18:45:06.533Z"
   },
   {
    "duration": 1301,
    "start_time": "2024-06-17T18:45:12.728Z"
   },
   {
    "duration": 269,
    "start_time": "2024-06-17T18:45:14.033Z"
   },
   {
    "duration": 21,
    "start_time": "2024-06-17T18:45:14.305Z"
   },
   {
    "duration": 20,
    "start_time": "2024-06-17T18:45:14.330Z"
   },
   {
    "duration": 57,
    "start_time": "2024-06-17T18:45:14.353Z"
   },
   {
    "duration": 35,
    "start_time": "2024-06-17T18:45:14.413Z"
   },
   {
    "duration": 14,
    "start_time": "2024-06-17T18:45:14.451Z"
   },
   {
    "duration": 25,
    "start_time": "2024-06-17T18:45:14.502Z"
   },
   {
    "duration": 13,
    "start_time": "2024-06-17T18:45:14.530Z"
   },
   {
    "duration": 91,
    "start_time": "2024-06-17T18:45:14.549Z"
   },
   {
    "duration": 39,
    "start_time": "2024-06-17T18:45:14.643Z"
   },
   {
    "duration": 21,
    "start_time": "2024-06-17T18:45:14.702Z"
   },
   {
    "duration": 11,
    "start_time": "2024-06-17T18:45:14.726Z"
   },
   {
    "duration": 74,
    "start_time": "2024-06-17T18:45:14.740Z"
   },
   {
    "duration": 20,
    "start_time": "2024-06-17T18:45:14.817Z"
   },
   {
    "duration": 22,
    "start_time": "2024-06-17T18:45:14.842Z"
   },
   {
    "duration": 34,
    "start_time": "2024-06-17T18:45:14.867Z"
   },
   {
    "duration": 47,
    "start_time": "2024-06-17T18:45:14.904Z"
   },
   {
    "duration": 53,
    "start_time": "2024-06-17T18:45:14.954Z"
   },
   {
    "duration": 8,
    "start_time": "2024-06-17T18:45:15.011Z"
   },
   {
    "duration": 125,
    "start_time": "2024-06-17T18:45:15.023Z"
   },
   {
    "duration": 106,
    "start_time": "2024-06-17T18:45:15.151Z"
   },
   {
    "duration": 69,
    "start_time": "2024-06-17T18:45:15.261Z"
   },
   {
    "duration": 87,
    "start_time": "2024-06-17T18:45:15.332Z"
   },
   {
    "duration": 41,
    "start_time": "2024-06-17T18:45:15.422Z"
   },
   {
    "duration": 57,
    "start_time": "2024-06-17T18:45:15.466Z"
   },
   {
    "duration": 33,
    "start_time": "2024-06-17T18:45:15.526Z"
   },
   {
    "duration": 513,
    "start_time": "2024-06-17T18:45:15.567Z"
   },
   {
    "duration": 357,
    "start_time": "2024-06-17T18:45:16.083Z"
   },
   {
    "duration": 26,
    "start_time": "2024-06-17T18:45:16.443Z"
   },
   {
    "duration": 243,
    "start_time": "2024-06-17T18:45:16.472Z"
   },
   {
    "duration": 375,
    "start_time": "2024-06-17T18:45:16.718Z"
   },
   {
    "duration": 336,
    "start_time": "2024-06-17T18:45:17.101Z"
   },
   {
    "duration": 220,
    "start_time": "2024-06-17T18:45:17.440Z"
   },
   {
    "duration": 429,
    "start_time": "2024-06-17T18:45:17.664Z"
   },
   {
    "duration": 361,
    "start_time": "2024-06-17T18:45:18.102Z"
   },
   {
    "duration": 219,
    "start_time": "2024-06-17T18:45:18.466Z"
   },
   {
    "duration": 404,
    "start_time": "2024-06-17T18:45:18.688Z"
   },
   {
    "duration": 525,
    "start_time": "2024-06-17T18:45:19.103Z"
   },
   {
    "duration": 10,
    "start_time": "2024-06-17T18:45:19.631Z"
   },
   {
    "duration": 9,
    "start_time": "2024-06-17T18:45:19.643Z"
   },
   {
    "duration": 60,
    "start_time": "2024-06-17T18:45:19.656Z"
   },
   {
    "duration": 30,
    "start_time": "2024-06-17T18:46:12.053Z"
   },
   {
    "duration": 26,
    "start_time": "2024-06-17T18:46:19.589Z"
   },
   {
    "duration": 1265,
    "start_time": "2024-06-17T18:46:26.773Z"
   },
   {
    "duration": 301,
    "start_time": "2024-06-17T18:46:28.042Z"
   },
   {
    "duration": 22,
    "start_time": "2024-06-17T18:46:28.346Z"
   },
   {
    "duration": 33,
    "start_time": "2024-06-17T18:46:28.374Z"
   },
   {
    "duration": 19,
    "start_time": "2024-06-17T18:46:28.414Z"
   },
   {
    "duration": 67,
    "start_time": "2024-06-17T18:46:28.435Z"
   },
   {
    "duration": 12,
    "start_time": "2024-06-17T18:46:28.505Z"
   },
   {
    "duration": 24,
    "start_time": "2024-06-17T18:46:28.521Z"
   },
   {
    "duration": 13,
    "start_time": "2024-06-17T18:46:28.549Z"
   },
   {
    "duration": 97,
    "start_time": "2024-06-17T18:46:28.564Z"
   },
   {
    "duration": 63,
    "start_time": "2024-06-17T18:46:28.664Z"
   },
   {
    "duration": 19,
    "start_time": "2024-06-17T18:46:28.730Z"
   },
   {
    "duration": 11,
    "start_time": "2024-06-17T18:46:28.752Z"
   },
   {
    "duration": 66,
    "start_time": "2024-06-17T18:46:28.769Z"
   },
   {
    "duration": 20,
    "start_time": "2024-06-17T18:46:28.838Z"
   },
   {
    "duration": 50,
    "start_time": "2024-06-17T18:46:28.861Z"
   },
   {
    "duration": 10,
    "start_time": "2024-06-17T18:46:28.914Z"
   },
   {
    "duration": 46,
    "start_time": "2024-06-17T18:46:28.927Z"
   },
   {
    "duration": 25,
    "start_time": "2024-06-17T18:46:29.003Z"
   },
   {
    "duration": 9,
    "start_time": "2024-06-17T18:46:29.031Z"
   },
   {
    "duration": 136,
    "start_time": "2024-06-17T18:46:29.043Z"
   },
   {
    "duration": 105,
    "start_time": "2024-06-17T18:46:29.186Z"
   },
   {
    "duration": 57,
    "start_time": "2024-06-17T18:46:29.303Z"
   },
   {
    "duration": 95,
    "start_time": "2024-06-17T18:46:29.364Z"
   },
   {
    "duration": 51,
    "start_time": "2024-06-17T18:46:29.462Z"
   },
   {
    "duration": 29,
    "start_time": "2024-06-17T18:46:29.517Z"
   },
   {
    "duration": 58,
    "start_time": "2024-06-17T18:46:29.549Z"
   },
   {
    "duration": 417,
    "start_time": "2024-06-17T18:46:29.610Z"
   },
   {
    "duration": 423,
    "start_time": "2024-06-17T18:46:30.030Z"
   },
   {
    "duration": 25,
    "start_time": "2024-06-17T18:46:30.456Z"
   },
   {
    "duration": 234,
    "start_time": "2024-06-17T18:46:30.483Z"
   },
   {
    "duration": 362,
    "start_time": "2024-06-17T18:46:30.720Z"
   },
   {
    "duration": 337,
    "start_time": "2024-06-17T18:46:31.084Z"
   },
   {
    "duration": 232,
    "start_time": "2024-06-17T18:46:31.424Z"
   },
   {
    "duration": 385,
    "start_time": "2024-06-17T18:46:31.659Z"
   },
   {
    "duration": 357,
    "start_time": "2024-06-17T18:46:32.047Z"
   },
   {
    "duration": 246,
    "start_time": "2024-06-17T18:46:32.407Z"
   },
   {
    "duration": 376,
    "start_time": "2024-06-17T18:46:32.656Z"
   },
   {
    "duration": 528,
    "start_time": "2024-06-17T18:46:33.036Z"
   },
   {
    "duration": 11,
    "start_time": "2024-06-17T18:46:33.568Z"
   },
   {
    "duration": 11,
    "start_time": "2024-06-17T18:46:33.601Z"
   },
   {
    "duration": 25,
    "start_time": "2024-06-17T18:46:33.615Z"
   },
   {
    "duration": 29,
    "start_time": "2024-06-17T18:47:40.307Z"
   },
   {
    "duration": 32,
    "start_time": "2024-06-17T18:50:04.495Z"
   },
   {
    "duration": 447,
    "start_time": "2024-06-17T18:51:56.869Z"
   },
   {
    "duration": 203,
    "start_time": "2024-06-17T18:52:59.705Z"
   },
   {
    "duration": 1325,
    "start_time": "2024-06-17T18:54:03.591Z"
   },
   {
    "duration": 264,
    "start_time": "2024-06-17T18:54:04.920Z"
   },
   {
    "duration": 20,
    "start_time": "2024-06-17T18:54:05.187Z"
   },
   {
    "duration": 19,
    "start_time": "2024-06-17T18:54:05.210Z"
   },
   {
    "duration": 20,
    "start_time": "2024-06-17T18:54:05.232Z"
   },
   {
    "duration": 64,
    "start_time": "2024-06-17T18:54:05.256Z"
   },
   {
    "duration": 13,
    "start_time": "2024-06-17T18:54:05.323Z"
   },
   {
    "duration": 62,
    "start_time": "2024-06-17T18:54:05.340Z"
   },
   {
    "duration": 61,
    "start_time": "2024-06-17T18:54:05.405Z"
   },
   {
    "duration": 669,
    "start_time": "2024-06-17T18:54:05.472Z"
   },
   {
    "duration": 0,
    "start_time": "2024-06-17T18:54:06.146Z"
   },
   {
    "duration": 0,
    "start_time": "2024-06-17T18:54:06.147Z"
   },
   {
    "duration": 0,
    "start_time": "2024-06-17T18:54:06.150Z"
   },
   {
    "duration": 0,
    "start_time": "2024-06-17T18:54:06.152Z"
   },
   {
    "duration": 0,
    "start_time": "2024-06-17T18:54:06.154Z"
   },
   {
    "duration": 0,
    "start_time": "2024-06-17T18:54:06.157Z"
   },
   {
    "duration": 0,
    "start_time": "2024-06-17T18:54:06.159Z"
   },
   {
    "duration": 0,
    "start_time": "2024-06-17T18:54:06.161Z"
   },
   {
    "duration": 0,
    "start_time": "2024-06-17T18:54:06.164Z"
   },
   {
    "duration": 0,
    "start_time": "2024-06-17T18:54:06.166Z"
   },
   {
    "duration": 0,
    "start_time": "2024-06-17T18:54:06.201Z"
   },
   {
    "duration": 0,
    "start_time": "2024-06-17T18:54:06.204Z"
   },
   {
    "duration": 0,
    "start_time": "2024-06-17T18:54:06.206Z"
   },
   {
    "duration": 0,
    "start_time": "2024-06-17T18:54:06.208Z"
   },
   {
    "duration": 1,
    "start_time": "2024-06-17T18:54:06.211Z"
   },
   {
    "duration": 0,
    "start_time": "2024-06-17T18:54:06.213Z"
   },
   {
    "duration": 0,
    "start_time": "2024-06-17T18:54:06.217Z"
   },
   {
    "duration": 0,
    "start_time": "2024-06-17T18:54:06.219Z"
   },
   {
    "duration": 0,
    "start_time": "2024-06-17T18:54:06.220Z"
   },
   {
    "duration": 0,
    "start_time": "2024-06-17T18:54:06.223Z"
   },
   {
    "duration": 0,
    "start_time": "2024-06-17T18:54:06.226Z"
   },
   {
    "duration": 0,
    "start_time": "2024-06-17T18:54:06.228Z"
   },
   {
    "duration": 0,
    "start_time": "2024-06-17T18:54:06.231Z"
   },
   {
    "duration": 0,
    "start_time": "2024-06-17T18:54:06.233Z"
   },
   {
    "duration": 0,
    "start_time": "2024-06-17T18:54:06.235Z"
   },
   {
    "duration": 0,
    "start_time": "2024-06-17T18:54:06.237Z"
   },
   {
    "duration": 0,
    "start_time": "2024-06-17T18:54:06.239Z"
   },
   {
    "duration": 0,
    "start_time": "2024-06-17T18:54:06.241Z"
   },
   {
    "duration": 0,
    "start_time": "2024-06-17T18:54:06.302Z"
   },
   {
    "duration": 0,
    "start_time": "2024-06-17T18:54:06.304Z"
   },
   {
    "duration": 0,
    "start_time": "2024-06-17T18:54:06.306Z"
   },
   {
    "duration": 0,
    "start_time": "2024-06-17T18:54:06.308Z"
   },
   {
    "duration": 75,
    "start_time": "2024-06-17T18:58:20.351Z"
   },
   {
    "duration": 95,
    "start_time": "2024-06-17T18:58:37.280Z"
   },
   {
    "duration": 80,
    "start_time": "2024-06-17T18:58:48.557Z"
   },
   {
    "duration": 94,
    "start_time": "2024-06-17T19:08:56.263Z"
   },
   {
    "duration": 25,
    "start_time": "2024-06-17T19:09:24.744Z"
   },
   {
    "duration": 36,
    "start_time": "2024-06-17T19:09:51.277Z"
   },
   {
    "duration": 21,
    "start_time": "2024-06-17T19:09:52.749Z"
   },
   {
    "duration": 619,
    "start_time": "2024-06-17T19:12:16.770Z"
   },
   {
    "duration": 49,
    "start_time": "2024-06-17T19:12:19.531Z"
   },
   {
    "duration": 26,
    "start_time": "2024-06-17T19:12:24.524Z"
   },
   {
    "duration": 16,
    "start_time": "2024-06-17T19:13:16.939Z"
   },
   {
    "duration": 24,
    "start_time": "2024-06-17T19:13:18.357Z"
   },
   {
    "duration": 15,
    "start_time": "2024-06-17T19:13:19.251Z"
   },
   {
    "duration": 31,
    "start_time": "2024-06-17T19:13:35.753Z"
   },
   {
    "duration": 9,
    "start_time": "2024-06-17T19:14:18.902Z"
   },
   {
    "duration": 10,
    "start_time": "2024-06-17T19:14:43.964Z"
   },
   {
    "duration": 1306,
    "start_time": "2024-06-17T19:15:13.728Z"
   },
   {
    "duration": 272,
    "start_time": "2024-06-17T19:15:15.038Z"
   },
   {
    "duration": 22,
    "start_time": "2024-06-17T19:15:15.312Z"
   },
   {
    "duration": 20,
    "start_time": "2024-06-17T19:15:15.338Z"
   },
   {
    "duration": 48,
    "start_time": "2024-06-17T19:15:15.361Z"
   },
   {
    "duration": 30,
    "start_time": "2024-06-17T19:15:15.412Z"
   },
   {
    "duration": 15,
    "start_time": "2024-06-17T19:15:15.445Z"
   },
   {
    "duration": 68,
    "start_time": "2024-06-17T19:15:15.463Z"
   },
   {
    "duration": 78,
    "start_time": "2024-06-17T19:15:15.534Z"
   },
   {
    "duration": 112,
    "start_time": "2024-06-17T19:15:15.619Z"
   },
   {
    "duration": 24,
    "start_time": "2024-06-17T19:15:15.734Z"
   },
   {
    "duration": 61,
    "start_time": "2024-06-17T19:15:15.761Z"
   },
   {
    "duration": 22,
    "start_time": "2024-06-17T19:15:15.825Z"
   },
   {
    "duration": 58,
    "start_time": "2024-06-17T19:15:15.850Z"
   },
   {
    "duration": 55,
    "start_time": "2024-06-17T19:15:15.911Z"
   },
   {
    "duration": 45,
    "start_time": "2024-06-17T19:15:15.968Z"
   },
   {
    "duration": 10,
    "start_time": "2024-06-17T19:15:16.016Z"
   },
   {
    "duration": 1215,
    "start_time": "2024-06-17T19:15:16.030Z"
   },
   {
    "duration": 0,
    "start_time": "2024-06-17T19:15:17.248Z"
   },
   {
    "duration": 0,
    "start_time": "2024-06-17T19:15:17.252Z"
   },
   {
    "duration": 0,
    "start_time": "2024-06-17T19:15:17.254Z"
   },
   {
    "duration": 0,
    "start_time": "2024-06-17T19:15:17.256Z"
   },
   {
    "duration": 0,
    "start_time": "2024-06-17T19:15:17.258Z"
   },
   {
    "duration": 0,
    "start_time": "2024-06-17T19:15:17.260Z"
   },
   {
    "duration": 0,
    "start_time": "2024-06-17T19:15:17.262Z"
   },
   {
    "duration": 0,
    "start_time": "2024-06-17T19:15:17.263Z"
   },
   {
    "duration": 0,
    "start_time": "2024-06-17T19:15:17.265Z"
   },
   {
    "duration": 0,
    "start_time": "2024-06-17T19:15:17.266Z"
   },
   {
    "duration": 0,
    "start_time": "2024-06-17T19:15:17.268Z"
   },
   {
    "duration": 0,
    "start_time": "2024-06-17T19:15:17.270Z"
   },
   {
    "duration": 0,
    "start_time": "2024-06-17T19:15:17.303Z"
   },
   {
    "duration": 0,
    "start_time": "2024-06-17T19:15:17.304Z"
   },
   {
    "duration": 0,
    "start_time": "2024-06-17T19:15:17.306Z"
   },
   {
    "duration": 0,
    "start_time": "2024-06-17T19:15:17.308Z"
   },
   {
    "duration": 0,
    "start_time": "2024-06-17T19:15:17.310Z"
   },
   {
    "duration": 0,
    "start_time": "2024-06-17T19:15:17.316Z"
   },
   {
    "duration": 0,
    "start_time": "2024-06-17T19:15:17.317Z"
   },
   {
    "duration": 0,
    "start_time": "2024-06-17T19:15:17.319Z"
   },
   {
    "duration": 0,
    "start_time": "2024-06-17T19:15:17.320Z"
   },
   {
    "duration": 95,
    "start_time": "2024-06-17T19:17:52.337Z"
   },
   {
    "duration": 1347,
    "start_time": "2024-06-17T19:18:06.903Z"
   },
   {
    "duration": 270,
    "start_time": "2024-06-17T19:18:08.254Z"
   },
   {
    "duration": 21,
    "start_time": "2024-06-17T19:18:08.527Z"
   },
   {
    "duration": 20,
    "start_time": "2024-06-17T19:18:08.552Z"
   },
   {
    "duration": 20,
    "start_time": "2024-06-17T19:18:08.604Z"
   },
   {
    "duration": 30,
    "start_time": "2024-06-17T19:18:08.627Z"
   },
   {
    "duration": 40,
    "start_time": "2024-06-17T19:18:08.661Z"
   },
   {
    "duration": 33,
    "start_time": "2024-06-17T19:18:08.704Z"
   },
   {
    "duration": 90,
    "start_time": "2024-06-17T19:18:08.740Z"
   },
   {
    "duration": 119,
    "start_time": "2024-06-17T19:18:08.836Z"
   },
   {
    "duration": 25,
    "start_time": "2024-06-17T19:18:08.958Z"
   },
   {
    "duration": 50,
    "start_time": "2024-06-17T19:18:08.986Z"
   },
   {
    "duration": 20,
    "start_time": "2024-06-17T19:18:09.039Z"
   },
   {
    "duration": 65,
    "start_time": "2024-06-17T19:18:09.061Z"
   },
   {
    "duration": 52,
    "start_time": "2024-06-17T19:18:09.129Z"
   },
   {
    "duration": 30,
    "start_time": "2024-06-17T19:18:09.203Z"
   },
   {
    "duration": 12,
    "start_time": "2024-06-17T19:18:09.236Z"
   },
   {
    "duration": 137,
    "start_time": "2024-06-17T19:18:09.252Z"
   },
   {
    "duration": 100,
    "start_time": "2024-06-17T19:18:09.402Z"
   },
   {
    "duration": 59,
    "start_time": "2024-06-17T19:18:09.506Z"
   },
   {
    "duration": 90,
    "start_time": "2024-06-17T19:18:09.568Z"
   },
   {
    "duration": 54,
    "start_time": "2024-06-17T19:18:09.661Z"
   },
   {
    "duration": 33,
    "start_time": "2024-06-17T19:18:09.718Z"
   },
   {
    "duration": 57,
    "start_time": "2024-06-17T19:18:09.754Z"
   },
   {
    "duration": 493,
    "start_time": "2024-06-17T19:18:09.814Z"
   },
   {
    "duration": 369,
    "start_time": "2024-06-17T19:18:10.314Z"
   },
   {
    "duration": 33,
    "start_time": "2024-06-17T19:18:10.686Z"
   },
   {
    "duration": 220,
    "start_time": "2024-06-17T19:18:10.725Z"
   },
   {
    "duration": 362,
    "start_time": "2024-06-17T19:18:10.949Z"
   },
   {
    "duration": 356,
    "start_time": "2024-06-17T19:18:11.313Z"
   },
   {
    "duration": 220,
    "start_time": "2024-06-17T19:18:11.672Z"
   },
   {
    "duration": 408,
    "start_time": "2024-06-17T19:18:11.903Z"
   },
   {
    "duration": 390,
    "start_time": "2024-06-17T19:18:12.314Z"
   },
   {
    "duration": 221,
    "start_time": "2024-06-17T19:18:12.707Z"
   },
   {
    "duration": 388,
    "start_time": "2024-06-17T19:18:12.930Z"
   },
   {
    "duration": 544,
    "start_time": "2024-06-17T19:18:13.321Z"
   },
   {
    "duration": 10,
    "start_time": "2024-06-17T19:18:13.868Z"
   },
   {
    "duration": 8,
    "start_time": "2024-06-17T19:18:13.902Z"
   },
   {
    "duration": 25,
    "start_time": "2024-06-17T19:18:13.913Z"
   },
   {
    "duration": 90,
    "start_time": "2024-06-17T19:19:55.417Z"
   },
   {
    "duration": 7,
    "start_time": "2024-06-17T19:21:29.704Z"
   },
   {
    "duration": 5,
    "start_time": "2024-06-17T19:21:57.745Z"
   },
   {
    "duration": 7,
    "start_time": "2024-06-17T19:22:57.389Z"
   },
   {
    "duration": 9,
    "start_time": "2024-06-17T19:23:07.331Z"
   },
   {
    "duration": 15,
    "start_time": "2024-06-17T19:23:25.736Z"
   },
   {
    "duration": 1276,
    "start_time": "2024-06-17T19:23:56.753Z"
   },
   {
    "duration": 312,
    "start_time": "2024-06-17T19:23:58.032Z"
   },
   {
    "duration": 20,
    "start_time": "2024-06-17T19:23:58.347Z"
   },
   {
    "duration": 36,
    "start_time": "2024-06-17T19:23:58.372Z"
   },
   {
    "duration": 19,
    "start_time": "2024-06-17T19:23:58.411Z"
   },
   {
    "duration": 30,
    "start_time": "2024-06-17T19:23:58.433Z"
   },
   {
    "duration": 12,
    "start_time": "2024-06-17T19:23:58.501Z"
   },
   {
    "duration": 32,
    "start_time": "2024-06-17T19:23:58.517Z"
   },
   {
    "duration": 90,
    "start_time": "2024-06-17T19:23:58.551Z"
   },
   {
    "duration": 121,
    "start_time": "2024-06-17T19:23:58.647Z"
   },
   {
    "duration": 39,
    "start_time": "2024-06-17T19:23:58.771Z"
   },
   {
    "duration": 37,
    "start_time": "2024-06-17T19:23:58.813Z"
   },
   {
    "duration": 20,
    "start_time": "2024-06-17T19:23:58.853Z"
   },
   {
    "duration": 29,
    "start_time": "2024-06-17T19:23:58.902Z"
   },
   {
    "duration": 66,
    "start_time": "2024-06-17T19:23:58.935Z"
   },
   {
    "duration": 25,
    "start_time": "2024-06-17T19:23:59.005Z"
   },
   {
    "duration": 9,
    "start_time": "2024-06-17T19:23:59.033Z"
   },
   {
    "duration": 131,
    "start_time": "2024-06-17T19:23:59.045Z"
   },
   {
    "duration": 109,
    "start_time": "2024-06-17T19:23:59.179Z"
   },
   {
    "duration": 70,
    "start_time": "2024-06-17T19:23:59.291Z"
   },
   {
    "duration": 95,
    "start_time": "2024-06-17T19:23:59.365Z"
   },
   {
    "duration": 52,
    "start_time": "2024-06-17T19:23:59.463Z"
   },
   {
    "duration": 32,
    "start_time": "2024-06-17T19:23:59.518Z"
   },
   {
    "duration": 56,
    "start_time": "2024-06-17T19:23:59.553Z"
   },
   {
    "duration": 482,
    "start_time": "2024-06-17T19:23:59.612Z"
   },
   {
    "duration": 5,
    "start_time": "2024-06-17T19:24:00.103Z"
   },
   {
    "duration": 368,
    "start_time": "2024-06-17T19:24:00.111Z"
   },
   {
    "duration": 41,
    "start_time": "2024-06-17T19:24:00.487Z"
   },
   {
    "duration": 206,
    "start_time": "2024-06-17T19:24:00.533Z"
   },
   {
    "duration": 362,
    "start_time": "2024-06-17T19:24:00.742Z"
   },
   {
    "duration": 347,
    "start_time": "2024-06-17T19:24:01.107Z"
   },
   {
    "duration": 224,
    "start_time": "2024-06-17T19:24:01.457Z"
   },
   {
    "duration": 398,
    "start_time": "2024-06-17T19:24:01.684Z"
   },
   {
    "duration": 350,
    "start_time": "2024-06-17T19:24:02.085Z"
   },
   {
    "duration": 219,
    "start_time": "2024-06-17T19:24:02.439Z"
   },
   {
    "duration": 391,
    "start_time": "2024-06-17T19:24:02.662Z"
   },
   {
    "duration": 529,
    "start_time": "2024-06-17T19:24:03.056Z"
   },
   {
    "duration": 19,
    "start_time": "2024-06-17T19:24:03.588Z"
   },
   {
    "duration": 7,
    "start_time": "2024-06-17T19:24:03.610Z"
   },
   {
    "duration": 21,
    "start_time": "2024-06-17T19:24:03.621Z"
   },
   {
    "duration": 6,
    "start_time": "2024-06-17T19:24:33.460Z"
   },
   {
    "duration": 383,
    "start_time": "2024-06-17T19:25:01.889Z"
   },
   {
    "duration": 10,
    "start_time": "2024-06-17T19:25:40.525Z"
   },
   {
    "duration": 11,
    "start_time": "2024-06-17T19:26:10.744Z"
   },
   {
    "duration": 11,
    "start_time": "2024-06-17T19:26:16.739Z"
   },
   {
    "duration": 1314,
    "start_time": "2024-06-17T19:26:34.942Z"
   },
   {
    "duration": 286,
    "start_time": "2024-06-17T19:26:36.260Z"
   },
   {
    "duration": 22,
    "start_time": "2024-06-17T19:26:36.549Z"
   },
   {
    "duration": 41,
    "start_time": "2024-06-17T19:26:36.573Z"
   },
   {
    "duration": 19,
    "start_time": "2024-06-17T19:26:36.618Z"
   },
   {
    "duration": 28,
    "start_time": "2024-06-17T19:26:36.642Z"
   },
   {
    "duration": 15,
    "start_time": "2024-06-17T19:26:36.704Z"
   },
   {
    "duration": 32,
    "start_time": "2024-06-17T19:26:36.723Z"
   },
   {
    "duration": 86,
    "start_time": "2024-06-17T19:26:36.758Z"
   },
   {
    "duration": 130,
    "start_time": "2024-06-17T19:26:36.847Z"
   },
   {
    "duration": 34,
    "start_time": "2024-06-17T19:26:36.980Z"
   },
   {
    "duration": 37,
    "start_time": "2024-06-17T19:26:37.017Z"
   },
   {
    "duration": 45,
    "start_time": "2024-06-17T19:26:37.057Z"
   },
   {
    "duration": 31,
    "start_time": "2024-06-17T19:26:37.111Z"
   },
   {
    "duration": 80,
    "start_time": "2024-06-17T19:26:37.145Z"
   },
   {
    "duration": 26,
    "start_time": "2024-06-17T19:26:37.227Z"
   },
   {
    "duration": 10,
    "start_time": "2024-06-17T19:26:37.256Z"
   },
   {
    "duration": 137,
    "start_time": "2024-06-17T19:26:37.269Z"
   },
   {
    "duration": 105,
    "start_time": "2024-06-17T19:26:37.409Z"
   },
   {
    "duration": 56,
    "start_time": "2024-06-17T19:26:37.517Z"
   },
   {
    "duration": 86,
    "start_time": "2024-06-17T19:26:37.576Z"
   },
   {
    "duration": 57,
    "start_time": "2024-06-17T19:26:37.665Z"
   },
   {
    "duration": 32,
    "start_time": "2024-06-17T19:26:37.724Z"
   },
   {
    "duration": 56,
    "start_time": "2024-06-17T19:26:37.759Z"
   },
   {
    "duration": 514,
    "start_time": "2024-06-17T19:26:37.818Z"
   },
   {
    "duration": 209,
    "start_time": "2024-06-17T19:26:38.335Z"
   },
   {
    "duration": 0,
    "start_time": "2024-06-17T19:26:38.547Z"
   },
   {
    "duration": 0,
    "start_time": "2024-06-17T19:26:38.549Z"
   },
   {
    "duration": 0,
    "start_time": "2024-06-17T19:26:38.551Z"
   },
   {
    "duration": 0,
    "start_time": "2024-06-17T19:26:38.554Z"
   },
   {
    "duration": 0,
    "start_time": "2024-06-17T19:26:38.555Z"
   },
   {
    "duration": 0,
    "start_time": "2024-06-17T19:26:38.558Z"
   },
   {
    "duration": 0,
    "start_time": "2024-06-17T19:26:38.560Z"
   },
   {
    "duration": 0,
    "start_time": "2024-06-17T19:26:38.562Z"
   },
   {
    "duration": 0,
    "start_time": "2024-06-17T19:26:38.566Z"
   },
   {
    "duration": 0,
    "start_time": "2024-06-17T19:26:38.568Z"
   },
   {
    "duration": 0,
    "start_time": "2024-06-17T19:26:38.571Z"
   },
   {
    "duration": 0,
    "start_time": "2024-06-17T19:26:38.572Z"
   },
   {
    "duration": 0,
    "start_time": "2024-06-17T19:26:38.603Z"
   },
   {
    "duration": 0,
    "start_time": "2024-06-17T19:26:38.605Z"
   },
   {
    "duration": 8,
    "start_time": "2024-06-17T19:27:16.825Z"
   },
   {
    "duration": 24,
    "start_time": "2024-06-17T19:27:32.674Z"
   },
   {
    "duration": 11,
    "start_time": "2024-06-17T19:27:55.064Z"
   },
   {
    "duration": 363,
    "start_time": "2024-06-17T19:28:43.567Z"
   },
   {
    "duration": 1321,
    "start_time": "2024-06-17T19:29:57.625Z"
   },
   {
    "duration": 278,
    "start_time": "2024-06-17T19:29:58.950Z"
   },
   {
    "duration": 23,
    "start_time": "2024-06-17T19:29:59.231Z"
   },
   {
    "duration": 43,
    "start_time": "2024-06-17T19:29:59.259Z"
   },
   {
    "duration": 20,
    "start_time": "2024-06-17T19:29:59.306Z"
   },
   {
    "duration": 27,
    "start_time": "2024-06-17T19:29:59.329Z"
   },
   {
    "duration": 46,
    "start_time": "2024-06-17T19:29:59.358Z"
   },
   {
    "duration": 30,
    "start_time": "2024-06-17T19:29:59.407Z"
   },
   {
    "duration": 89,
    "start_time": "2024-06-17T19:29:59.440Z"
   },
   {
    "duration": 119,
    "start_time": "2024-06-17T19:29:59.535Z"
   },
   {
    "duration": 25,
    "start_time": "2024-06-17T19:29:59.657Z"
   },
   {
    "duration": 38,
    "start_time": "2024-06-17T19:29:59.702Z"
   },
   {
    "duration": 20,
    "start_time": "2024-06-17T19:29:59.743Z"
   },
   {
    "duration": 57,
    "start_time": "2024-06-17T19:29:59.765Z"
   },
   {
    "duration": 46,
    "start_time": "2024-06-17T19:29:59.824Z"
   },
   {
    "duration": 45,
    "start_time": "2024-06-17T19:29:59.874Z"
   },
   {
    "duration": 10,
    "start_time": "2024-06-17T19:29:59.923Z"
   },
   {
    "duration": 141,
    "start_time": "2024-06-17T19:29:59.937Z"
   },
   {
    "duration": 109,
    "start_time": "2024-06-17T19:30:00.081Z"
   },
   {
    "duration": 61,
    "start_time": "2024-06-17T19:30:00.193Z"
   },
   {
    "duration": 90,
    "start_time": "2024-06-17T19:30:00.257Z"
   },
   {
    "duration": 53,
    "start_time": "2024-06-17T19:30:00.350Z"
   },
   {
    "duration": 31,
    "start_time": "2024-06-17T19:30:00.405Z"
   },
   {
    "duration": 26,
    "start_time": "2024-06-17T19:30:00.440Z"
   },
   {
    "duration": 500,
    "start_time": "2024-06-17T19:30:00.469Z"
   },
   {
    "duration": 362,
    "start_time": "2024-06-17T19:30:00.972Z"
   },
   {
    "duration": 27,
    "start_time": "2024-06-17T19:30:01.338Z"
   },
   {
    "duration": 235,
    "start_time": "2024-06-17T19:30:01.373Z"
   },
   {
    "duration": 357,
    "start_time": "2024-06-17T19:30:01.611Z"
   },
   {
    "duration": 352,
    "start_time": "2024-06-17T19:30:01.973Z"
   },
   {
    "duration": 216,
    "start_time": "2024-06-17T19:30:02.328Z"
   },
   {
    "duration": 388,
    "start_time": "2024-06-17T19:30:02.547Z"
   },
   {
    "duration": 364,
    "start_time": "2024-06-17T19:30:02.938Z"
   },
   {
    "duration": 227,
    "start_time": "2024-06-17T19:30:03.305Z"
   },
   {
    "duration": 390,
    "start_time": "2024-06-17T19:30:03.535Z"
   },
   {
    "duration": 543,
    "start_time": "2024-06-17T19:30:03.928Z"
   },
   {
    "duration": 26,
    "start_time": "2024-06-17T19:30:04.475Z"
   },
   {
    "duration": 7,
    "start_time": "2024-06-17T19:30:04.504Z"
   },
   {
    "duration": 22,
    "start_time": "2024-06-17T19:30:04.514Z"
   },
   {
    "duration": 371,
    "start_time": "2024-06-17T19:32:07.193Z"
   },
   {
    "duration": 15,
    "start_time": "2024-06-17T19:52:15.162Z"
   },
   {
    "duration": 23,
    "start_time": "2024-06-17T19:55:21.854Z"
   },
   {
    "duration": 22,
    "start_time": "2024-06-17T19:55:59.491Z"
   },
   {
    "duration": 29,
    "start_time": "2024-06-17T19:56:14.589Z"
   },
   {
    "duration": 324,
    "start_time": "2024-06-17T19:57:04.744Z"
   },
   {
    "duration": 27,
    "start_time": "2024-06-17T19:58:36.637Z"
   },
   {
    "duration": 313,
    "start_time": "2024-06-17T19:58:41.362Z"
   },
   {
    "duration": 30,
    "start_time": "2024-06-17T20:00:51.679Z"
   },
   {
    "duration": 25,
    "start_time": "2024-06-17T20:01:48.648Z"
   },
   {
    "duration": 326,
    "start_time": "2024-06-17T20:02:15.518Z"
   },
   {
    "duration": 6,
    "start_time": "2024-06-17T20:05:34.004Z"
   },
   {
    "duration": 198,
    "start_time": "2024-06-17T20:06:09.637Z"
   },
   {
    "duration": 19,
    "start_time": "2024-06-17T20:06:55.370Z"
   },
   {
    "duration": 333,
    "start_time": "2024-06-17T20:07:36.849Z"
   },
   {
    "duration": 5,
    "start_time": "2024-06-17T20:07:51.750Z"
   },
   {
    "duration": 1293,
    "start_time": "2024-06-17T20:07:57.842Z"
   },
   {
    "duration": 284,
    "start_time": "2024-06-17T20:07:59.139Z"
   },
   {
    "duration": 21,
    "start_time": "2024-06-17T20:07:59.426Z"
   },
   {
    "duration": 21,
    "start_time": "2024-06-17T20:07:59.451Z"
   },
   {
    "duration": 40,
    "start_time": "2024-06-17T20:07:59.475Z"
   },
   {
    "duration": 30,
    "start_time": "2024-06-17T20:07:59.517Z"
   },
   {
    "duration": 51,
    "start_time": "2024-06-17T20:07:59.551Z"
   },
   {
    "duration": 33,
    "start_time": "2024-06-17T20:07:59.605Z"
   },
   {
    "duration": 86,
    "start_time": "2024-06-17T20:07:59.642Z"
   },
   {
    "duration": 122,
    "start_time": "2024-06-17T20:07:59.734Z"
   },
   {
    "duration": 24,
    "start_time": "2024-06-17T20:07:59.860Z"
   },
   {
    "duration": 44,
    "start_time": "2024-06-17T20:07:59.902Z"
   },
   {
    "duration": 20,
    "start_time": "2024-06-17T20:07:59.949Z"
   },
   {
    "duration": 53,
    "start_time": "2024-06-17T20:07:59.972Z"
   },
   {
    "duration": 47,
    "start_time": "2024-06-17T20:08:00.028Z"
   },
   {
    "duration": 25,
    "start_time": "2024-06-17T20:08:00.100Z"
   },
   {
    "duration": 9,
    "start_time": "2024-06-17T20:08:00.128Z"
   },
   {
    "duration": 131,
    "start_time": "2024-06-17T20:08:00.140Z"
   },
   {
    "duration": 112,
    "start_time": "2024-06-17T20:08:00.274Z"
   },
   {
    "duration": 65,
    "start_time": "2024-06-17T20:08:00.389Z"
   },
   {
    "duration": 88,
    "start_time": "2024-06-17T20:08:00.457Z"
   },
   {
    "duration": 55,
    "start_time": "2024-06-17T20:08:00.548Z"
   },
   {
    "duration": 32,
    "start_time": "2024-06-17T20:08:00.606Z"
   },
   {
    "duration": 59,
    "start_time": "2024-06-17T20:08:00.641Z"
   },
   {
    "duration": 443,
    "start_time": "2024-06-17T20:08:00.704Z"
   },
   {
    "duration": 356,
    "start_time": "2024-06-17T20:08:01.150Z"
   },
   {
    "duration": 9,
    "start_time": "2024-06-17T20:08:01.510Z"
   },
   {
    "duration": 630,
    "start_time": "2024-06-17T20:08:01.528Z"
   },
   {
    "duration": 0,
    "start_time": "2024-06-17T20:08:02.161Z"
   },
   {
    "duration": 0,
    "start_time": "2024-06-17T20:08:02.163Z"
   },
   {
    "duration": 0,
    "start_time": "2024-06-17T20:08:02.165Z"
   },
   {
    "duration": 0,
    "start_time": "2024-06-17T20:08:02.166Z"
   },
   {
    "duration": 0,
    "start_time": "2024-06-17T20:08:02.168Z"
   },
   {
    "duration": 0,
    "start_time": "2024-06-17T20:08:02.170Z"
   },
   {
    "duration": 0,
    "start_time": "2024-06-17T20:08:02.172Z"
   },
   {
    "duration": 0,
    "start_time": "2024-06-17T20:08:02.175Z"
   },
   {
    "duration": 0,
    "start_time": "2024-06-17T20:08:02.201Z"
   },
   {
    "duration": 0,
    "start_time": "2024-06-17T20:08:02.203Z"
   },
   {
    "duration": 0,
    "start_time": "2024-06-17T20:08:02.205Z"
   },
   {
    "duration": 200,
    "start_time": "2024-06-17T20:13:39.181Z"
   },
   {
    "duration": 353,
    "start_time": "2024-06-17T20:15:18.735Z"
   },
   {
    "duration": 340,
    "start_time": "2024-06-17T20:15:47.697Z"
   },
   {
    "duration": 321,
    "start_time": "2024-06-17T20:16:00.491Z"
   },
   {
    "duration": 402,
    "start_time": "2024-06-17T20:17:09.473Z"
   },
   {
    "duration": 207,
    "start_time": "2024-06-17T20:17:17.689Z"
   },
   {
    "duration": 371,
    "start_time": "2024-06-17T20:17:33.733Z"
   },
   {
    "duration": 362,
    "start_time": "2024-06-17T20:17:53.471Z"
   },
   {
    "duration": 377,
    "start_time": "2024-06-17T20:18:05.910Z"
   },
   {
    "duration": 468,
    "start_time": "2024-06-17T20:18:37.863Z"
   },
   {
    "duration": 441,
    "start_time": "2024-06-17T20:19:31.303Z"
   },
   {
    "duration": 208,
    "start_time": "2024-06-17T20:19:42.081Z"
   },
   {
    "duration": 375,
    "start_time": "2024-06-17T20:20:16.227Z"
   },
   {
    "duration": 465,
    "start_time": "2024-06-17T20:20:35.291Z"
   },
   {
    "duration": 470,
    "start_time": "2024-06-17T20:20:42.677Z"
   },
   {
    "duration": 443,
    "start_time": "2024-06-17T20:20:55.164Z"
   },
   {
    "duration": 9,
    "start_time": "2024-06-17T20:21:02.386Z"
   },
   {
    "duration": 8,
    "start_time": "2024-06-17T20:21:40.905Z"
   },
   {
    "duration": 1304,
    "start_time": "2024-06-17T20:22:03.326Z"
   },
   {
    "duration": 271,
    "start_time": "2024-06-17T20:22:04.633Z"
   },
   {
    "duration": 20,
    "start_time": "2024-06-17T20:22:04.907Z"
   },
   {
    "duration": 21,
    "start_time": "2024-06-17T20:22:04.932Z"
   },
   {
    "duration": 44,
    "start_time": "2024-06-17T20:22:04.957Z"
   },
   {
    "duration": 29,
    "start_time": "2024-06-17T20:22:05.004Z"
   },
   {
    "duration": 12,
    "start_time": "2024-06-17T20:22:05.036Z"
   },
   {
    "duration": 68,
    "start_time": "2024-06-17T20:22:05.051Z"
   },
   {
    "duration": 81,
    "start_time": "2024-06-17T20:22:05.123Z"
   },
   {
    "duration": 128,
    "start_time": "2024-06-17T20:22:05.210Z"
   },
   {
    "duration": 24,
    "start_time": "2024-06-17T20:22:05.340Z"
   },
   {
    "duration": 62,
    "start_time": "2024-06-17T20:22:05.367Z"
   },
   {
    "duration": 19,
    "start_time": "2024-06-17T20:22:05.432Z"
   },
   {
    "duration": 55,
    "start_time": "2024-06-17T20:22:05.454Z"
   },
   {
    "duration": 45,
    "start_time": "2024-06-17T20:22:05.512Z"
   },
   {
    "duration": 49,
    "start_time": "2024-06-17T20:22:05.560Z"
   },
   {
    "duration": 9,
    "start_time": "2024-06-17T20:22:05.613Z"
   },
   {
    "duration": 126,
    "start_time": "2024-06-17T20:22:05.625Z"
   },
   {
    "duration": 109,
    "start_time": "2024-06-17T20:22:05.753Z"
   },
   {
    "duration": 67,
    "start_time": "2024-06-17T20:22:05.865Z"
   },
   {
    "duration": 89,
    "start_time": "2024-06-17T20:22:05.935Z"
   },
   {
    "duration": 39,
    "start_time": "2024-06-17T20:22:06.027Z"
   },
   {
    "duration": 59,
    "start_time": "2024-06-17T20:22:06.069Z"
   },
   {
    "duration": 26,
    "start_time": "2024-06-17T20:22:06.131Z"
   },
   {
    "duration": 467,
    "start_time": "2024-06-17T20:22:06.160Z"
   },
   {
    "duration": 358,
    "start_time": "2024-06-17T20:22:06.631Z"
   },
   {
    "duration": 14,
    "start_time": "2024-06-17T20:22:06.992Z"
   },
   {
    "duration": 216,
    "start_time": "2024-06-17T20:22:07.014Z"
   },
   {
    "duration": 371,
    "start_time": "2024-06-17T20:22:07.233Z"
   },
   {
    "duration": 330,
    "start_time": "2024-06-17T20:22:07.607Z"
   },
   {
    "duration": 227,
    "start_time": "2024-06-17T20:22:07.940Z"
   },
   {
    "duration": 391,
    "start_time": "2024-06-17T20:22:08.172Z"
   },
   {
    "duration": 455,
    "start_time": "2024-06-17T20:22:08.566Z"
   },
   {
    "duration": 242,
    "start_time": "2024-06-17T20:22:09.024Z"
   },
   {
    "duration": 372,
    "start_time": "2024-06-17T20:22:09.268Z"
   },
   {
    "duration": 536,
    "start_time": "2024-06-17T20:22:09.643Z"
   },
   {
    "duration": 7,
    "start_time": "2024-06-17T20:22:10.182Z"
   },
   {
    "duration": 8,
    "start_time": "2024-06-17T20:22:10.203Z"
   },
   {
    "duration": 21,
    "start_time": "2024-06-17T20:22:10.214Z"
   },
   {
    "duration": 26,
    "start_time": "2024-06-17T20:25:02.864Z"
   },
   {
    "duration": 26,
    "start_time": "2024-06-17T20:25:36.104Z"
   },
   {
    "duration": 7,
    "start_time": "2024-06-17T20:38:59.762Z"
   },
   {
    "duration": 17,
    "start_time": "2024-06-17T20:39:52.152Z"
   },
   {
    "duration": 18,
    "start_time": "2024-06-17T20:40:04.137Z"
   },
   {
    "duration": 6,
    "start_time": "2024-06-17T20:40:39.009Z"
   },
   {
    "duration": 323,
    "start_time": "2024-06-17T20:40:47.612Z"
   },
   {
    "duration": 7,
    "start_time": "2024-06-17T20:41:15.180Z"
   },
   {
    "duration": 348,
    "start_time": "2024-06-17T20:41:29.107Z"
   },
   {
    "duration": 345,
    "start_time": "2024-06-17T20:41:44.270Z"
   },
   {
    "duration": 1313,
    "start_time": "2024-06-17T20:41:58.584Z"
   },
   {
    "duration": 269,
    "start_time": "2024-06-17T20:41:59.903Z"
   },
   {
    "duration": 21,
    "start_time": "2024-06-17T20:42:00.175Z"
   },
   {
    "duration": 20,
    "start_time": "2024-06-17T20:42:00.204Z"
   },
   {
    "duration": 20,
    "start_time": "2024-06-17T20:42:00.226Z"
   },
   {
    "duration": 62,
    "start_time": "2024-06-17T20:42:00.250Z"
   },
   {
    "duration": 13,
    "start_time": "2024-06-17T20:42:00.315Z"
   },
   {
    "duration": 30,
    "start_time": "2024-06-17T20:42:00.331Z"
   },
   {
    "duration": 90,
    "start_time": "2024-06-17T20:42:00.365Z"
   },
   {
    "duration": 123,
    "start_time": "2024-06-17T20:42:00.460Z"
   },
   {
    "duration": 33,
    "start_time": "2024-06-17T20:42:00.585Z"
   },
   {
    "duration": 37,
    "start_time": "2024-06-17T20:42:00.621Z"
   },
   {
    "duration": 48,
    "start_time": "2024-06-17T20:42:00.661Z"
   },
   {
    "duration": 29,
    "start_time": "2024-06-17T20:42:00.712Z"
   },
   {
    "duration": 71,
    "start_time": "2024-06-17T20:42:00.743Z"
   },
   {
    "duration": 25,
    "start_time": "2024-06-17T20:42:00.818Z"
   },
   {
    "duration": 9,
    "start_time": "2024-06-17T20:42:00.846Z"
   },
   {
    "duration": 139,
    "start_time": "2024-06-17T20:42:00.859Z"
   },
   {
    "duration": 109,
    "start_time": "2024-06-17T20:42:01.003Z"
   },
   {
    "duration": 56,
    "start_time": "2024-06-17T20:42:01.114Z"
   },
   {
    "duration": 92,
    "start_time": "2024-06-17T20:42:01.173Z"
   },
   {
    "duration": 57,
    "start_time": "2024-06-17T20:42:01.268Z"
   },
   {
    "duration": 35,
    "start_time": "2024-06-17T20:42:01.327Z"
   },
   {
    "duration": 52,
    "start_time": "2024-06-17T20:42:01.364Z"
   },
   {
    "duration": 7,
    "start_time": "2024-06-17T20:42:01.419Z"
   },
   {
    "duration": 446,
    "start_time": "2024-06-17T20:42:01.430Z"
   },
   {
    "duration": 372,
    "start_time": "2024-06-17T20:42:01.881Z"
   },
   {
    "duration": 352,
    "start_time": "2024-06-17T20:42:02.261Z"
   },
   {
    "duration": 8,
    "start_time": "2024-06-17T20:42:02.616Z"
   },
   {
    "duration": 224,
    "start_time": "2024-06-17T20:42:02.627Z"
   },
   {
    "duration": 355,
    "start_time": "2024-06-17T20:42:02.857Z"
   },
   {
    "duration": 334,
    "start_time": "2024-06-17T20:42:03.216Z"
   },
   {
    "duration": 226,
    "start_time": "2024-06-17T20:42:03.553Z"
   },
   {
    "duration": 381,
    "start_time": "2024-06-17T20:42:03.782Z"
   },
   {
    "duration": 438,
    "start_time": "2024-06-17T20:42:04.166Z"
   },
   {
    "duration": 230,
    "start_time": "2024-06-17T20:42:04.607Z"
   },
   {
    "duration": 450,
    "start_time": "2024-06-17T20:42:04.839Z"
   },
   {
    "duration": 459,
    "start_time": "2024-06-17T20:42:05.293Z"
   },
   {
    "duration": 8,
    "start_time": "2024-06-17T20:42:05.755Z"
   },
   {
    "duration": 34,
    "start_time": "2024-06-17T20:42:05.767Z"
   },
   {
    "duration": 23,
    "start_time": "2024-06-17T20:42:05.804Z"
   },
   {
    "duration": 352,
    "start_time": "2024-06-17T20:43:17.752Z"
   },
   {
    "duration": 5,
    "start_time": "2024-06-17T20:43:24.978Z"
   },
   {
    "duration": 19,
    "start_time": "2024-06-17T20:43:25.776Z"
   },
   {
    "duration": 18,
    "start_time": "2024-06-17T20:44:51.267Z"
   },
   {
    "duration": 18,
    "start_time": "2024-06-17T20:45:01.796Z"
   },
   {
    "duration": 7,
    "start_time": "2024-06-17T20:46:14.334Z"
   },
   {
    "duration": 413,
    "start_time": "2024-06-17T20:46:16.115Z"
   },
   {
    "duration": 6,
    "start_time": "2024-06-17T20:50:28.014Z"
   },
   {
    "duration": 25,
    "start_time": "2024-06-17T20:50:35.137Z"
   },
   {
    "duration": 6,
    "start_time": "2024-06-17T20:50:44.149Z"
   },
   {
    "duration": 23,
    "start_time": "2024-06-17T20:50:44.781Z"
   },
   {
    "duration": 20,
    "start_time": "2024-06-17T20:50:59.649Z"
   },
   {
    "duration": 7,
    "start_time": "2024-06-17T20:51:35.743Z"
   },
   {
    "duration": 21,
    "start_time": "2024-06-17T20:52:07.900Z"
   },
   {
    "duration": 20,
    "start_time": "2024-06-17T20:53:28.743Z"
   },
   {
    "duration": 22,
    "start_time": "2024-06-17T20:54:46.808Z"
   },
   {
    "duration": 321,
    "start_time": "2024-06-17T20:55:09.222Z"
   },
   {
    "duration": 506,
    "start_time": "2024-06-17T20:56:30.810Z"
   },
   {
    "duration": 361,
    "start_time": "2024-06-17T20:57:46.443Z"
   },
   {
    "duration": 6,
    "start_time": "2024-06-17T21:07:22.697Z"
   },
   {
    "duration": 7,
    "start_time": "2024-06-17T21:09:36.765Z"
   },
   {
    "duration": 6,
    "start_time": "2024-06-17T21:10:00.361Z"
   },
   {
    "duration": 6,
    "start_time": "2024-06-17T21:10:01.096Z"
   },
   {
    "duration": 20,
    "start_time": "2024-06-17T21:10:04.807Z"
   },
   {
    "duration": 9,
    "start_time": "2024-06-17T21:10:15.798Z"
   },
   {
    "duration": 5,
    "start_time": "2024-06-17T21:10:16.331Z"
   },
   {
    "duration": 19,
    "start_time": "2024-06-17T21:10:17.742Z"
   },
   {
    "duration": 327,
    "start_time": "2024-06-17T21:11:08.874Z"
   },
   {
    "duration": 348,
    "start_time": "2024-06-17T21:14:12.457Z"
   },
   {
    "duration": 336,
    "start_time": "2024-06-17T21:24:58.545Z"
   },
   {
    "duration": 357,
    "start_time": "2024-06-17T21:26:13.310Z"
   },
   {
    "duration": 350,
    "start_time": "2024-06-17T21:27:53.171Z"
   },
   {
    "duration": 336,
    "start_time": "2024-06-17T21:29:02.010Z"
   },
   {
    "duration": 7,
    "start_time": "2024-06-17T21:30:18.282Z"
   },
   {
    "duration": 199,
    "start_time": "2024-06-17T21:31:10.411Z"
   },
   {
    "duration": 21,
    "start_time": "2024-06-17T21:32:21.167Z"
   },
   {
    "duration": 326,
    "start_time": "2024-06-17T21:33:23.825Z"
   },
   {
    "duration": 509,
    "start_time": "2024-06-17T21:52:32.129Z"
   },
   {
    "duration": 432,
    "start_time": "2024-06-17T21:52:58.893Z"
   },
   {
    "duration": 407,
    "start_time": "2024-06-17T21:53:52.766Z"
   },
   {
    "duration": 417,
    "start_time": "2024-06-17T21:54:15.708Z"
   },
   {
    "duration": 214,
    "start_time": "2024-06-17T21:55:07.548Z"
   },
   {
    "duration": 357,
    "start_time": "2024-06-17T21:57:14.656Z"
   },
   {
    "duration": 440,
    "start_time": "2024-06-17T21:58:39.738Z"
   },
   {
    "duration": 208,
    "start_time": "2024-06-17T21:59:14.895Z"
   },
   {
    "duration": 356,
    "start_time": "2024-06-17T22:00:00.542Z"
   },
   {
    "duration": 10588,
    "start_time": "2024-06-17T22:05:04.975Z"
   },
   {
    "duration": 112,
    "start_time": "2024-06-17T22:07:13.585Z"
   },
   {
    "duration": 94,
    "start_time": "2024-06-17T22:07:23.336Z"
   },
   {
    "duration": 62,
    "start_time": "2024-06-17T22:07:31.240Z"
   },
   {
    "duration": 76,
    "start_time": "2024-06-17T22:07:36.282Z"
   },
   {
    "duration": 35,
    "start_time": "2024-06-17T22:08:52.483Z"
   },
   {
    "duration": 18,
    "start_time": "2024-06-17T22:09:32.664Z"
   },
   {
    "duration": 25,
    "start_time": "2024-06-17T22:09:46.478Z"
   },
   {
    "duration": 17,
    "start_time": "2024-06-17T22:11:15.975Z"
   },
   {
    "duration": 308,
    "start_time": "2024-06-17T22:11:58.386Z"
   },
   {
    "duration": 300,
    "start_time": "2024-06-17T22:12:12.765Z"
   },
   {
    "duration": 309,
    "start_time": "2024-06-17T22:12:24.480Z"
   },
   {
    "duration": 307,
    "start_time": "2024-06-17T22:12:34.445Z"
   },
   {
    "duration": 395,
    "start_time": "2024-06-17T22:12:42.565Z"
   },
   {
    "duration": 199,
    "start_time": "2024-06-17T22:12:56.480Z"
   },
   {
    "duration": 335,
    "start_time": "2024-06-17T22:13:05.324Z"
   },
   {
    "duration": 421,
    "start_time": "2024-06-17T22:13:16.573Z"
   },
   {
    "duration": 190,
    "start_time": "2024-06-17T22:13:27.406Z"
   },
   {
    "duration": 340,
    "start_time": "2024-06-17T22:13:38.744Z"
   },
   {
    "duration": 455,
    "start_time": "2024-06-17T22:13:56.401Z"
   },
   {
    "duration": 1297,
    "start_time": "2024-06-17T22:26:42.355Z"
   },
   {
    "duration": 282,
    "start_time": "2024-06-17T22:26:43.656Z"
   },
   {
    "duration": 21,
    "start_time": "2024-06-17T22:26:43.940Z"
   },
   {
    "duration": 45,
    "start_time": "2024-06-17T22:26:43.966Z"
   },
   {
    "duration": 21,
    "start_time": "2024-06-17T22:26:44.014Z"
   },
   {
    "duration": 67,
    "start_time": "2024-06-17T22:26:44.038Z"
   },
   {
    "duration": 11,
    "start_time": "2024-06-17T22:26:44.108Z"
   },
   {
    "duration": 35,
    "start_time": "2024-06-17T22:26:44.122Z"
   },
   {
    "duration": 98,
    "start_time": "2024-06-17T22:26:44.161Z"
   },
   {
    "duration": 137,
    "start_time": "2024-06-17T22:26:44.264Z"
   },
   {
    "duration": 24,
    "start_time": "2024-06-17T22:26:44.405Z"
   },
   {
    "duration": 37,
    "start_time": "2024-06-17T22:26:44.432Z"
   },
   {
    "duration": 19,
    "start_time": "2024-06-17T22:26:44.501Z"
   },
   {
    "duration": 29,
    "start_time": "2024-06-17T22:26:44.524Z"
   },
   {
    "duration": 92,
    "start_time": "2024-06-17T22:26:44.556Z"
   },
   {
    "duration": 53,
    "start_time": "2024-06-17T22:26:44.652Z"
   },
   {
    "duration": 10,
    "start_time": "2024-06-17T22:26:44.708Z"
   },
   {
    "duration": 137,
    "start_time": "2024-06-17T22:26:44.722Z"
   },
   {
    "duration": 111,
    "start_time": "2024-06-17T22:26:44.862Z"
   },
   {
    "duration": 69,
    "start_time": "2024-06-17T22:26:44.976Z"
   },
   {
    "duration": 91,
    "start_time": "2024-06-17T22:26:45.048Z"
   },
   {
    "duration": 60,
    "start_time": "2024-06-17T22:26:45.142Z"
   },
   {
    "duration": 32,
    "start_time": "2024-06-17T22:26:45.205Z"
   },
   {
    "duration": 22,
    "start_time": "2024-06-17T22:26:45.240Z"
   },
   {
    "duration": 6,
    "start_time": "2024-06-17T22:26:45.301Z"
   },
   {
    "duration": 6,
    "start_time": "2024-06-17T22:26:45.311Z"
   },
   {
    "duration": 423,
    "start_time": "2024-06-17T22:26:45.321Z"
   },
   {
    "duration": 368,
    "start_time": "2024-06-17T22:26:45.753Z"
   },
   {
    "duration": 425,
    "start_time": "2024-06-17T22:26:46.124Z"
   },
   {
    "duration": 0,
    "start_time": "2024-06-17T22:26:46.552Z"
   },
   {
    "duration": 0,
    "start_time": "2024-06-17T22:26:46.555Z"
   },
   {
    "duration": 0,
    "start_time": "2024-06-17T22:26:46.558Z"
   },
   {
    "duration": 0,
    "start_time": "2024-06-17T22:26:46.561Z"
   },
   {
    "duration": 0,
    "start_time": "2024-06-17T22:26:46.563Z"
   },
   {
    "duration": 0,
    "start_time": "2024-06-17T22:26:46.566Z"
   },
   {
    "duration": 0,
    "start_time": "2024-06-17T22:26:46.601Z"
   },
   {
    "duration": 0,
    "start_time": "2024-06-17T22:26:46.603Z"
   },
   {
    "duration": 0,
    "start_time": "2024-06-17T22:26:46.605Z"
   },
   {
    "duration": 0,
    "start_time": "2024-06-17T22:26:46.607Z"
   },
   {
    "duration": 0,
    "start_time": "2024-06-17T22:26:46.609Z"
   },
   {
    "duration": 0,
    "start_time": "2024-06-17T22:26:46.614Z"
   },
   {
    "duration": 36,
    "start_time": "2024-06-17T22:27:20.654Z"
   },
   {
    "duration": 11,
    "start_time": "2024-06-17T22:27:33.819Z"
   },
   {
    "duration": 1301,
    "start_time": "2024-06-17T22:28:28.338Z"
   },
   {
    "duration": 277,
    "start_time": "2024-06-17T22:28:29.643Z"
   },
   {
    "duration": 22,
    "start_time": "2024-06-17T22:28:29.923Z"
   },
   {
    "duration": 22,
    "start_time": "2024-06-17T22:28:29.948Z"
   },
   {
    "duration": 44,
    "start_time": "2024-06-17T22:28:29.975Z"
   },
   {
    "duration": 30,
    "start_time": "2024-06-17T22:28:30.022Z"
   },
   {
    "duration": 49,
    "start_time": "2024-06-17T22:28:30.055Z"
   },
   {
    "duration": 31,
    "start_time": "2024-06-17T22:28:30.107Z"
   },
   {
    "duration": 96,
    "start_time": "2024-06-17T22:28:30.142Z"
   },
   {
    "duration": 126,
    "start_time": "2024-06-17T22:28:30.241Z"
   },
   {
    "duration": 39,
    "start_time": "2024-06-17T22:28:30.370Z"
   },
   {
    "duration": 42,
    "start_time": "2024-06-17T22:28:30.413Z"
   },
   {
    "duration": 54,
    "start_time": "2024-06-17T22:28:30.458Z"
   },
   {
    "duration": 28,
    "start_time": "2024-06-17T22:28:30.518Z"
   },
   {
    "duration": 78,
    "start_time": "2024-06-17T22:28:30.550Z"
   },
   {
    "duration": 26,
    "start_time": "2024-06-17T22:28:30.632Z"
   },
   {
    "duration": 40,
    "start_time": "2024-06-17T22:28:30.661Z"
   },
   {
    "duration": 115,
    "start_time": "2024-06-17T22:28:30.704Z"
   },
   {
    "duration": 111,
    "start_time": "2024-06-17T22:28:30.822Z"
   },
   {
    "duration": 74,
    "start_time": "2024-06-17T22:28:30.936Z"
   },
   {
    "duration": 88,
    "start_time": "2024-06-17T22:28:31.013Z"
   },
   {
    "duration": 40,
    "start_time": "2024-06-17T22:28:31.104Z"
   },
   {
    "duration": 60,
    "start_time": "2024-06-17T22:28:31.147Z"
   },
   {
    "duration": 21,
    "start_time": "2024-06-17T22:28:31.210Z"
   },
   {
    "duration": 7,
    "start_time": "2024-06-17T22:28:31.234Z"
   },
   {
    "duration": 6,
    "start_time": "2024-06-17T22:28:31.244Z"
   },
   {
    "duration": 460,
    "start_time": "2024-06-17T22:28:31.253Z"
   },
   {
    "duration": 328,
    "start_time": "2024-06-17T22:28:31.717Z"
   },
   {
    "duration": 7,
    "start_time": "2024-06-17T22:28:32.048Z"
   },
   {
    "duration": 435,
    "start_time": "2024-06-17T22:28:32.059Z"
   },
   {
    "duration": 0,
    "start_time": "2024-06-17T22:28:32.503Z"
   },
   {
    "duration": 0,
    "start_time": "2024-06-17T22:28:32.505Z"
   },
   {
    "duration": 0,
    "start_time": "2024-06-17T22:28:32.508Z"
   },
   {
    "duration": 0,
    "start_time": "2024-06-17T22:28:32.510Z"
   },
   {
    "duration": 0,
    "start_time": "2024-06-17T22:28:32.513Z"
   },
   {
    "duration": 0,
    "start_time": "2024-06-17T22:28:32.514Z"
   },
   {
    "duration": 0,
    "start_time": "2024-06-17T22:28:32.517Z"
   },
   {
    "duration": 0,
    "start_time": "2024-06-17T22:28:32.518Z"
   },
   {
    "duration": 0,
    "start_time": "2024-06-17T22:28:32.522Z"
   },
   {
    "duration": 0,
    "start_time": "2024-06-17T22:28:32.524Z"
   },
   {
    "duration": 0,
    "start_time": "2024-06-17T22:28:32.527Z"
   },
   {
    "duration": 197,
    "start_time": "2024-06-17T22:28:47.840Z"
   },
   {
    "duration": 179,
    "start_time": "2024-06-17T22:28:53.085Z"
   },
   {
    "duration": 1293,
    "start_time": "2024-06-17T22:29:01.147Z"
   },
   {
    "duration": 276,
    "start_time": "2024-06-17T22:29:02.444Z"
   },
   {
    "duration": 21,
    "start_time": "2024-06-17T22:29:02.723Z"
   },
   {
    "duration": 20,
    "start_time": "2024-06-17T22:29:02.749Z"
   },
   {
    "duration": 19,
    "start_time": "2024-06-17T22:29:02.803Z"
   },
   {
    "duration": 30,
    "start_time": "2024-06-17T22:29:02.825Z"
   },
   {
    "duration": 51,
    "start_time": "2024-06-17T22:29:02.858Z"
   },
   {
    "duration": 35,
    "start_time": "2024-06-17T22:29:02.912Z"
   },
   {
    "duration": 100,
    "start_time": "2024-06-17T22:29:02.950Z"
   },
   {
    "duration": 126,
    "start_time": "2024-06-17T22:29:03.057Z"
   },
   {
    "duration": 36,
    "start_time": "2024-06-17T22:29:03.187Z"
   },
   {
    "duration": 37,
    "start_time": "2024-06-17T22:29:03.226Z"
   },
   {
    "duration": 48,
    "start_time": "2024-06-17T22:29:03.265Z"
   },
   {
    "duration": 28,
    "start_time": "2024-06-17T22:29:03.316Z"
   },
   {
    "duration": 83,
    "start_time": "2024-06-17T22:29:03.347Z"
   },
   {
    "duration": 25,
    "start_time": "2024-06-17T22:29:03.433Z"
   },
   {
    "duration": 9,
    "start_time": "2024-06-17T22:29:03.462Z"
   },
   {
    "duration": 150,
    "start_time": "2024-06-17T22:29:03.474Z"
   },
   {
    "duration": 112,
    "start_time": "2024-06-17T22:29:03.628Z"
   },
   {
    "duration": 74,
    "start_time": "2024-06-17T22:29:03.744Z"
   },
   {
    "duration": 86,
    "start_time": "2024-06-17T22:29:03.821Z"
   },
   {
    "duration": 41,
    "start_time": "2024-06-17T22:29:03.910Z"
   },
   {
    "duration": 64,
    "start_time": "2024-06-17T22:29:03.954Z"
   },
   {
    "duration": 20,
    "start_time": "2024-06-17T22:29:04.021Z"
   },
   {
    "duration": 7,
    "start_time": "2024-06-17T22:29:04.044Z"
   },
   {
    "duration": 7,
    "start_time": "2024-06-17T22:29:04.054Z"
   },
   {
    "duration": 441,
    "start_time": "2024-06-17T22:29:04.063Z"
   },
   {
    "duration": 326,
    "start_time": "2024-06-17T22:29:04.512Z"
   },
   {
    "duration": 8,
    "start_time": "2024-06-17T22:29:04.841Z"
   },
   {
    "duration": 211,
    "start_time": "2024-06-17T22:29:04.852Z"
   },
   {
    "duration": 338,
    "start_time": "2024-06-17T22:29:05.066Z"
   },
   {
    "duration": 415,
    "start_time": "2024-06-17T22:29:05.407Z"
   },
   {
    "duration": 231,
    "start_time": "2024-06-17T22:29:05.826Z"
   },
   {
    "duration": 371,
    "start_time": "2024-06-17T22:29:06.061Z"
   },
   {
    "duration": 549,
    "start_time": "2024-06-17T22:29:06.436Z"
   },
   {
    "duration": 0,
    "start_time": "2024-06-17T22:29:06.988Z"
   },
   {
    "duration": 0,
    "start_time": "2024-06-17T22:29:06.990Z"
   },
   {
    "duration": 0,
    "start_time": "2024-06-17T22:29:06.992Z"
   },
   {
    "duration": 0,
    "start_time": "2024-06-17T22:29:06.993Z"
   },
   {
    "duration": 0,
    "start_time": "2024-06-17T22:29:07.002Z"
   },
   {
    "duration": 0,
    "start_time": "2024-06-17T22:29:07.004Z"
   },
   {
    "duration": 402,
    "start_time": "2024-06-17T22:29:22.028Z"
   },
   {
    "duration": 198,
    "start_time": "2024-06-17T22:29:25.765Z"
   },
   {
    "duration": 350,
    "start_time": "2024-06-17T22:29:30.495Z"
   },
   {
    "duration": 428,
    "start_time": "2024-06-17T22:29:31.980Z"
   },
   {
    "duration": 27,
    "start_time": "2024-06-17T22:29:33.459Z"
   },
   {
    "duration": 7,
    "start_time": "2024-06-17T22:30:28.109Z"
   },
   {
    "duration": 26,
    "start_time": "2024-06-17T22:32:34.459Z"
   },
   {
    "duration": 22,
    "start_time": "2024-06-17T22:32:35.500Z"
   },
   {
    "duration": 7,
    "start_time": "2024-06-17T22:33:06.515Z"
   },
   {
    "duration": 7,
    "start_time": "2024-06-17T22:34:50.452Z"
   },
   {
    "duration": 1333,
    "start_time": "2024-06-17T22:35:24.727Z"
   },
   {
    "duration": 331,
    "start_time": "2024-06-17T22:35:26.064Z"
   },
   {
    "duration": 26,
    "start_time": "2024-06-17T22:35:26.398Z"
   },
   {
    "duration": 21,
    "start_time": "2024-06-17T22:35:26.427Z"
   },
   {
    "duration": 52,
    "start_time": "2024-06-17T22:35:26.452Z"
   },
   {
    "duration": 35,
    "start_time": "2024-06-17T22:35:26.507Z"
   },
   {
    "duration": 17,
    "start_time": "2024-06-17T22:35:26.547Z"
   },
   {
    "duration": 35,
    "start_time": "2024-06-17T22:35:26.604Z"
   },
   {
    "duration": 89,
    "start_time": "2024-06-17T22:35:26.642Z"
   },
   {
    "duration": 126,
    "start_time": "2024-06-17T22:35:26.734Z"
   },
   {
    "duration": 43,
    "start_time": "2024-06-17T22:35:26.863Z"
   },
   {
    "duration": 37,
    "start_time": "2024-06-17T22:35:26.909Z"
   },
   {
    "duration": 52,
    "start_time": "2024-06-17T22:35:26.950Z"
   },
   {
    "duration": 29,
    "start_time": "2024-06-17T22:35:27.012Z"
   },
   {
    "duration": 74,
    "start_time": "2024-06-17T22:35:27.044Z"
   },
   {
    "duration": 26,
    "start_time": "2024-06-17T22:35:27.122Z"
   },
   {
    "duration": 10,
    "start_time": "2024-06-17T22:35:27.153Z"
   },
   {
    "duration": 117,
    "start_time": "2024-06-17T22:35:27.201Z"
   },
   {
    "duration": 110,
    "start_time": "2024-06-17T22:35:27.322Z"
   },
   {
    "duration": 71,
    "start_time": "2024-06-17T22:35:27.436Z"
   },
   {
    "duration": 93,
    "start_time": "2024-06-17T22:35:27.511Z"
   },
   {
    "duration": 50,
    "start_time": "2024-06-17T22:35:27.609Z"
   },
   {
    "duration": 60,
    "start_time": "2024-06-17T22:35:27.662Z"
   },
   {
    "duration": 20,
    "start_time": "2024-06-17T22:35:27.727Z"
   },
   {
    "duration": 6,
    "start_time": "2024-06-17T22:35:27.750Z"
   },
   {
    "duration": 43,
    "start_time": "2024-06-17T22:35:27.760Z"
   },
   {
    "duration": 430,
    "start_time": "2024-06-17T22:35:27.806Z"
   },
   {
    "duration": 344,
    "start_time": "2024-06-17T22:35:28.240Z"
   },
   {
    "duration": 16,
    "start_time": "2024-06-17T22:35:28.588Z"
   },
   {
    "duration": 217,
    "start_time": "2024-06-17T22:35:28.608Z"
   },
   {
    "duration": 333,
    "start_time": "2024-06-17T22:35:28.828Z"
   },
   {
    "duration": 400,
    "start_time": "2024-06-17T22:35:29.164Z"
   },
   {
    "duration": 217,
    "start_time": "2024-06-17T22:35:29.567Z"
   },
   {
    "duration": 383,
    "start_time": "2024-06-17T22:35:29.787Z"
   },
   {
    "duration": 401,
    "start_time": "2024-06-17T22:35:30.174Z"
   },
   {
    "duration": 202,
    "start_time": "2024-06-17T22:35:30.578Z"
   },
   {
    "duration": 439,
    "start_time": "2024-06-17T22:35:30.783Z"
   },
   {
    "duration": 432,
    "start_time": "2024-06-17T22:35:31.226Z"
   },
   {
    "duration": 7,
    "start_time": "2024-06-17T22:35:31.661Z"
   },
   {
    "duration": 31,
    "start_time": "2024-06-17T22:35:31.671Z"
   },
   {
    "duration": 25,
    "start_time": "2024-06-17T22:35:31.710Z"
   },
   {
    "duration": 1326,
    "start_time": "2024-06-17T22:37:00.867Z"
   },
   {
    "duration": 296,
    "start_time": "2024-06-17T22:37:02.201Z"
   },
   {
    "duration": 24,
    "start_time": "2024-06-17T22:37:02.500Z"
   },
   {
    "duration": 21,
    "start_time": "2024-06-17T22:37:02.527Z"
   },
   {
    "duration": 59,
    "start_time": "2024-06-17T22:37:02.554Z"
   },
   {
    "duration": 28,
    "start_time": "2024-06-17T22:37:02.616Z"
   },
   {
    "duration": 13,
    "start_time": "2024-06-17T22:37:02.647Z"
   },
   {
    "duration": 32,
    "start_time": "2024-06-17T22:37:02.703Z"
   },
   {
    "duration": 94,
    "start_time": "2024-06-17T22:37:02.739Z"
   },
   {
    "duration": 119,
    "start_time": "2024-06-17T22:37:02.835Z"
   },
   {
    "duration": 45,
    "start_time": "2024-06-17T22:37:02.957Z"
   },
   {
    "duration": 39,
    "start_time": "2024-06-17T22:37:03.005Z"
   },
   {
    "duration": 21,
    "start_time": "2024-06-17T22:37:03.047Z"
   },
   {
    "duration": 28,
    "start_time": "2024-06-17T22:37:03.106Z"
   },
   {
    "duration": 73,
    "start_time": "2024-06-17T22:37:03.137Z"
   },
   {
    "duration": 26,
    "start_time": "2024-06-17T22:37:03.214Z"
   },
   {
    "duration": 10,
    "start_time": "2024-06-17T22:37:03.243Z"
   },
   {
    "duration": 150,
    "start_time": "2024-06-17T22:37:03.256Z"
   },
   {
    "duration": 115,
    "start_time": "2024-06-17T22:37:03.409Z"
   },
   {
    "duration": 75,
    "start_time": "2024-06-17T22:37:03.527Z"
   },
   {
    "duration": 74,
    "start_time": "2024-06-17T22:37:03.605Z"
   },
   {
    "duration": 40,
    "start_time": "2024-06-17T22:37:03.702Z"
   },
   {
    "duration": 64,
    "start_time": "2024-06-17T22:37:03.745Z"
   },
   {
    "duration": 21,
    "start_time": "2024-06-17T22:37:03.812Z"
   },
   {
    "duration": 7,
    "start_time": "2024-06-17T22:37:03.836Z"
   },
   {
    "duration": 8,
    "start_time": "2024-06-17T22:37:03.846Z"
   },
   {
    "duration": 439,
    "start_time": "2024-06-17T22:37:03.857Z"
   },
   {
    "duration": 350,
    "start_time": "2024-06-17T22:37:04.302Z"
   },
   {
    "duration": 8,
    "start_time": "2024-06-17T22:37:04.655Z"
   },
   {
    "duration": 221,
    "start_time": "2024-06-17T22:37:04.667Z"
   },
   {
    "duration": 336,
    "start_time": "2024-06-17T22:37:04.890Z"
   },
   {
    "duration": 418,
    "start_time": "2024-06-17T22:37:05.229Z"
   },
   {
    "duration": 215,
    "start_time": "2024-06-17T22:37:05.651Z"
   },
   {
    "duration": 383,
    "start_time": "2024-06-17T22:37:05.870Z"
   },
   {
    "duration": 434,
    "start_time": "2024-06-17T22:37:06.257Z"
   },
   {
    "duration": 224,
    "start_time": "2024-06-17T22:37:06.702Z"
   },
   {
    "duration": 435,
    "start_time": "2024-06-17T22:37:06.930Z"
   },
   {
    "duration": 438,
    "start_time": "2024-06-17T22:37:07.368Z"
   },
   {
    "duration": 8,
    "start_time": "2024-06-17T22:37:07.810Z"
   },
   {
    "duration": 8,
    "start_time": "2024-06-17T22:37:07.822Z"
   },
   {
    "duration": 73,
    "start_time": "2024-06-17T22:37:07.840Z"
   },
   {
    "duration": 1318,
    "start_time": "2024-06-17T22:40:57.425Z"
   },
   {
    "duration": 275,
    "start_time": "2024-06-17T22:40:58.746Z"
   },
   {
    "duration": 20,
    "start_time": "2024-06-17T22:40:59.024Z"
   },
   {
    "duration": 20,
    "start_time": "2024-06-17T22:40:59.049Z"
   },
   {
    "duration": 46,
    "start_time": "2024-06-17T22:40:59.072Z"
   },
   {
    "duration": 31,
    "start_time": "2024-06-17T22:40:59.121Z"
   },
   {
    "duration": 47,
    "start_time": "2024-06-17T22:40:59.155Z"
   },
   {
    "duration": 32,
    "start_time": "2024-06-17T22:40:59.204Z"
   },
   {
    "duration": 97,
    "start_time": "2024-06-17T22:40:59.239Z"
   },
   {
    "duration": 130,
    "start_time": "2024-06-17T22:40:59.344Z"
   },
   {
    "duration": 32,
    "start_time": "2024-06-17T22:40:59.477Z"
   },
   {
    "duration": 37,
    "start_time": "2024-06-17T22:40:59.512Z"
   },
   {
    "duration": 19,
    "start_time": "2024-06-17T22:40:59.553Z"
   },
   {
    "duration": 29,
    "start_time": "2024-06-17T22:40:59.603Z"
   },
   {
    "duration": 67,
    "start_time": "2024-06-17T22:40:59.635Z"
   },
   {
    "duration": 25,
    "start_time": "2024-06-17T22:40:59.706Z"
   },
   {
    "duration": 9,
    "start_time": "2024-06-17T22:40:59.735Z"
   },
   {
    "duration": 137,
    "start_time": "2024-06-17T22:40:59.747Z"
   },
   {
    "duration": 105,
    "start_time": "2024-06-17T22:40:59.887Z"
   },
   {
    "duration": 55,
    "start_time": "2024-06-17T22:41:00.003Z"
   },
   {
    "duration": 90,
    "start_time": "2024-06-17T22:41:00.060Z"
   },
   {
    "duration": 56,
    "start_time": "2024-06-17T22:41:00.153Z"
   },
   {
    "duration": 33,
    "start_time": "2024-06-17T22:41:00.212Z"
   },
   {
    "duration": 20,
    "start_time": "2024-06-17T22:41:00.248Z"
   },
   {
    "duration": 35,
    "start_time": "2024-06-17T22:41:00.271Z"
   },
   {
    "duration": 7,
    "start_time": "2024-06-17T22:41:00.308Z"
   },
   {
    "duration": 432,
    "start_time": "2024-06-17T22:41:00.319Z"
   },
   {
    "duration": 331,
    "start_time": "2024-06-17T22:41:00.759Z"
   },
   {
    "duration": 12,
    "start_time": "2024-06-17T22:41:01.093Z"
   },
   {
    "duration": 201,
    "start_time": "2024-06-17T22:41:01.109Z"
   },
   {
    "duration": 338,
    "start_time": "2024-06-17T22:41:01.313Z"
   },
   {
    "duration": 402,
    "start_time": "2024-06-17T22:41:01.655Z"
   },
   {
    "duration": 214,
    "start_time": "2024-06-17T22:41:02.061Z"
   },
   {
    "duration": 351,
    "start_time": "2024-06-17T22:41:02.277Z"
   },
   {
    "duration": 417,
    "start_time": "2024-06-17T22:41:02.631Z"
   },
   {
    "duration": 199,
    "start_time": "2024-06-17T22:41:03.053Z"
   },
   {
    "duration": 424,
    "start_time": "2024-06-17T22:41:03.255Z"
   },
   {
    "duration": 445,
    "start_time": "2024-06-17T22:41:03.681Z"
   },
   {
    "duration": 8,
    "start_time": "2024-06-17T22:41:04.130Z"
   },
   {
    "duration": 8,
    "start_time": "2024-06-17T22:41:04.141Z"
   },
   {
    "duration": 58,
    "start_time": "2024-06-17T22:41:04.152Z"
   },
   {
    "duration": 339,
    "start_time": "2024-06-17T22:54:12.668Z"
   },
   {
    "duration": 0,
    "start_time": "2024-06-17T22:54:13.014Z"
   },
   {
    "duration": 0,
    "start_time": "2024-06-17T22:54:13.017Z"
   },
   {
    "duration": 0,
    "start_time": "2024-06-17T22:54:13.019Z"
   },
   {
    "duration": 0,
    "start_time": "2024-06-17T22:54:13.021Z"
   },
   {
    "duration": 0,
    "start_time": "2024-06-17T22:54:13.023Z"
   },
   {
    "duration": 0,
    "start_time": "2024-06-17T22:54:13.025Z"
   },
   {
    "duration": 0,
    "start_time": "2024-06-17T22:54:13.028Z"
   },
   {
    "duration": 0,
    "start_time": "2024-06-17T22:54:13.031Z"
   },
   {
    "duration": 0,
    "start_time": "2024-06-17T22:54:13.034Z"
   },
   {
    "duration": 0,
    "start_time": "2024-06-17T22:54:13.036Z"
   },
   {
    "duration": 0,
    "start_time": "2024-06-17T22:54:13.038Z"
   },
   {
    "duration": 0,
    "start_time": "2024-06-17T22:54:13.041Z"
   },
   {
    "duration": 0,
    "start_time": "2024-06-17T22:54:13.043Z"
   },
   {
    "duration": 0,
    "start_time": "2024-06-17T22:54:13.102Z"
   },
   {
    "duration": 0,
    "start_time": "2024-06-17T22:54:13.104Z"
   },
   {
    "duration": 0,
    "start_time": "2024-06-17T22:54:13.106Z"
   },
   {
    "duration": 0,
    "start_time": "2024-06-17T22:54:13.108Z"
   },
   {
    "duration": 0,
    "start_time": "2024-06-17T22:54:13.109Z"
   },
   {
    "duration": 0,
    "start_time": "2024-06-17T22:54:13.110Z"
   },
   {
    "duration": 0,
    "start_time": "2024-06-17T22:54:13.111Z"
   },
   {
    "duration": 0,
    "start_time": "2024-06-17T22:54:13.112Z"
   },
   {
    "duration": 0,
    "start_time": "2024-06-17T22:54:13.114Z"
   },
   {
    "duration": 1,
    "start_time": "2024-06-17T22:54:13.115Z"
   },
   {
    "duration": 0,
    "start_time": "2024-06-17T22:54:13.117Z"
   },
   {
    "duration": 0,
    "start_time": "2024-06-17T22:54:13.119Z"
   },
   {
    "duration": 0,
    "start_time": "2024-06-17T22:54:13.120Z"
   },
   {
    "duration": 0,
    "start_time": "2024-06-17T22:54:13.127Z"
   },
   {
    "duration": 0,
    "start_time": "2024-06-17T22:54:13.129Z"
   },
   {
    "duration": 0,
    "start_time": "2024-06-17T22:54:13.131Z"
   },
   {
    "duration": 0,
    "start_time": "2024-06-17T22:54:13.133Z"
   },
   {
    "duration": 0,
    "start_time": "2024-06-17T22:54:13.135Z"
   },
   {
    "duration": 0,
    "start_time": "2024-06-17T22:54:13.138Z"
   },
   {
    "duration": 0,
    "start_time": "2024-06-17T22:54:13.140Z"
   },
   {
    "duration": 0,
    "start_time": "2024-06-17T22:54:13.142Z"
   },
   {
    "duration": 0,
    "start_time": "2024-06-17T22:54:13.143Z"
   },
   {
    "duration": 0,
    "start_time": "2024-06-17T22:54:13.203Z"
   },
   {
    "duration": 0,
    "start_time": "2024-06-17T22:54:13.204Z"
   },
   {
    "duration": 0,
    "start_time": "2024-06-17T22:54:13.207Z"
   },
   {
    "duration": 0,
    "start_time": "2024-06-17T22:54:13.209Z"
   },
   {
    "duration": 1268,
    "start_time": "2024-06-17T22:59:27.966Z"
   },
   {
    "duration": 1285,
    "start_time": "2024-06-17T22:59:36.679Z"
   },
   {
    "duration": 295,
    "start_time": "2024-06-17T22:59:37.967Z"
   },
   {
    "duration": 22,
    "start_time": "2024-06-17T22:59:38.266Z"
   },
   {
    "duration": 20,
    "start_time": "2024-06-17T22:59:38.304Z"
   },
   {
    "duration": 19,
    "start_time": "2024-06-17T22:59:38.328Z"
   },
   {
    "duration": 59,
    "start_time": "2024-06-17T22:59:38.350Z"
   },
   {
    "duration": 12,
    "start_time": "2024-06-17T22:59:38.412Z"
   },
   {
    "duration": 32,
    "start_time": "2024-06-17T22:59:38.427Z"
   },
   {
    "duration": 90,
    "start_time": "2024-06-17T22:59:38.462Z"
   },
   {
    "duration": 123,
    "start_time": "2024-06-17T22:59:38.558Z"
   },
   {
    "duration": 35,
    "start_time": "2024-06-17T22:59:38.684Z"
   },
   {
    "duration": 37,
    "start_time": "2024-06-17T22:59:38.722Z"
   },
   {
    "duration": 44,
    "start_time": "2024-06-17T22:59:38.762Z"
   },
   {
    "duration": 29,
    "start_time": "2024-06-17T22:59:38.809Z"
   },
   {
    "duration": 75,
    "start_time": "2024-06-17T22:59:38.840Z"
   },
   {
    "duration": 25,
    "start_time": "2024-06-17T22:59:38.918Z"
   },
   {
    "duration": 9,
    "start_time": "2024-06-17T22:59:38.946Z"
   },
   {
    "duration": 128,
    "start_time": "2024-06-17T22:59:38.959Z"
   },
   {
    "duration": 102,
    "start_time": "2024-06-17T22:59:39.090Z"
   },
   {
    "duration": 56,
    "start_time": "2024-06-17T22:59:39.202Z"
   },
   {
    "duration": 97,
    "start_time": "2024-06-17T22:59:39.261Z"
   },
   {
    "duration": 61,
    "start_time": "2024-06-17T22:59:39.362Z"
   },
   {
    "duration": 31,
    "start_time": "2024-06-17T22:59:39.427Z"
   },
   {
    "duration": 43,
    "start_time": "2024-06-17T22:59:39.461Z"
   },
   {
    "duration": 6,
    "start_time": "2024-06-17T22:59:39.507Z"
   },
   {
    "duration": 6,
    "start_time": "2024-06-17T22:59:39.517Z"
   },
   {
    "duration": 419,
    "start_time": "2024-06-17T22:59:39.526Z"
   },
   {
    "duration": 325,
    "start_time": "2024-06-17T22:59:39.954Z"
   },
   {
    "duration": 8,
    "start_time": "2024-06-17T22:59:40.282Z"
   },
   {
    "duration": 206,
    "start_time": "2024-06-17T22:59:40.302Z"
   },
   {
    "duration": 334,
    "start_time": "2024-06-17T22:59:40.512Z"
   },
   {
    "duration": 403,
    "start_time": "2024-06-17T22:59:40.849Z"
   },
   {
    "duration": 211,
    "start_time": "2024-06-17T22:59:41.255Z"
   },
   {
    "duration": 381,
    "start_time": "2024-06-17T22:59:41.469Z"
   },
   {
    "duration": 407,
    "start_time": "2024-06-17T22:59:41.853Z"
   },
   {
    "duration": 209,
    "start_time": "2024-06-17T22:59:42.263Z"
   },
   {
    "duration": 458,
    "start_time": "2024-06-17T22:59:42.474Z"
   },
   {
    "duration": 436,
    "start_time": "2024-06-17T22:59:42.935Z"
   },
   {
    "duration": 8,
    "start_time": "2024-06-17T22:59:43.374Z"
   },
   {
    "duration": 20,
    "start_time": "2024-06-17T22:59:43.385Z"
   },
   {
    "duration": 23,
    "start_time": "2024-06-17T22:59:43.408Z"
   },
   {
    "duration": 9,
    "start_time": "2024-06-17T23:28:40.767Z"
   },
   {
    "duration": 8,
    "start_time": "2024-06-17T23:29:05.116Z"
   },
   {
    "duration": 36,
    "start_time": "2024-06-17T23:30:45.776Z"
   },
   {
    "duration": 34,
    "start_time": "2024-06-17T23:31:04.002Z"
   },
   {
    "duration": 43,
    "start_time": "2024-06-17T23:31:29.944Z"
   },
   {
    "duration": 37,
    "start_time": "2024-06-17T23:35:37.525Z"
   },
   {
    "duration": 37,
    "start_time": "2024-06-17T23:36:55.117Z"
   },
   {
    "duration": 31,
    "start_time": "2024-06-17T23:37:34.705Z"
   },
   {
    "duration": 32,
    "start_time": "2024-06-17T23:40:41.917Z"
   },
   {
    "duration": 20,
    "start_time": "2024-06-17T23:44:01.484Z"
   },
   {
    "duration": 12,
    "start_time": "2024-06-17T23:44:09.025Z"
   },
   {
    "duration": 18,
    "start_time": "2024-06-17T23:44:17.448Z"
   },
   {
    "duration": 33,
    "start_time": "2024-06-17T23:44:55.976Z"
   },
   {
    "duration": 34,
    "start_time": "2024-06-17T23:45:05.542Z"
   },
   {
    "duration": 43,
    "start_time": "2024-06-17T23:46:18.953Z"
   },
   {
    "duration": 41,
    "start_time": "2024-06-17T23:46:46.172Z"
   },
   {
    "duration": 17,
    "start_time": "2024-06-17T23:50:01.524Z"
   },
   {
    "duration": 17,
    "start_time": "2024-06-17T23:50:09.332Z"
   },
   {
    "duration": 329,
    "start_time": "2024-06-17T23:52:18.107Z"
   },
   {
    "duration": 425,
    "start_time": "2024-06-17T23:53:13.036Z"
   },
   {
    "duration": 7,
    "start_time": "2024-06-17T23:54:15.000Z"
   },
   {
    "duration": 271,
    "start_time": "2024-06-18T00:01:13.401Z"
   },
   {
    "duration": 351,
    "start_time": "2024-06-18T00:02:25.413Z"
   },
   {
    "duration": 465,
    "start_time": "2024-06-18T00:07:15.669Z"
   },
   {
    "duration": 398,
    "start_time": "2024-06-18T00:08:16.986Z"
   },
   {
    "duration": 189,
    "start_time": "2024-06-18T00:10:03.052Z"
   },
   {
    "duration": 333,
    "start_time": "2024-06-18T00:13:21.817Z"
   },
   {
    "duration": 9,
    "start_time": "2024-06-18T00:17:46.010Z"
   },
   {
    "duration": 6,
    "start_time": "2024-06-18T00:19:13.742Z"
   },
   {
    "duration": 6,
    "start_time": "2024-06-18T00:25:02.952Z"
   },
   {
    "duration": 24,
    "start_time": "2024-06-18T00:33:07.626Z"
   },
   {
    "duration": 25,
    "start_time": "2024-06-18T00:33:33.613Z"
   },
   {
    "duration": 25,
    "start_time": "2024-06-18T00:38:41.914Z"
   },
   {
    "duration": 25,
    "start_time": "2024-06-18T00:40:32.176Z"
   },
   {
    "duration": 24,
    "start_time": "2024-06-18T00:40:59.984Z"
   },
   {
    "duration": 1311,
    "start_time": "2024-06-18T00:43:13.516Z"
   },
   {
    "duration": 272,
    "start_time": "2024-06-18T00:43:14.831Z"
   },
   {
    "duration": 21,
    "start_time": "2024-06-18T00:43:15.106Z"
   },
   {
    "duration": 19,
    "start_time": "2024-06-18T00:43:15.131Z"
   },
   {
    "duration": 49,
    "start_time": "2024-06-18T00:43:15.153Z"
   },
   {
    "duration": 28,
    "start_time": "2024-06-18T00:43:15.205Z"
   },
   {
    "duration": 13,
    "start_time": "2024-06-18T00:43:15.236Z"
   },
   {
    "duration": 72,
    "start_time": "2024-06-18T00:43:15.252Z"
   },
   {
    "duration": 61,
    "start_time": "2024-06-18T00:43:15.326Z"
   },
   {
    "duration": 120,
    "start_time": "2024-06-18T00:43:15.406Z"
   },
   {
    "duration": 26,
    "start_time": "2024-06-18T00:43:15.529Z"
   },
   {
    "duration": 56,
    "start_time": "2024-06-18T00:43:15.560Z"
   },
   {
    "duration": 19,
    "start_time": "2024-06-18T00:43:15.620Z"
   },
   {
    "duration": 28,
    "start_time": "2024-06-18T00:43:15.643Z"
   },
   {
    "duration": 71,
    "start_time": "2024-06-18T00:43:15.674Z"
   },
   {
    "duration": 26,
    "start_time": "2024-06-18T00:43:15.748Z"
   },
   {
    "duration": 9,
    "start_time": "2024-06-18T00:43:15.801Z"
   },
   {
    "duration": 135,
    "start_time": "2024-06-18T00:43:15.813Z"
   },
   {
    "duration": 112,
    "start_time": "2024-06-18T00:43:15.952Z"
   },
   {
    "duration": 68,
    "start_time": "2024-06-18T00:43:16.067Z"
   },
   {
    "duration": 85,
    "start_time": "2024-06-18T00:43:16.137Z"
   },
   {
    "duration": 40,
    "start_time": "2024-06-18T00:43:16.224Z"
   },
   {
    "duration": 56,
    "start_time": "2024-06-18T00:43:16.267Z"
   },
   {
    "duration": 19,
    "start_time": "2024-06-18T00:43:16.326Z"
   },
   {
    "duration": 6,
    "start_time": "2024-06-18T00:43:16.348Z"
   },
   {
    "duration": 7,
    "start_time": "2024-06-18T00:43:16.357Z"
   },
   {
    "duration": 434,
    "start_time": "2024-06-18T00:43:16.367Z"
   },
   {
    "duration": 427,
    "start_time": "2024-06-18T00:43:16.809Z"
   },
   {
    "duration": 8,
    "start_time": "2024-06-18T00:43:17.239Z"
   },
   {
    "duration": 201,
    "start_time": "2024-06-18T00:43:17.250Z"
   },
   {
    "duration": 328,
    "start_time": "2024-06-18T00:43:17.455Z"
   },
   {
    "duration": 426,
    "start_time": "2024-06-18T00:43:17.787Z"
   },
   {
    "duration": 209,
    "start_time": "2024-06-18T00:43:18.218Z"
   },
   {
    "duration": 373,
    "start_time": "2024-06-18T00:43:18.430Z"
   },
   {
    "duration": 442,
    "start_time": "2024-06-18T00:43:18.807Z"
   },
   {
    "duration": 281,
    "start_time": "2024-06-18T00:43:19.255Z"
   },
   {
    "duration": 356,
    "start_time": "2024-06-18T00:43:19.540Z"
   },
   {
    "duration": 456,
    "start_time": "2024-06-18T00:43:19.898Z"
   },
   {
    "duration": 9,
    "start_time": "2024-06-18T00:43:20.357Z"
   },
   {
    "duration": 33,
    "start_time": "2024-06-18T00:43:20.369Z"
   },
   {
    "duration": 27,
    "start_time": "2024-06-18T00:43:20.406Z"
   },
   {
    "duration": 1638,
    "start_time": "2024-06-18T00:48:28.944Z"
   },
   {
    "duration": 314,
    "start_time": "2024-06-18T00:49:51.724Z"
   },
   {
    "duration": 421,
    "start_time": "2024-06-18T00:50:35.974Z"
   },
   {
    "duration": 349,
    "start_time": "2024-06-18T00:50:59.331Z"
   },
   {
    "duration": 336,
    "start_time": "2024-06-18T00:51:57.947Z"
   },
   {
    "duration": 312,
    "start_time": "2024-06-18T00:52:10.689Z"
   },
   {
    "duration": 315,
    "start_time": "2024-06-18T00:52:44.897Z"
   },
   {
    "duration": 418,
    "start_time": "2024-06-18T00:53:25.614Z"
   },
   {
    "duration": 324,
    "start_time": "2024-06-18T00:54:02.948Z"
   },
   {
    "duration": 545,
    "start_time": "2024-06-18T00:54:46.903Z"
   },
   {
    "duration": 379,
    "start_time": "2024-06-18T00:55:06.347Z"
   },
   {
    "duration": 361,
    "start_time": "2024-06-18T00:55:23.930Z"
   },
   {
    "duration": 363,
    "start_time": "2024-06-18T00:55:38.098Z"
   },
   {
    "duration": 558,
    "start_time": "2024-06-18T00:59:54.021Z"
   },
   {
    "duration": 789,
    "start_time": "2024-06-18T01:00:27.302Z"
   },
   {
    "duration": 611,
    "start_time": "2024-06-18T01:01:20.003Z"
   },
   {
    "duration": 555,
    "start_time": "2024-06-18T01:02:01.866Z"
   },
   {
    "duration": 594,
    "start_time": "2024-06-18T01:02:46.547Z"
   },
   {
    "duration": 617,
    "start_time": "2024-06-18T01:02:55.837Z"
   },
   {
    "duration": 526,
    "start_time": "2024-06-18T01:03:05.328Z"
   },
   {
    "duration": 545,
    "start_time": "2024-06-18T01:03:51.731Z"
   },
   {
    "duration": 182,
    "start_time": "2024-06-18T01:07:14.866Z"
   },
   {
    "duration": 381,
    "start_time": "2024-06-18T01:10:10.327Z"
   },
   {
    "duration": 347,
    "start_time": "2024-06-18T01:10:32.671Z"
   },
   {
    "duration": 321,
    "start_time": "2024-06-18T01:11:11.247Z"
   },
   {
    "duration": 327,
    "start_time": "2024-06-18T01:13:00.645Z"
   },
   {
    "duration": 473,
    "start_time": "2024-06-18T01:39:11.275Z"
   },
   {
    "duration": 554,
    "start_time": "2024-06-18T01:43:02.978Z"
   },
   {
    "duration": 333,
    "start_time": "2024-06-18T01:45:49.314Z"
   },
   {
    "duration": 350,
    "start_time": "2024-06-18T01:48:19.694Z"
   },
   {
    "duration": 368,
    "start_time": "2024-06-18T01:48:33.044Z"
   },
   {
    "duration": 350,
    "start_time": "2024-06-18T01:48:40.270Z"
   },
   {
    "duration": 339,
    "start_time": "2024-06-18T01:49:18.524Z"
   },
   {
    "duration": 350,
    "start_time": "2024-06-18T01:50:03.490Z"
   },
   {
    "duration": 556,
    "start_time": "2024-06-18T01:52:01.981Z"
   },
   {
    "duration": 311,
    "start_time": "2024-06-18T01:54:17.082Z"
   },
   {
    "duration": 310,
    "start_time": "2024-06-18T01:55:08.883Z"
   },
   {
    "duration": 343,
    "start_time": "2024-06-18T01:57:45.221Z"
   },
   {
    "duration": 343,
    "start_time": "2024-06-18T01:58:17.475Z"
   },
   {
    "duration": 706,
    "start_time": "2024-06-18T02:04:20.817Z"
   },
   {
    "duration": 9,
    "start_time": "2024-06-18T02:04:59.038Z"
   },
   {
    "duration": 550,
    "start_time": "2024-06-18T02:05:19.387Z"
   },
   {
    "duration": 11,
    "start_time": "2024-06-18T02:05:59.809Z"
   },
   {
    "duration": 634,
    "start_time": "2024-06-18T02:06:05.603Z"
   },
   {
    "duration": 1332,
    "start_time": "2024-06-18T02:06:29.595Z"
   },
   {
    "duration": 275,
    "start_time": "2024-06-18T02:06:30.930Z"
   },
   {
    "duration": 20,
    "start_time": "2024-06-18T02:06:31.208Z"
   },
   {
    "duration": 21,
    "start_time": "2024-06-18T02:06:31.232Z"
   },
   {
    "duration": 50,
    "start_time": "2024-06-18T02:06:31.256Z"
   },
   {
    "duration": 30,
    "start_time": "2024-06-18T02:06:31.308Z"
   },
   {
    "duration": 11,
    "start_time": "2024-06-18T02:06:31.341Z"
   },
   {
    "duration": 66,
    "start_time": "2024-06-18T02:06:31.356Z"
   },
   {
    "duration": 87,
    "start_time": "2024-06-18T02:06:31.425Z"
   },
   {
    "duration": 127,
    "start_time": "2024-06-18T02:06:31.519Z"
   },
   {
    "duration": 25,
    "start_time": "2024-06-18T02:06:31.649Z"
   },
   {
    "duration": 56,
    "start_time": "2024-06-18T02:06:31.677Z"
   },
   {
    "duration": 21,
    "start_time": "2024-06-18T02:06:31.736Z"
   },
   {
    "duration": 59,
    "start_time": "2024-06-18T02:06:31.760Z"
   },
   {
    "duration": 48,
    "start_time": "2024-06-18T02:06:31.824Z"
   },
   {
    "duration": 50,
    "start_time": "2024-06-18T02:06:31.875Z"
   },
   {
    "duration": 9,
    "start_time": "2024-06-18T02:06:31.928Z"
   },
   {
    "duration": 125,
    "start_time": "2024-06-18T02:06:31.940Z"
   },
   {
    "duration": 109,
    "start_time": "2024-06-18T02:06:32.068Z"
   },
   {
    "duration": 64,
    "start_time": "2024-06-18T02:06:32.180Z"
   },
   {
    "duration": 86,
    "start_time": "2024-06-18T02:06:32.248Z"
   },
   {
    "duration": 64,
    "start_time": "2024-06-18T02:06:32.337Z"
   },
   {
    "duration": 30,
    "start_time": "2024-06-18T02:06:32.404Z"
   },
   {
    "duration": 22,
    "start_time": "2024-06-18T02:06:32.438Z"
   },
   {
    "duration": 38,
    "start_time": "2024-06-18T02:06:32.463Z"
   },
   {
    "duration": 7,
    "start_time": "2024-06-18T02:06:32.504Z"
   },
   {
    "duration": 444,
    "start_time": "2024-06-18T02:06:32.514Z"
   },
   {
    "duration": 411,
    "start_time": "2024-06-18T02:06:32.967Z"
   },
   {
    "duration": 0,
    "start_time": "2024-06-18T02:06:33.380Z"
   },
   {
    "duration": 0,
    "start_time": "2024-06-18T02:06:33.382Z"
   },
   {
    "duration": 0,
    "start_time": "2024-06-18T02:06:33.385Z"
   },
   {
    "duration": 0,
    "start_time": "2024-06-18T02:06:33.402Z"
   },
   {
    "duration": 0,
    "start_time": "2024-06-18T02:06:33.405Z"
   },
   {
    "duration": 0,
    "start_time": "2024-06-18T02:06:33.406Z"
   },
   {
    "duration": 0,
    "start_time": "2024-06-18T02:06:33.408Z"
   },
   {
    "duration": 0,
    "start_time": "2024-06-18T02:06:33.410Z"
   },
   {
    "duration": 0,
    "start_time": "2024-06-18T02:06:33.411Z"
   },
   {
    "duration": 0,
    "start_time": "2024-06-18T02:06:33.414Z"
   },
   {
    "duration": 0,
    "start_time": "2024-06-18T02:06:33.416Z"
   },
   {
    "duration": 0,
    "start_time": "2024-06-18T02:06:33.419Z"
   },
   {
    "duration": 0,
    "start_time": "2024-06-18T02:06:33.421Z"
   },
   {
    "duration": 0,
    "start_time": "2024-06-18T02:06:33.423Z"
   },
   {
    "duration": 563,
    "start_time": "2024-06-18T02:08:09.987Z"
   },
   {
    "duration": 1344,
    "start_time": "2024-06-18T02:08:25.576Z"
   },
   {
    "duration": 289,
    "start_time": "2024-06-18T02:08:26.924Z"
   },
   {
    "duration": 21,
    "start_time": "2024-06-18T02:08:27.216Z"
   },
   {
    "duration": 22,
    "start_time": "2024-06-18T02:08:27.242Z"
   },
   {
    "duration": 51,
    "start_time": "2024-06-18T02:08:27.267Z"
   },
   {
    "duration": 28,
    "start_time": "2024-06-18T02:08:27.321Z"
   },
   {
    "duration": 49,
    "start_time": "2024-06-18T02:08:27.352Z"
   },
   {
    "duration": 33,
    "start_time": "2024-06-18T02:08:27.404Z"
   },
   {
    "duration": 85,
    "start_time": "2024-06-18T02:08:27.440Z"
   },
   {
    "duration": 123,
    "start_time": "2024-06-18T02:08:27.531Z"
   },
   {
    "duration": 23,
    "start_time": "2024-06-18T02:08:27.658Z"
   },
   {
    "duration": 38,
    "start_time": "2024-06-18T02:08:27.701Z"
   },
   {
    "duration": 20,
    "start_time": "2024-06-18T02:08:27.742Z"
   },
   {
    "duration": 58,
    "start_time": "2024-06-18T02:08:27.765Z"
   },
   {
    "duration": 47,
    "start_time": "2024-06-18T02:08:27.825Z"
   },
   {
    "duration": 45,
    "start_time": "2024-06-18T02:08:27.875Z"
   },
   {
    "duration": 9,
    "start_time": "2024-06-18T02:08:27.923Z"
   },
   {
    "duration": 138,
    "start_time": "2024-06-18T02:08:27.936Z"
   },
   {
    "duration": 114,
    "start_time": "2024-06-18T02:08:28.077Z"
   },
   {
    "duration": 60,
    "start_time": "2024-06-18T02:08:28.203Z"
   },
   {
    "duration": 96,
    "start_time": "2024-06-18T02:08:28.266Z"
   },
   {
    "duration": 51,
    "start_time": "2024-06-18T02:08:28.364Z"
   },
   {
    "duration": 31,
    "start_time": "2024-06-18T02:08:28.418Z"
   },
   {
    "duration": 50,
    "start_time": "2024-06-18T02:08:28.452Z"
   },
   {
    "duration": 7,
    "start_time": "2024-06-18T02:08:28.504Z"
   },
   {
    "duration": 6,
    "start_time": "2024-06-18T02:08:28.515Z"
   },
   {
    "duration": 433,
    "start_time": "2024-06-18T02:08:28.525Z"
   },
   {
    "duration": 576,
    "start_time": "2024-06-18T02:08:28.965Z"
   },
   {
    "duration": 8,
    "start_time": "2024-06-18T02:08:29.544Z"
   },
   {
    "duration": 346,
    "start_time": "2024-06-18T02:08:29.556Z"
   },
   {
    "duration": 337,
    "start_time": "2024-06-18T02:08:29.904Z"
   },
   {
    "duration": 576,
    "start_time": "2024-06-18T02:08:30.244Z"
   },
   {
    "duration": 355,
    "start_time": "2024-06-18T02:08:30.823Z"
   },
   {
    "duration": 372,
    "start_time": "2024-06-18T02:08:31.181Z"
   },
   {
    "duration": 579,
    "start_time": "2024-06-18T02:08:31.556Z"
   },
   {
    "duration": 446,
    "start_time": "2024-06-18T02:08:32.138Z"
   },
   {
    "duration": 358,
    "start_time": "2024-06-18T02:08:32.587Z"
   },
   {
    "duration": 594,
    "start_time": "2024-06-18T02:08:32.948Z"
   },
   {
    "duration": 8,
    "start_time": "2024-06-18T02:08:33.545Z"
   },
   {
    "duration": 7,
    "start_time": "2024-06-18T02:08:33.557Z"
   },
   {
    "duration": 55,
    "start_time": "2024-06-18T02:08:33.567Z"
   },
   {
    "duration": 623,
    "start_time": "2024-06-18T02:09:09.426Z"
   },
   {
    "duration": 688,
    "start_time": "2024-06-18T02:09:19.036Z"
   },
   {
    "duration": 577,
    "start_time": "2024-06-18T02:09:45.689Z"
   },
   {
    "duration": 515,
    "start_time": "2024-06-18T02:10:01.728Z"
   },
   {
    "duration": 546,
    "start_time": "2024-06-18T02:10:17.909Z"
   },
   {
    "duration": 1330,
    "start_time": "2024-06-18T02:10:35.312Z"
   },
   {
    "duration": 292,
    "start_time": "2024-06-18T02:10:36.647Z"
   },
   {
    "duration": 20,
    "start_time": "2024-06-18T02:10:36.942Z"
   },
   {
    "duration": 37,
    "start_time": "2024-06-18T02:10:36.965Z"
   },
   {
    "duration": 20,
    "start_time": "2024-06-18T02:10:37.007Z"
   },
   {
    "duration": 29,
    "start_time": "2024-06-18T02:10:37.030Z"
   },
   {
    "duration": 50,
    "start_time": "2024-06-18T02:10:37.061Z"
   },
   {
    "duration": 31,
    "start_time": "2024-06-18T02:10:37.114Z"
   },
   {
    "duration": 85,
    "start_time": "2024-06-18T02:10:37.148Z"
   },
   {
    "duration": 119,
    "start_time": "2024-06-18T02:10:37.236Z"
   },
   {
    "duration": 25,
    "start_time": "2024-06-18T02:10:37.358Z"
   },
   {
    "duration": 37,
    "start_time": "2024-06-18T02:10:37.402Z"
   },
   {
    "duration": 20,
    "start_time": "2024-06-18T02:10:37.442Z"
   },
   {
    "duration": 56,
    "start_time": "2024-06-18T02:10:37.469Z"
   },
   {
    "duration": 47,
    "start_time": "2024-06-18T02:10:37.528Z"
   },
   {
    "duration": 45,
    "start_time": "2024-06-18T02:10:37.578Z"
   },
   {
    "duration": 10,
    "start_time": "2024-06-18T02:10:37.626Z"
   },
   {
    "duration": 144,
    "start_time": "2024-06-18T02:10:37.639Z"
   },
   {
    "duration": 118,
    "start_time": "2024-06-18T02:10:37.786Z"
   },
   {
    "duration": 56,
    "start_time": "2024-06-18T02:10:37.906Z"
   },
   {
    "duration": 97,
    "start_time": "2024-06-18T02:10:37.966Z"
   },
   {
    "duration": 56,
    "start_time": "2024-06-18T02:10:38.066Z"
   },
   {
    "duration": 34,
    "start_time": "2024-06-18T02:10:38.124Z"
   },
   {
    "duration": 47,
    "start_time": "2024-06-18T02:10:38.161Z"
   },
   {
    "duration": 10,
    "start_time": "2024-06-18T02:10:38.212Z"
   },
   {
    "duration": 7,
    "start_time": "2024-06-18T02:10:38.227Z"
   },
   {
    "duration": 426,
    "start_time": "2024-06-18T02:10:38.237Z"
   },
   {
    "duration": 580,
    "start_time": "2024-06-18T02:10:38.667Z"
   },
   {
    "duration": 10,
    "start_time": "2024-06-18T02:10:39.251Z"
   },
   {
    "duration": 325,
    "start_time": "2024-06-18T02:10:39.264Z"
   },
   {
    "duration": 335,
    "start_time": "2024-06-18T02:10:39.602Z"
   },
   {
    "duration": 590,
    "start_time": "2024-06-18T02:10:39.940Z"
   },
   {
    "duration": 346,
    "start_time": "2024-06-18T02:10:40.533Z"
   },
   {
    "duration": 363,
    "start_time": "2024-06-18T02:10:40.883Z"
   },
   {
    "duration": 582,
    "start_time": "2024-06-18T02:10:41.249Z"
   },
   {
    "duration": 432,
    "start_time": "2024-06-18T02:10:41.834Z"
   },
   {
    "duration": 376,
    "start_time": "2024-06-18T02:10:42.269Z"
   },
   {
    "duration": 594,
    "start_time": "2024-06-18T02:10:42.649Z"
   },
   {
    "duration": 8,
    "start_time": "2024-06-18T02:10:43.247Z"
   },
   {
    "duration": 7,
    "start_time": "2024-06-18T02:10:43.259Z"
   },
   {
    "duration": 48,
    "start_time": "2024-06-18T02:10:43.273Z"
   },
   {
    "duration": 1298,
    "start_time": "2024-06-18T02:18:53.839Z"
   },
   {
    "duration": 293,
    "start_time": "2024-06-18T02:18:55.140Z"
   },
   {
    "duration": 34,
    "start_time": "2024-06-18T02:18:55.436Z"
   },
   {
    "duration": 27,
    "start_time": "2024-06-18T02:18:55.475Z"
   },
   {
    "duration": 20,
    "start_time": "2024-06-18T02:18:55.505Z"
   },
   {
    "duration": 31,
    "start_time": "2024-06-18T02:18:55.528Z"
   },
   {
    "duration": 49,
    "start_time": "2024-06-18T02:18:55.562Z"
   },
   {
    "duration": 33,
    "start_time": "2024-06-18T02:18:55.614Z"
   },
   {
    "duration": 91,
    "start_time": "2024-06-18T02:18:55.649Z"
   },
   {
    "duration": 118,
    "start_time": "2024-06-18T02:18:55.748Z"
   },
   {
    "duration": 42,
    "start_time": "2024-06-18T02:18:55.869Z"
   },
   {
    "duration": 47,
    "start_time": "2024-06-18T02:18:55.915Z"
   },
   {
    "duration": 37,
    "start_time": "2024-06-18T02:18:55.965Z"
   },
   {
    "duration": 33,
    "start_time": "2024-06-18T02:18:56.006Z"
   },
   {
    "duration": 70,
    "start_time": "2024-06-18T02:18:56.042Z"
   },
   {
    "duration": 27,
    "start_time": "2024-06-18T02:18:56.117Z"
   },
   {
    "duration": 10,
    "start_time": "2024-06-18T02:18:56.147Z"
   },
   {
    "duration": 142,
    "start_time": "2024-06-18T02:18:56.160Z"
   },
   {
    "duration": 118,
    "start_time": "2024-06-18T02:18:56.308Z"
   },
   {
    "duration": 73,
    "start_time": "2024-06-18T02:18:56.430Z"
   },
   {
    "duration": 75,
    "start_time": "2024-06-18T02:18:56.506Z"
   },
   {
    "duration": 58,
    "start_time": "2024-06-18T02:18:56.586Z"
   },
   {
    "duration": 33,
    "start_time": "2024-06-18T02:18:56.647Z"
   },
   {
    "duration": 37,
    "start_time": "2024-06-18T02:18:56.682Z"
   },
   {
    "duration": 7,
    "start_time": "2024-06-18T02:18:56.722Z"
   },
   {
    "duration": 6,
    "start_time": "2024-06-18T02:18:56.733Z"
   },
   {
    "duration": 449,
    "start_time": "2024-06-18T02:18:56.742Z"
   },
   {
    "duration": 556,
    "start_time": "2024-06-18T02:18:57.202Z"
   },
   {
    "duration": 8,
    "start_time": "2024-06-18T02:18:57.761Z"
   },
   {
    "duration": 314,
    "start_time": "2024-06-18T02:18:57.772Z"
   },
   {
    "duration": 349,
    "start_time": "2024-06-18T02:18:58.089Z"
   },
   {
    "duration": 578,
    "start_time": "2024-06-18T02:18:58.441Z"
   },
   {
    "duration": 360,
    "start_time": "2024-06-18T02:18:59.023Z"
   },
   {
    "duration": 358,
    "start_time": "2024-06-18T02:18:59.388Z"
   },
   {
    "duration": 585,
    "start_time": "2024-06-18T02:18:59.749Z"
   },
   {
    "duration": 442,
    "start_time": "2024-06-18T02:19:00.337Z"
   },
   {
    "duration": 377,
    "start_time": "2024-06-18T02:19:00.782Z"
   },
   {
    "duration": 591,
    "start_time": "2024-06-18T02:19:01.162Z"
   },
   {
    "duration": 7,
    "start_time": "2024-06-18T02:19:01.757Z"
   },
   {
    "duration": 10,
    "start_time": "2024-06-18T02:19:01.767Z"
   },
   {
    "duration": 22,
    "start_time": "2024-06-18T02:19:01.803Z"
   },
   {
    "duration": 1346,
    "start_time": "2024-06-18T02:19:48.213Z"
   },
   {
    "duration": 276,
    "start_time": "2024-06-18T02:19:49.562Z"
   },
   {
    "duration": 22,
    "start_time": "2024-06-18T02:19:49.841Z"
   },
   {
    "duration": 36,
    "start_time": "2024-06-18T02:19:49.867Z"
   },
   {
    "duration": 20,
    "start_time": "2024-06-18T02:19:49.905Z"
   },
   {
    "duration": 30,
    "start_time": "2024-06-18T02:19:49.927Z"
   },
   {
    "duration": 46,
    "start_time": "2024-06-18T02:19:49.961Z"
   },
   {
    "duration": 31,
    "start_time": "2024-06-18T02:19:50.010Z"
   },
   {
    "duration": 88,
    "start_time": "2024-06-18T02:19:50.044Z"
   },
   {
    "duration": 124,
    "start_time": "2024-06-18T02:19:50.139Z"
   },
   {
    "duration": 36,
    "start_time": "2024-06-18T02:19:50.265Z"
   },
   {
    "duration": 37,
    "start_time": "2024-06-18T02:19:50.304Z"
   },
   {
    "duration": 20,
    "start_time": "2024-06-18T02:19:50.344Z"
   },
   {
    "duration": 56,
    "start_time": "2024-06-18T02:19:50.367Z"
   },
   {
    "duration": 46,
    "start_time": "2024-06-18T02:19:50.427Z"
   },
   {
    "duration": 48,
    "start_time": "2024-06-18T02:19:50.476Z"
   },
   {
    "duration": 9,
    "start_time": "2024-06-18T02:19:50.527Z"
   },
   {
    "duration": 135,
    "start_time": "2024-06-18T02:19:50.539Z"
   },
   {
    "duration": 107,
    "start_time": "2024-06-18T02:19:50.677Z"
   },
   {
    "duration": 63,
    "start_time": "2024-06-18T02:19:50.790Z"
   },
   {
    "duration": 91,
    "start_time": "2024-06-18T02:19:50.856Z"
   },
   {
    "duration": 54,
    "start_time": "2024-06-18T02:19:50.950Z"
   },
   {
    "duration": 30,
    "start_time": "2024-06-18T02:19:51.009Z"
   },
   {
    "duration": 21,
    "start_time": "2024-06-18T02:19:51.043Z"
   },
   {
    "duration": 6,
    "start_time": "2024-06-18T02:19:51.067Z"
   },
   {
    "duration": 7,
    "start_time": "2024-06-18T02:19:51.103Z"
   },
   {
    "duration": 428,
    "start_time": "2024-06-18T02:19:51.113Z"
   },
   {
    "duration": 602,
    "start_time": "2024-06-18T02:19:51.548Z"
   },
   {
    "duration": 8,
    "start_time": "2024-06-18T02:19:52.153Z"
   },
   {
    "duration": 327,
    "start_time": "2024-06-18T02:19:52.164Z"
   },
   {
    "duration": 337,
    "start_time": "2024-06-18T02:19:52.503Z"
   },
   {
    "duration": 586,
    "start_time": "2024-06-18T02:19:52.843Z"
   },
   {
    "duration": 347,
    "start_time": "2024-06-18T02:19:53.431Z"
   },
   {
    "duration": 369,
    "start_time": "2024-06-18T02:19:53.781Z"
   },
   {
    "duration": 580,
    "start_time": "2024-06-18T02:19:54.152Z"
   },
   {
    "duration": 445,
    "start_time": "2024-06-18T02:19:54.736Z"
   },
   {
    "duration": 356,
    "start_time": "2024-06-18T02:19:55.184Z"
   },
   {
    "duration": 622,
    "start_time": "2024-06-18T02:19:55.543Z"
   },
   {
    "duration": 9,
    "start_time": "2024-06-18T02:19:56.171Z"
   },
   {
    "duration": 20,
    "start_time": "2024-06-18T02:19:56.185Z"
   },
   {
    "duration": 27,
    "start_time": "2024-06-18T02:19:56.209Z"
   }
  ],
  "colab": {
   "provenance": []
  },
  "kernelspec": {
   "display_name": "Python 3 (ipykernel)",
   "language": "python",
   "name": "python3"
  },
  "language_info": {
   "codemirror_mode": {
    "name": "ipython",
    "version": 3
   },
   "file_extension": ".py",
   "mimetype": "text/x-python",
   "name": "python",
   "nbconvert_exporter": "python",
   "pygments_lexer": "ipython3",
   "version": "3.12.4"
  },
  "toc": {
   "base_numbering": "1",
   "nav_menu": {
    "height": "560.99px",
    "width": "558.073px"
   },
   "number_sections": true,
   "sideBar": true,
   "skip_h1_title": true,
   "title_cell": "Table of Contents",
   "title_sidebar": "Contents",
   "toc_cell": true,
   "toc_position": {
    "height": "494.438px",
    "left": "1210px",
    "top": "67.125px",
    "width": "535px"
   },
   "toc_section_display": true,
   "toc_window_display": false
  }
 },
 "nbformat": 4,
 "nbformat_minor": 1
}
